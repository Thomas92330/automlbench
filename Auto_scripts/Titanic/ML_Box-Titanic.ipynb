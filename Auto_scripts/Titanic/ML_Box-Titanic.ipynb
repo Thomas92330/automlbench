{
 "cells": [
  {
   "cell_type": "code",
   "execution_count": 1,
   "metadata": {
    "scrolled": true
   },
   "outputs": [
    {
     "name": "stdout",
     "output_type": "stream",
     "text": [
      "\n",
      "reading csv : train.csv ...\n",
      "cleaning data ...\n",
      "CPU time: 0.14305758476257324 seconds\n",
      "\n",
      "reading csv : x_test.csv ...\n",
      "cleaning data ...\n",
      "CPU time: 0.05038189888000488 seconds\n",
      "\n",
      "> Number of common features : 17\n",
      "\n",
      "gathering and crunching for train and test datasets ...\n",
      "reindexing for train and test datasets ...\n",
      "dropping training duplicates ...\n",
      "dropping constant variables on training set ...\n",
      "\n",
      "> Number of categorical features: 0\n",
      "> Number of numerical features: 17\n",
      "> Number of training samples : 596\n",
      "> Number of test samples : 295\n",
      "\n",
      "> You have no missing values on train set...\n",
      "\n",
      "> Task : classification\n",
      "0.0    355\n",
      "1.0    241\n",
      "Name: Survived, dtype: int64\n",
      "\n",
      "encoding target ...\n",
      "\n",
      "computing drifts ...\n",
      "CPU time: 0.4463634490966797 seconds\n",
      "\n",
      "> Top 10 drifts\n",
      "\n",
      "('Age', 0.08351279474242057)\n",
      "('SibSp', 0.05880442146022191)\n",
      "('Fare', 0.057527600192988526)\n",
      "('Sex_male', 0.05660923901575865)\n",
      "('Title_Mr', 0.04619353636611545)\n",
      "('PassengerId', 0.045880809243704856)\n",
      "('Title_Master', 0.03666179876630493)\n",
      "('Embarked_C', 0.027148416050621238)\n",
      "('Title_Mrs', 0.025684961087645508)\n",
      "('Sex_female', 0.02508372295045369)\n",
      "\n",
      "> Deleted variables : []\n",
      "> Drift coefficients dumped into directory : save\n",
      "No parameters set. Default configuration is tested\n",
      "\n",
      "##################################################### testing hyper-parameters... #####################################################\n",
      "\n",
      ">>> NA ENCODER :{'numerical_strategy': 'mean', 'categorical_strategy': '<NULL>'}\n",
      "\n",
      ">>> CA ENCODER :{'strategy': 'label_encoding'}\n",
      "\n",
      ">>> ESTIMATOR :{'strategy': 'LightGBM', 'boosting_type': 'gbdt', 'class_weight': None, 'colsample_bytree': 0.8, 'importance_type': 'split', 'learning_rate': 0.05, 'max_depth': -1, 'min_child_samples': 20, 'min_child_weight': 0.001, 'min_split_gain': 0.0, 'n_estimators': 500, 'n_jobs': -1, 'num_leaves': 31, 'objective': None, 'random_state': None, 'reg_alpha': 0.0, 'reg_lambda': 0.0, 'silent': True, 'subsample': 0.9, 'subsample_for_bin': 200000, 'subsample_freq': 0, 'nthread': -1, 'seed': 0}\n",
      "\n"
     ]
    },
    {
     "name": "stderr",
     "output_type": "stream",
     "text": [
      "/opt/conda/lib/python3.7/site-packages/mlbox/optimisation/optimiser.py:74: UserWarning: Optimiser will save all your fitted models into directory 'save/joblib'. Please clear it regularly.\n",
      "  +str(self.to_path)+\"/joblib'. Please clear it regularly.\")\n"
     ]
    },
    {
     "name": "stdout",
     "output_type": "stream",
     "text": [
      "\n",
      "MEAN SCORE : accuracy = 0.7852139485305315\n",
      "VARIANCE : 0.020466045505150618 (fold 1 = 0.8140703517587939, fold 2 = 0.7688442211055276, fold 3 = 0.7727272727272727)\n",
      "CPU time: 1.145263910293579 seconds\n",
      "\n"
     ]
    }
   ],
   "source": [
    "#Classification\n",
    "from mlbox.preprocessing import Reader\n",
    "from mlbox.preprocessing import Drift_thresholder\n",
    "from mlbox.optimisation import Optimiser\n",
    "from mlbox.prediction import Predictor\n",
    "import csv \n",
    "\n",
    "\n",
    "# Paths to the train set and the test set.\n",
    "paths = [\"../../Data/titanic/processed/train.csv\",\"../../Data/titanic/processed/x_test.csv\"]\n",
    "# Name of the feature to predict.\n",
    "# This columns should only be present in the train set.\n",
    "target_name = \"Survived\"\n",
    "\n",
    "# Reading and cleaning all files\n",
    "# Declare a reader for csv files\n",
    "rd = Reader(sep=',')\n",
    "# Return a dictionnary containing three entries\n",
    "# dict[\"train\"] contains training samples withtout target columns\n",
    "# dict[\"test\"] contains testing elements withtout target columns\n",
    "# dict[\"target\"] contains target columns for training samples.\n",
    "data = rd.train_test_split(paths, target_name)\n",
    "\n",
    "dft = Drift_thresholder()\n",
    "data = dft.fit_transform(data)\n",
    "\n",
    "# Tuning\n",
    "# Declare an optimiser. Scoring possibilities for classification lie in :\n",
    "# {\"accuracy\", \"roc_auc\", \"f1\", \"neg_log_loss\", \"precision\", \"recall\"}\n",
    "opt = Optimiser(scoring='accuracy', n_folds=3)\n",
    "opt.evaluate(None, data)\n",
    "\n",
    "# Space of hyperparameters\n",
    "# The keys must respect the following syntax : \"enc__param\".\n",
    "#   \"enc\" = \"ne\" for na encoder\n",
    "#   \"enc\" = \"ce\" for categorical encoder\n",
    "#   \"enc\" = \"fs\" for feature selector [OPTIONAL]\n",
    "#   \"enc\" = \"stck\"+str(i) to add layer n°i of meta-features [OPTIONAL]\n",
    "#   \"enc\" = \"est\" for the final estimator\n",
    "#   \"param\" : a correct associated parameter for each step.\n",
    "#   Ex: \"max_depth\" for \"enc\"=\"est\", ...\n",
    "# The values must respect the syntax: {\"search\":strategy,\"space\":list}\n",
    "#   \"strategy\" = \"choice\" or \"uniform\". Default = \"choice\"\n",
    "#   list : a list of values to be tested if strategy=\"choice\".\n",
    "#   Else, list = [value_min, value_max].\n",
    "# Available strategies for ne_numerical_strategy are either an integer, a float\n",
    "#   or in {'mean', 'median', \"most_frequent\"}\n",
    "# Available strategies for ce_strategy are:\n",
    "#   {\"label_encoding\", \"dummification\", \"random_projection\", entity_embedding\"}\n",
    "space = {'ne__numerical_strategy': {\"search\": \"choice\", \"space\": [0]},\n",
    "         'ce__strategy': {\"search\": \"choice\",\n",
    "                          \"space\": [\"label_encoding\",\n",
    "                                    \"random_projection\",\n",
    "                                    \"entity_embedding\"]},\n",
    "         'fs__threshold': {\"search\": \"uniform\",\n",
    "                           \"space\": [0.01, 0.3]},\n",
    "         'est__max_depth': {\"search\": \"choice\",\n",
    "                            \"space\": [3, 4, 5, 6, 7]}\n",
    "\n",
    "         }\n",
    "\n",
    "\n",
    "#\n"
   ]
  },
  {
   "cell_type": "code",
   "execution_count": 2,
   "metadata": {},
   "outputs": [
    {
     "name": "stdout",
     "output_type": "stream",
     "text": [
      "##################################################### testing hyper-parameters... #####################################################\n",
      ">>> NA ENCODER :{'numerical_strategy': 0, 'categorical_strategy': '<NULL>'}\n",
      ">>> CA ENCODER :{'strategy': 'entity_embedding'}      \n",
      ">>> FEATURE SELECTOR :{'strategy': 'l1', 'threshold': 0.2634696989628652}\n",
      ">>> ESTIMATOR :{'strategy': 'LightGBM', 'max_depth': 4, 'boosting_type': 'gbdt', 'class_weight': None, 'colsample_bytree': 0.8, 'importance_type': 'split', 'learning_rate': 0.05, 'min_child_samples': 20, 'min_child_weight': 0.001, 'min_split_gain': 0.0, 'n_estimators': 500, 'n_jobs': -1, 'num_leaves': 31, 'objective': None, 'random_state': None, 'reg_alpha': 0.0, 'reg_lambda': 0.0, 'silent': True, 'subsample': 0.9, 'subsample_for_bin': 200000, 'subsample_freq': 0, 'nthread': -1, 'seed': 0}\n",
      "  0%|          | 0/40 [00:00<?, ?trial/s, best loss=?]"
     ]
    },
    {
     "name": "stderr",
     "output_type": "stream",
     "text": [
      "/opt/conda/lib/python3.7/site-packages/sklearn/linear_model/_sag.py:330: ConvergenceWarning: The max_iter was reached which means the coef_ did not converge\n",
      "  \"the coef_ did not converge\", ConvergenceWarning)\n",
      "\n"
     ]
    },
    {
     "name": "stdout",
     "output_type": "stream",
     "text": [
      "MEAN SCORE : accuracy = 0.7868551511767592            \n",
      "VARIANCE : 0.047673159561935845 (fold 1 = 0.8542713567839196, fold 2 = 0.7537688442211056, fold 3 = 0.7525252525252525)\n",
      "CPU time: 1.8632047176361084 seconds                  \n",
      "##################################################### testing hyper-parameters... #####################################################\n",
      ">>> NA ENCODER :{'numerical_strategy': 0, 'categorical_strategy': '<NULL>'}      \n",
      ">>> CA ENCODER :{'strategy': 'label_encoding'}                                   \n",
      ">>> FEATURE SELECTOR :{'strategy': 'l1', 'threshold': 0.23419186577138557}       \n",
      ">>> ESTIMATOR :{'strategy': 'LightGBM', 'max_depth': 3, 'boosting_type': 'gbdt', 'class_weight': None, 'colsample_bytree': 0.8, 'importance_type': 'split', 'learning_rate': 0.05, 'min_child_samples': 20, 'min_child_weight': 0.001, 'min_split_gain': 0.0, 'n_estimators': 500, 'n_jobs': -1, 'num_leaves': 31, 'objective': None, 'random_state': None, 'reg_alpha': 0.0, 'reg_lambda': 0.0, 'silent': True, 'subsample': 0.9, 'subsample_for_bin': 200000, 'subsample_freq': 0, 'nthread': -1, 'seed': 0}\n",
      "                                                                                 "
     ]
    },
    {
     "name": "stderr",
     "output_type": "stream",
     "text": [
      "/opt/conda/lib/python3.7/site-packages/sklearn/linear_model/_sag.py:330: ConvergenceWarning: The max_iter was reached which means the coef_ did not converge\n",
      "  \"the coef_ did not converge\", ConvergenceWarning)\n",
      "\n"
     ]
    },
    {
     "name": "stdout",
     "output_type": "stream",
     "text": [
      "MEAN SCORE : accuracy = 0.8086476151802785\n",
      "VARIANCE : 0.03960086924490679 (fold 1 = 0.8592964824120602, fold 2 = 0.8040201005025126, fold 3 = 0.7626262626262627)\n",
      "CPU time: 0.8350939750671387 seconds                                             \n",
      "##################################################### testing hyper-parameters... #####################################################\n",
      ">>> NA ENCODER :{'numerical_strategy': 0, 'categorical_strategy': '<NULL>'}      \n",
      ">>> CA ENCODER :{'strategy': 'label_encoding'}                                   \n",
      ">>> FEATURE SELECTOR :{'strategy': 'l1', 'threshold': 0.2649965268974138}        \n",
      ">>> ESTIMATOR :{'strategy': 'LightGBM', 'max_depth': 5, 'boosting_type': 'gbdt', 'class_weight': None, 'colsample_bytree': 0.8, 'importance_type': 'split', 'learning_rate': 0.05, 'min_child_samples': 20, 'min_child_weight': 0.001, 'min_split_gain': 0.0, 'n_estimators': 500, 'n_jobs': -1, 'num_leaves': 31, 'objective': None, 'random_state': None, 'reg_alpha': 0.0, 'reg_lambda': 0.0, 'silent': True, 'subsample': 0.9, 'subsample_for_bin': 200000, 'subsample_freq': 0, 'nthread': -1, 'seed': 0}\n",
      "  5%|▌         | 2/40 [00:02<01:00,  1.59s/trial, best loss: -0.8086476151802785]"
     ]
    },
    {
     "name": "stderr",
     "output_type": "stream",
     "text": [
      "/opt/conda/lib/python3.7/site-packages/sklearn/linear_model/_sag.py:330: ConvergenceWarning: The max_iter was reached which means the coef_ did not converge\n",
      "  \"the coef_ did not converge\", ConvergenceWarning)\n",
      "\n"
     ]
    },
    {
     "name": "stdout",
     "output_type": "stream",
     "text": [
      "MEAN SCORE : accuracy = 0.7835135272321202                                       \n",
      "VARIANCE : 0.03582359182955599 (fold 1 = 0.8341708542713567, fold 2 = 0.7587939698492462, fold 3 = 0.7575757575757576)\n",
      "CPU time: 1.0156376361846924 seconds                                             \n",
      "##################################################### testing hyper-parameters... #####################################################\n",
      ">>> NA ENCODER :{'numerical_strategy': 0, 'categorical_strategy': '<NULL>'}      \n",
      ">>> CA ENCODER :{'strategy': 'label_encoding'}                                   \n",
      ">>> FEATURE SELECTOR :{'strategy': 'l1', 'threshold': 0.08186461819097045}       \n",
      ">>> ESTIMATOR :{'strategy': 'LightGBM', 'max_depth': 7, 'boosting_type': 'gbdt', 'class_weight': None, 'colsample_bytree': 0.8, 'importance_type': 'split', 'learning_rate': 0.05, 'min_child_samples': 20, 'min_child_weight': 0.001, 'min_split_gain': 0.0, 'n_estimators': 500, 'n_jobs': -1, 'num_leaves': 31, 'objective': None, 'random_state': None, 'reg_alpha': 0.0, 'reg_lambda': 0.0, 'silent': True, 'subsample': 0.9, 'subsample_for_bin': 200000, 'subsample_freq': 0, 'nthread': -1, 'seed': 0}\n",
      "  8%|▊         | 3/40 [00:03<00:52,  1.43s/trial, best loss: -0.8086476151802785]"
     ]
    },
    {
     "name": "stderr",
     "output_type": "stream",
     "text": [
      "/opt/conda/lib/python3.7/site-packages/sklearn/linear_model/_sag.py:330: ConvergenceWarning: The max_iter was reached which means the coef_ did not converge\n",
      "  \"the coef_ did not converge\", ConvergenceWarning)\n",
      "\n"
     ]
    },
    {
     "name": "stdout",
     "output_type": "stream",
     "text": [
      "MEAN SCORE : accuracy = 0.7751383178518857                                       \n",
      "VARIANCE : 0.027572940786441902 (fold 1 = 0.8140703517587939, fold 2 = 0.7537688442211056, fold 3 = 0.7575757575757576)\n",
      "CPU time: 1.2702183723449707 seconds                                             \n",
      "##################################################### testing hyper-parameters... #####################################################\n",
      ">>> NA ENCODER :{'numerical_strategy': 0, 'categorical_strategy': '<NULL>'}      \n",
      ">>> CA ENCODER :{'strategy': 'random_projection'}                                \n",
      ">>> FEATURE SELECTOR :{'strategy': 'l1', 'threshold': 0.13020289101493723}       \n",
      ">>> ESTIMATOR :{'strategy': 'LightGBM', 'max_depth': 7, 'boosting_type': 'gbdt', 'class_weight': None, 'colsample_bytree': 0.8, 'importance_type': 'split', 'learning_rate': 0.05, 'min_child_samples': 20, 'min_child_weight': 0.001, 'min_split_gain': 0.0, 'n_estimators': 500, 'n_jobs': -1, 'num_leaves': 31, 'objective': None, 'random_state': None, 'reg_alpha': 0.0, 'reg_lambda': 0.0, 'silent': True, 'subsample': 0.9, 'subsample_for_bin': 200000, 'subsample_freq': 0, 'nthread': -1, 'seed': 0}\n",
      " 10%|█         | 4/40 [00:05<00:50,  1.39s/trial, best loss: -0.8086476151802785]"
     ]
    },
    {
     "name": "stderr",
     "output_type": "stream",
     "text": [
      "/opt/conda/lib/python3.7/site-packages/sklearn/linear_model/_sag.py:330: ConvergenceWarning: The max_iter was reached which means the coef_ did not converge\n",
      "  \"the coef_ did not converge\", ConvergenceWarning)\n",
      "\n"
     ]
    },
    {
     "name": "stdout",
     "output_type": "stream",
     "text": [
      "MEAN SCORE : accuracy = 0.7751383178518857                                       \n",
      "VARIANCE : 0.027572940786441902 (fold 1 = 0.8140703517587939, fold 2 = 0.7537688442211056, fold 3 = 0.7575757575757576)\n",
      "CPU time: 1.3422694206237793 seconds                                             \n",
      "##################################################### testing hyper-parameters... #####################################################\n",
      ">>> NA ENCODER :{'numerical_strategy': 0, 'categorical_strategy': '<NULL>'}      \n",
      ">>> CA ENCODER :{'strategy': 'random_projection'}                                \n",
      ">>> FEATURE SELECTOR :{'strategy': 'l1', 'threshold': 0.09632553721028365}       \n",
      ">>> ESTIMATOR :{'strategy': 'LightGBM', 'max_depth': 3, 'boosting_type': 'gbdt', 'class_weight': None, 'colsample_bytree': 0.8, 'importance_type': 'split', 'learning_rate': 0.05, 'min_child_samples': 20, 'min_child_weight': 0.001, 'min_split_gain': 0.0, 'n_estimators': 500, 'n_jobs': -1, 'num_leaves': 31, 'objective': None, 'random_state': None, 'reg_alpha': 0.0, 'reg_lambda': 0.0, 'silent': True, 'subsample': 0.9, 'subsample_for_bin': 200000, 'subsample_freq': 0, 'nthread': -1, 'seed': 0}\n",
      " 12%|█▎        | 5/40 [00:06<00:48,  1.39s/trial, best loss: -0.8086476151802785]"
     ]
    },
    {
     "name": "stderr",
     "output_type": "stream",
     "text": [
      "/opt/conda/lib/python3.7/site-packages/sklearn/linear_model/_sag.py:330: ConvergenceWarning: The max_iter was reached which means the coef_ did not converge\n",
      "  \"the coef_ did not converge\", ConvergenceWarning)\n",
      "\n"
     ]
    },
    {
     "name": "stdout",
     "output_type": "stream",
     "text": [
      "MEAN SCORE : accuracy = 0.8086476151802785                                       \n",
      "VARIANCE : 0.03960086924490679 (fold 1 = 0.8592964824120602, fold 2 = 0.8040201005025126, fold 3 = 0.7626262626262627)\n",
      "CPU time: 0.8913254737854004 seconds                                             \n",
      "##################################################### testing hyper-parameters... #####################################################\n",
      ">>> NA ENCODER :{'numerical_strategy': 0, 'categorical_strategy': '<NULL>'}      \n",
      ">>> CA ENCODER :{'strategy': 'random_projection'}                                \n",
      ">>> FEATURE SELECTOR :{'strategy': 'l1', 'threshold': 0.2675048530440292}        \n",
      ">>> ESTIMATOR :{'strategy': 'LightGBM', 'max_depth': 6, 'boosting_type': 'gbdt', 'class_weight': None, 'colsample_bytree': 0.8, 'importance_type': 'split', 'learning_rate': 0.05, 'min_child_samples': 20, 'min_child_weight': 0.001, 'min_split_gain': 0.0, 'n_estimators': 500, 'n_jobs': -1, 'num_leaves': 31, 'objective': None, 'random_state': None, 'reg_alpha': 0.0, 'reg_lambda': 0.0, 'silent': True, 'subsample': 0.9, 'subsample_for_bin': 200000, 'subsample_freq': 0, 'nthread': -1, 'seed': 0}\n",
      " 15%|█▌        | 6/40 [00:07<00:42,  1.25s/trial, best loss: -0.8086476151802785]"
     ]
    },
    {
     "name": "stderr",
     "output_type": "stream",
     "text": [
      "/opt/conda/lib/python3.7/site-packages/sklearn/linear_model/_sag.py:330: ConvergenceWarning: The max_iter was reached which means the coef_ did not converge\n",
      "  \"the coef_ did not converge\", ConvergenceWarning)\n",
      "\n"
     ]
    },
    {
     "name": "stdout",
     "output_type": "stream",
     "text": [
      "MEAN SCORE : accuracy = 0.7835304468470298                                       \n",
      "VARIANCE : 0.03275080694905349 (fold 1 = 0.8291457286432161, fold 2 = 0.7537688442211056, fold 3 = 0.7676767676767676)\n",
      "CPU time: 1.2664132118225098 seconds                                             \n",
      "##################################################### testing hyper-parameters... #####################################################\n",
      ">>> NA ENCODER :{'numerical_strategy': 0, 'categorical_strategy': '<NULL>'}      \n",
      ">>> CA ENCODER :{'strategy': 'random_projection'}                                \n",
      ">>> FEATURE SELECTOR :{'strategy': 'l1', 'threshold': 0.09967492440005199}       \n",
      ">>> ESTIMATOR :{'strategy': 'LightGBM', 'max_depth': 3, 'boosting_type': 'gbdt', 'class_weight': None, 'colsample_bytree': 0.8, 'importance_type': 'split', 'learning_rate': 0.05, 'min_child_samples': 20, 'min_child_weight': 0.001, 'min_split_gain': 0.0, 'n_estimators': 500, 'n_jobs': -1, 'num_leaves': 31, 'objective': None, 'random_state': None, 'reg_alpha': 0.0, 'reg_lambda': 0.0, 'silent': True, 'subsample': 0.9, 'subsample_for_bin': 200000, 'subsample_freq': 0, 'nthread': -1, 'seed': 0}\n",
      " 18%|█▊        | 7/40 [00:08<00:41,  1.27s/trial, best loss: -0.8086476151802785]"
     ]
    },
    {
     "name": "stderr",
     "output_type": "stream",
     "text": [
      "/opt/conda/lib/python3.7/site-packages/sklearn/linear_model/_sag.py:330: ConvergenceWarning: The max_iter was reached which means the coef_ did not converge\n",
      "  \"the coef_ did not converge\", ConvergenceWarning)\n",
      "\n"
     ]
    },
    {
     "name": "stdout",
     "output_type": "stream",
     "text": [
      "MEAN SCORE : accuracy = 0.8086476151802785                                       \n",
      "VARIANCE : 0.03960086924490679 (fold 1 = 0.8592964824120602, fold 2 = 0.8040201005025126, fold 3 = 0.7626262626262627)\n",
      "CPU time: 0.8189256191253662 seconds                                             \n",
      "##################################################### testing hyper-parameters... #####################################################\n",
      ">>> NA ENCODER :{'numerical_strategy': 0, 'categorical_strategy': '<NULL>'}      \n",
      ">>> CA ENCODER :{'strategy': 'label_encoding'}                                   \n",
      ">>> FEATURE SELECTOR :{'strategy': 'l1', 'threshold': 0.20737813344518016}       \n",
      ">>> ESTIMATOR :{'strategy': 'LightGBM', 'max_depth': 6, 'boosting_type': 'gbdt', 'class_weight': None, 'colsample_bytree': 0.8, 'importance_type': 'split', 'learning_rate': 0.05, 'min_child_samples': 20, 'min_child_weight': 0.001, 'min_split_gain': 0.0, 'n_estimators': 500, 'n_jobs': -1, 'num_leaves': 31, 'objective': None, 'random_state': None, 'reg_alpha': 0.0, 'reg_lambda': 0.0, 'silent': True, 'subsample': 0.9, 'subsample_for_bin': 200000, 'subsample_freq': 0, 'nthread': -1, 'seed': 0}\n",
      " 20%|██        | 8/40 [00:09<00:36,  1.15s/trial, best loss: -0.8086476151802785]"
     ]
    },
    {
     "name": "stderr",
     "output_type": "stream",
     "text": [
      "/opt/conda/lib/python3.7/site-packages/sklearn/linear_model/_sag.py:330: ConvergenceWarning: The max_iter was reached which means the coef_ did not converge\n",
      "  \"the coef_ did not converge\", ConvergenceWarning)\n",
      "\n"
     ]
    },
    {
     "name": "stdout",
     "output_type": "stream",
     "text": [
      "MEAN SCORE : accuracy = 0.7835304468470298                                       \n",
      "VARIANCE : 0.03275080694905349 (fold 1 = 0.8291457286432161, fold 2 = 0.7537688442211056, fold 3 = 0.7676767676767676)\n",
      "CPU time: 1.2562165260314941 seconds                                             \n",
      "##################################################### testing hyper-parameters... #####################################################\n",
      ">>> NA ENCODER :{'numerical_strategy': 0, 'categorical_strategy': '<NULL>'}      \n",
      ">>> CA ENCODER :{'strategy': 'entity_embedding'}                                 \n",
      ">>> FEATURE SELECTOR :{'strategy': 'l1', 'threshold': 0.03384116980850445}       \n",
      ">>> ESTIMATOR :{'strategy': 'LightGBM', 'max_depth': 4, 'boosting_type': 'gbdt', 'class_weight': None, 'colsample_bytree': 0.8, 'importance_type': 'split', 'learning_rate': 0.05, 'min_child_samples': 20, 'min_child_weight': 0.001, 'min_split_gain': 0.0, 'n_estimators': 500, 'n_jobs': -1, 'num_leaves': 31, 'objective': None, 'random_state': None, 'reg_alpha': 0.0, 'reg_lambda': 0.0, 'silent': True, 'subsample': 0.9, 'subsample_for_bin': 200000, 'subsample_freq': 0, 'nthread': -1, 'seed': 0}\n",
      " 22%|██▎       | 9/40 [00:10<00:36,  1.19s/trial, best loss: -0.8086476151802785]"
     ]
    },
    {
     "name": "stderr",
     "output_type": "stream",
     "text": [
      "/opt/conda/lib/python3.7/site-packages/sklearn/linear_model/_sag.py:330: ConvergenceWarning: The max_iter was reached which means the coef_ did not converge\n",
      "  \"the coef_ did not converge\", ConvergenceWarning)\n",
      "\n"
     ]
    },
    {
     "name": "stdout",
     "output_type": "stream",
     "text": [
      "MEAN SCORE : accuracy = 0.7868551511767592                                       \n",
      "VARIANCE : 0.047673159561935845 (fold 1 = 0.8542713567839196, fold 2 = 0.7537688442211056, fold 3 = 0.7525252525252525)\n",
      "CPU time: 1.7143354415893555 seconds                                             \n",
      "##################################################### testing hyper-parameters... #####################################################\n",
      ">>> NA ENCODER :{'numerical_strategy': 0, 'categorical_strategy': '<NULL>'}       \n",
      ">>> CA ENCODER :{'strategy': 'label_encoding'}                                    \n",
      ">>> FEATURE SELECTOR :{'strategy': 'l1', 'threshold': 0.019309171379853912}       \n",
      ">>> ESTIMATOR :{'strategy': 'LightGBM', 'max_depth': 3, 'boosting_type': 'gbdt', 'class_weight': None, 'colsample_bytree': 0.8, 'importance_type': 'split', 'learning_rate': 0.05, 'min_child_samples': 20, 'min_child_weight': 0.001, 'min_split_gain': 0.0, 'n_estimators': 500, 'n_jobs': -1, 'num_leaves': 31, 'objective': None, 'random_state': None, 'reg_alpha': 0.0, 'reg_lambda': 0.0, 'silent': True, 'subsample': 0.9, 'subsample_for_bin': 200000, 'subsample_freq': 0, 'nthread': -1, 'seed': 0}\n",
      "                                                                                  \r"
     ]
    },
    {
     "name": "stderr",
     "output_type": "stream",
     "text": [
      "/opt/conda/lib/python3.7/site-packages/sklearn/linear_model/_sag.py:330: ConvergenceWarning: The max_iter was reached which means the coef_ did not converge\n",
      "  \"the coef_ did not converge\", ConvergenceWarning)\n",
      "\n"
     ]
    },
    {
     "name": "stdout",
     "output_type": "stream",
     "text": [
      "MEAN SCORE : accuracy = 0.8086476151802785\n",
      "VARIANCE : 0.03960086924490679 (fold 1 = 0.8592964824120602, fold 2 = 0.8040201005025126, fold 3 = 0.7626262626262627)\n",
      "CPU time: 0.799170732498169 seconds                                               \n",
      "##################################################### testing hyper-parameters... #####################################################\n",
      ">>> NA ENCODER :{'numerical_strategy': 0, 'categorical_strategy': '<NULL>'}       \n",
      ">>> CA ENCODER :{'strategy': 'entity_embedding'}                                  \n",
      ">>> FEATURE SELECTOR :{'strategy': 'l1', 'threshold': 0.26225828827273096}        \n",
      ">>> ESTIMATOR :{'strategy': 'LightGBM', 'max_depth': 6, 'boosting_type': 'gbdt', 'class_weight': None, 'colsample_bytree': 0.8, 'importance_type': 'split', 'learning_rate': 0.05, 'min_child_samples': 20, 'min_child_weight': 0.001, 'min_split_gain': 0.0, 'n_estimators': 500, 'n_jobs': -1, 'num_leaves': 31, 'objective': None, 'random_state': None, 'reg_alpha': 0.0, 'reg_lambda': 0.0, 'silent': True, 'subsample': 0.9, 'subsample_for_bin': 200000, 'subsample_freq': 0, 'nthread': -1, 'seed': 0}\n",
      " 28%|██▊       | 11/40 [00:13<00:34,  1.20s/trial, best loss: -0.8086476151802785]"
     ]
    },
    {
     "name": "stderr",
     "output_type": "stream",
     "text": [
      "/opt/conda/lib/python3.7/site-packages/sklearn/linear_model/_sag.py:330: ConvergenceWarning: The max_iter was reached which means the coef_ did not converge\n",
      "  \"the coef_ did not converge\", ConvergenceWarning)\n",
      "\n"
     ]
    },
    {
     "name": "stdout",
     "output_type": "stream",
     "text": [
      "MEAN SCORE : accuracy = 0.7835304468470298                                        \n",
      "VARIANCE : 0.03275080694905349 (fold 1 = 0.8291457286432161, fold 2 = 0.7537688442211056, fold 3 = 0.7676767676767676)\n",
      "CPU time: 1.6052095890045166 seconds                                              \n",
      "##################################################### testing hyper-parameters... #####################################################\n",
      ">>> NA ENCODER :{'numerical_strategy': 0, 'categorical_strategy': '<NULL>'}       \n",
      ">>> CA ENCODER :{'strategy': 'entity_embedding'}                                  \n",
      ">>> FEATURE SELECTOR :{'strategy': 'l1', 'threshold': 0.2494958717951565}         \n",
      ">>> ESTIMATOR :{'strategy': 'LightGBM', 'max_depth': 4, 'boosting_type': 'gbdt', 'class_weight': None, 'colsample_bytree': 0.8, 'importance_type': 'split', 'learning_rate': 0.05, 'min_child_samples': 20, 'min_child_weight': 0.001, 'min_split_gain': 0.0, 'n_estimators': 500, 'n_jobs': -1, 'num_leaves': 31, 'objective': None, 'random_state': None, 'reg_alpha': 0.0, 'reg_lambda': 0.0, 'silent': True, 'subsample': 0.9, 'subsample_for_bin': 200000, 'subsample_freq': 0, 'nthread': -1, 'seed': 0}\n",
      " 30%|███       | 12/40 [00:15<00:37,  1.34s/trial, best loss: -0.8086476151802785]"
     ]
    },
    {
     "name": "stderr",
     "output_type": "stream",
     "text": [
      "/opt/conda/lib/python3.7/site-packages/sklearn/linear_model/_sag.py:330: ConvergenceWarning: The max_iter was reached which means the coef_ did not converge\n",
      "  \"the coef_ did not converge\", ConvergenceWarning)\n",
      "\n"
     ]
    },
    {
     "name": "stdout",
     "output_type": "stream",
     "text": [
      "MEAN SCORE : accuracy = 0.7868551511767592                                        \n",
      "VARIANCE : 0.047673159561935845 (fold 1 = 0.8542713567839196, fold 2 = 0.7537688442211056, fold 3 = 0.7525252525252525)\n",
      "CPU time: 1.429107666015625 seconds                                               \n",
      "##################################################### testing hyper-parameters... #####################################################\n",
      ">>> NA ENCODER :{'numerical_strategy': 0, 'categorical_strategy': '<NULL>'}       \n",
      ">>> CA ENCODER :{'strategy': 'label_encoding'}                                    \n",
      ">>> FEATURE SELECTOR :{'strategy': 'l1', 'threshold': 0.0630208461318841}         \n",
      ">>> ESTIMATOR :{'strategy': 'LightGBM', 'max_depth': 5, 'boosting_type': 'gbdt', 'class_weight': None, 'colsample_bytree': 0.8, 'importance_type': 'split', 'learning_rate': 0.05, 'min_child_samples': 20, 'min_child_weight': 0.001, 'min_split_gain': 0.0, 'n_estimators': 500, 'n_jobs': -1, 'num_leaves': 31, 'objective': None, 'random_state': None, 'reg_alpha': 0.0, 'reg_lambda': 0.0, 'silent': True, 'subsample': 0.9, 'subsample_for_bin': 200000, 'subsample_freq': 0, 'nthread': -1, 'seed': 0}\n",
      " 32%|███▎      | 13/40 [00:16<00:37,  1.38s/trial, best loss: -0.8086476151802785]"
     ]
    },
    {
     "name": "stderr",
     "output_type": "stream",
     "text": [
      "/opt/conda/lib/python3.7/site-packages/sklearn/linear_model/_sag.py:330: ConvergenceWarning: The max_iter was reached which means the coef_ did not converge\n",
      "  \"the coef_ did not converge\", ConvergenceWarning)\n",
      "\n"
     ]
    },
    {
     "name": "stdout",
     "output_type": "stream",
     "text": [
      "MEAN SCORE : accuracy = 0.7835135272321202                                        \n",
      "VARIANCE : 0.03582359182955599 (fold 1 = 0.8341708542713567, fold 2 = 0.7587939698492462, fold 3 = 0.7575757575757576)\n",
      "CPU time: 1.1675705909729004 seconds                                              \n",
      "##################################################### testing hyper-parameters... #####################################################\n",
      ">>> NA ENCODER :{'numerical_strategy': 0, 'categorical_strategy': '<NULL>'}       \n",
      ">>> CA ENCODER :{'strategy': 'label_encoding'}                                    \n",
      ">>> FEATURE SELECTOR :{'strategy': 'l1', 'threshold': 0.26119107524159674}        \n",
      ">>> ESTIMATOR :{'strategy': 'LightGBM', 'max_depth': 7, 'boosting_type': 'gbdt', 'class_weight': None, 'colsample_bytree': 0.8, 'importance_type': 'split', 'learning_rate': 0.05, 'min_child_samples': 20, 'min_child_weight': 0.001, 'min_split_gain': 0.0, 'n_estimators': 500, 'n_jobs': -1, 'num_leaves': 31, 'objective': None, 'random_state': None, 'reg_alpha': 0.0, 'reg_lambda': 0.0, 'silent': True, 'subsample': 0.9, 'subsample_for_bin': 200000, 'subsample_freq': 0, 'nthread': -1, 'seed': 0}\n",
      " 35%|███▌      | 14/40 [00:17<00:34,  1.33s/trial, best loss: -0.8086476151802785]"
     ]
    },
    {
     "name": "stderr",
     "output_type": "stream",
     "text": [
      "/opt/conda/lib/python3.7/site-packages/sklearn/linear_model/_sag.py:330: ConvergenceWarning: The max_iter was reached which means the coef_ did not converge\n",
      "  \"the coef_ did not converge\", ConvergenceWarning)\n",
      "\n"
     ]
    },
    {
     "name": "stdout",
     "output_type": "stream",
     "text": [
      "MEAN SCORE : accuracy = 0.7751383178518857                                        \n",
      "VARIANCE : 0.027572940786441902 (fold 1 = 0.8140703517587939, fold 2 = 0.7537688442211056, fold 3 = 0.7575757575757576)\n",
      "CPU time: 1.4048516750335693 seconds                                              \n",
      "##################################################### testing hyper-parameters... #####################################################\n",
      ">>> NA ENCODER :{'numerical_strategy': 0, 'categorical_strategy': '<NULL>'}       \n",
      ">>> CA ENCODER :{'strategy': 'random_projection'}                                 \n",
      ">>> FEATURE SELECTOR :{'strategy': 'l1', 'threshold': 0.025231240582734786}       \n",
      ">>> ESTIMATOR :{'strategy': 'LightGBM', 'max_depth': 4, 'boosting_type': 'gbdt', 'class_weight': None, 'colsample_bytree': 0.8, 'importance_type': 'split', 'learning_rate': 0.05, 'min_child_samples': 20, 'min_child_weight': 0.001, 'min_split_gain': 0.0, 'n_estimators': 500, 'n_jobs': -1, 'num_leaves': 31, 'objective': None, 'random_state': None, 'reg_alpha': 0.0, 'reg_lambda': 0.0, 'silent': True, 'subsample': 0.9, 'subsample_for_bin': 200000, 'subsample_freq': 0, 'nthread': -1, 'seed': 0}\n",
      " 38%|███▊      | 15/40 [00:19<00:34,  1.36s/trial, best loss: -0.8086476151802785]"
     ]
    },
    {
     "name": "stderr",
     "output_type": "stream",
     "text": [
      "/opt/conda/lib/python3.7/site-packages/sklearn/linear_model/_sag.py:330: ConvergenceWarning: The max_iter was reached which means the coef_ did not converge\n",
      "  \"the coef_ did not converge\", ConvergenceWarning)\n",
      "\n"
     ]
    },
    {
     "name": "stdout",
     "output_type": "stream",
     "text": [
      "MEAN SCORE : accuracy = 0.7868551511767592                                        \n",
      "VARIANCE : 0.047673159561935845 (fold 1 = 0.8542713567839196, fold 2 = 0.7537688442211056, fold 3 = 0.7525252525252525)\n",
      "CPU time: 0.9900834560394287 seconds                                              \n",
      "##################################################### testing hyper-parameters... #####################################################\n",
      ">>> NA ENCODER :{'numerical_strategy': 0, 'categorical_strategy': '<NULL>'}       \n",
      ">>> CA ENCODER :{'strategy': 'label_encoding'}                                    \n",
      ">>> FEATURE SELECTOR :{'strategy': 'l1', 'threshold': 0.17214876191556502}        \n",
      ">>> ESTIMATOR :{'strategy': 'LightGBM', 'max_depth': 6, 'boosting_type': 'gbdt', 'class_weight': None, 'colsample_bytree': 0.8, 'importance_type': 'split', 'learning_rate': 0.05, 'min_child_samples': 20, 'min_child_weight': 0.001, 'min_split_gain': 0.0, 'n_estimators': 500, 'n_jobs': -1, 'num_leaves': 31, 'objective': None, 'random_state': None, 'reg_alpha': 0.0, 'reg_lambda': 0.0, 'silent': True, 'subsample': 0.9, 'subsample_for_bin': 200000, 'subsample_freq': 0, 'nthread': -1, 'seed': 0}\n",
      " 40%|████      | 16/40 [00:20<00:30,  1.26s/trial, best loss: -0.8086476151802785]"
     ]
    },
    {
     "name": "stderr",
     "output_type": "stream",
     "text": [
      "/opt/conda/lib/python3.7/site-packages/sklearn/linear_model/_sag.py:330: ConvergenceWarning: The max_iter was reached which means the coef_ did not converge\n",
      "  \"the coef_ did not converge\", ConvergenceWarning)\n",
      "\n"
     ]
    },
    {
     "name": "stdout",
     "output_type": "stream",
     "text": [
      "MEAN SCORE : accuracy = 0.7835304468470298                                        \n",
      "VARIANCE : 0.03275080694905349 (fold 1 = 0.8291457286432161, fold 2 = 0.7537688442211056, fold 3 = 0.7676767676767676)\n",
      "CPU time: 1.2119967937469482 seconds                                              \n",
      "##################################################### testing hyper-parameters... #####################################################\n",
      ">>> NA ENCODER :{'numerical_strategy': 0, 'categorical_strategy': '<NULL>'}       \n",
      ">>> CA ENCODER :{'strategy': 'random_projection'}                                 \n",
      ">>> FEATURE SELECTOR :{'strategy': 'l1', 'threshold': 0.2999682814499579}         \n",
      ">>> ESTIMATOR :{'strategy': 'LightGBM', 'max_depth': 5, 'boosting_type': 'gbdt', 'class_weight': None, 'colsample_bytree': 0.8, 'importance_type': 'split', 'learning_rate': 0.05, 'min_child_samples': 20, 'min_child_weight': 0.001, 'min_split_gain': 0.0, 'n_estimators': 500, 'n_jobs': -1, 'num_leaves': 31, 'objective': None, 'random_state': None, 'reg_alpha': 0.0, 'reg_lambda': 0.0, 'silent': True, 'subsample': 0.9, 'subsample_for_bin': 200000, 'subsample_freq': 0, 'nthread': -1, 'seed': 0}\n",
      " 42%|████▎     | 17/40 [00:21<00:28,  1.26s/trial, best loss: -0.8086476151802785]"
     ]
    },
    {
     "name": "stderr",
     "output_type": "stream",
     "text": [
      "/opt/conda/lib/python3.7/site-packages/sklearn/linear_model/_sag.py:330: ConvergenceWarning: The max_iter was reached which means the coef_ did not converge\n",
      "  \"the coef_ did not converge\", ConvergenceWarning)\n",
      "\n"
     ]
    },
    {
     "name": "stdout",
     "output_type": "stream",
     "text": [
      "MEAN SCORE : accuracy = 0.7835135272321202                                        \n",
      "VARIANCE : 0.03582359182955599 (fold 1 = 0.8341708542713567, fold 2 = 0.7587939698492462, fold 3 = 0.7575757575757576)\n",
      "CPU time: 1.1336381435394287 seconds                                              \n",
      "##################################################### testing hyper-parameters... #####################################################\n",
      ">>> NA ENCODER :{'numerical_strategy': 0, 'categorical_strategy': '<NULL>'}       \n",
      ">>> CA ENCODER :{'strategy': 'label_encoding'}                                    \n",
      ">>> FEATURE SELECTOR :{'strategy': 'l1', 'threshold': 0.09877022475374662}        \n",
      ">>> ESTIMATOR :{'strategy': 'LightGBM', 'max_depth': 6, 'boosting_type': 'gbdt', 'class_weight': None, 'colsample_bytree': 0.8, 'importance_type': 'split', 'learning_rate': 0.05, 'min_child_samples': 20, 'min_child_weight': 0.001, 'min_split_gain': 0.0, 'n_estimators': 500, 'n_jobs': -1, 'num_leaves': 31, 'objective': None, 'random_state': None, 'reg_alpha': 0.0, 'reg_lambda': 0.0, 'silent': True, 'subsample': 0.9, 'subsample_for_bin': 200000, 'subsample_freq': 0, 'nthread': -1, 'seed': 0}\n",
      " 45%|████▌     | 18/40 [00:22<00:27,  1.23s/trial, best loss: -0.8086476151802785]"
     ]
    },
    {
     "name": "stderr",
     "output_type": "stream",
     "text": [
      "/opt/conda/lib/python3.7/site-packages/sklearn/linear_model/_sag.py:330: ConvergenceWarning: The max_iter was reached which means the coef_ did not converge\n",
      "  \"the coef_ did not converge\", ConvergenceWarning)\n",
      "\n"
     ]
    },
    {
     "name": "stdout",
     "output_type": "stream",
     "text": [
      "MEAN SCORE : accuracy = 0.7835304468470298                                        \n",
      "VARIANCE : 0.03275080694905349 (fold 1 = 0.8291457286432161, fold 2 = 0.7537688442211056, fold 3 = 0.7676767676767676)\n",
      "CPU time: 1.1559176445007324 seconds                                              \n",
      "##################################################### testing hyper-parameters... #####################################################\n",
      ">>> NA ENCODER :{'numerical_strategy': 0, 'categorical_strategy': '<NULL>'}       \n",
      ">>> CA ENCODER :{'strategy': 'label_encoding'}                                    \n",
      ">>> FEATURE SELECTOR :{'strategy': 'l1', 'threshold': 0.2525628106306941}         \n",
      ">>> ESTIMATOR :{'strategy': 'LightGBM', 'max_depth': 7, 'boosting_type': 'gbdt', 'class_weight': None, 'colsample_bytree': 0.8, 'importance_type': 'split', 'learning_rate': 0.05, 'min_child_samples': 20, 'min_child_weight': 0.001, 'min_split_gain': 0.0, 'n_estimators': 500, 'n_jobs': -1, 'num_leaves': 31, 'objective': None, 'random_state': None, 'reg_alpha': 0.0, 'reg_lambda': 0.0, 'silent': True, 'subsample': 0.9, 'subsample_for_bin': 200000, 'subsample_freq': 0, 'nthread': -1, 'seed': 0}\n",
      " 48%|████▊     | 19/40 [00:23<00:25,  1.22s/trial, best loss: -0.8086476151802785]"
     ]
    },
    {
     "name": "stderr",
     "output_type": "stream",
     "text": [
      "/opt/conda/lib/python3.7/site-packages/sklearn/linear_model/_sag.py:330: ConvergenceWarning: The max_iter was reached which means the coef_ did not converge\n",
      "  \"the coef_ did not converge\", ConvergenceWarning)\n",
      "\n"
     ]
    },
    {
     "name": "stdout",
     "output_type": "stream",
     "text": [
      "MEAN SCORE : accuracy = 0.7751383178518857                                        \n",
      "VARIANCE : 0.027572940786441902 (fold 1 = 0.8140703517587939, fold 2 = 0.7537688442211056, fold 3 = 0.7575757575757576)\n",
      "CPU time: 1.3218951225280762 seconds                                              \n",
      "##################################################### testing hyper-parameters... #####################################################\n",
      ">>> NA ENCODER :{'numerical_strategy': 0, 'categorical_strategy': '<NULL>'}       \n",
      ">>> CA ENCODER :{'strategy': 'label_encoding'}                                    \n",
      ">>> FEATURE SELECTOR :{'strategy': 'l1', 'threshold': 0.195305112953771}          \n",
      ">>> ESTIMATOR :{'strategy': 'LightGBM', 'max_depth': 3, 'boosting_type': 'gbdt', 'class_weight': None, 'colsample_bytree': 0.8, 'importance_type': 'split', 'learning_rate': 0.05, 'min_child_samples': 20, 'min_child_weight': 0.001, 'min_split_gain': 0.0, 'n_estimators': 500, 'n_jobs': -1, 'num_leaves': 31, 'objective': None, 'random_state': None, 'reg_alpha': 0.0, 'reg_lambda': 0.0, 'silent': True, 'subsample': 0.9, 'subsample_for_bin': 200000, 'subsample_freq': 0, 'nthread': -1, 'seed': 0}\n",
      " 50%|█████     | 20/40 [00:25<00:25,  1.27s/trial, best loss: -0.8086476151802785]"
     ]
    },
    {
     "name": "stderr",
     "output_type": "stream",
     "text": [
      "/opt/conda/lib/python3.7/site-packages/sklearn/linear_model/_sag.py:330: ConvergenceWarning: The max_iter was reached which means the coef_ did not converge\n",
      "  \"the coef_ did not converge\", ConvergenceWarning)\n",
      "\n"
     ]
    },
    {
     "name": "stdout",
     "output_type": "stream",
     "text": [
      "MEAN SCORE : accuracy = 0.8086476151802785                                        \n",
      "VARIANCE : 0.03960086924490679 (fold 1 = 0.8592964824120602, fold 2 = 0.8040201005025126, fold 3 = 0.7626262626262627)\n",
      "CPU time: 1.0931386947631836 seconds                                              \n",
      "##################################################### testing hyper-parameters... #####################################################\n",
      ">>> NA ENCODER :{'numerical_strategy': 0, 'categorical_strategy': '<NULL>'}       \n",
      ">>> CA ENCODER :{'strategy': 'random_projection'}                                 \n",
      ">>> FEATURE SELECTOR :{'strategy': 'l1', 'threshold': 0.010363946352361032}       \n",
      ">>> ESTIMATOR :{'strategy': 'LightGBM', 'max_depth': 3, 'boosting_type': 'gbdt', 'class_weight': None, 'colsample_bytree': 0.8, 'importance_type': 'split', 'learning_rate': 0.05, 'min_child_samples': 20, 'min_child_weight': 0.001, 'min_split_gain': 0.0, 'n_estimators': 500, 'n_jobs': -1, 'num_leaves': 31, 'objective': None, 'random_state': None, 'reg_alpha': 0.0, 'reg_lambda': 0.0, 'silent': True, 'subsample': 0.9, 'subsample_for_bin': 200000, 'subsample_freq': 0, 'nthread': -1, 'seed': 0}\n",
      " 52%|█████▎    | 21/40 [00:26<00:23,  1.26s/trial, best loss: -0.8086476151802785]"
     ]
    },
    {
     "name": "stderr",
     "output_type": "stream",
     "text": [
      "/opt/conda/lib/python3.7/site-packages/sklearn/linear_model/_sag.py:330: ConvergenceWarning: The max_iter was reached which means the coef_ did not converge\n",
      "  \"the coef_ did not converge\", ConvergenceWarning)\n",
      "\n"
     ]
    },
    {
     "name": "stdout",
     "output_type": "stream",
     "text": [
      "MEAN SCORE : accuracy = 0.8086476151802785                                        \n",
      "VARIANCE : 0.03960086924490679 (fold 1 = 0.8592964824120602, fold 2 = 0.8040201005025126, fold 3 = 0.7626262626262627)\n",
      "CPU time: 0.8693196773529053 seconds                                              \n",
      "##################################################### testing hyper-parameters... #####################################################\n",
      ">>> NA ENCODER :{'numerical_strategy': 0, 'categorical_strategy': '<NULL>'}       \n",
      ">>> CA ENCODER :{'strategy': 'label_encoding'}                                    \n",
      ">>> FEATURE SELECTOR :{'strategy': 'l1', 'threshold': 0.18071356204936015}        \n",
      ">>> ESTIMATOR :{'strategy': 'LightGBM', 'max_depth': 3, 'boosting_type': 'gbdt', 'class_weight': None, 'colsample_bytree': 0.8, 'importance_type': 'split', 'learning_rate': 0.05, 'min_child_samples': 20, 'min_child_weight': 0.001, 'min_split_gain': 0.0, 'n_estimators': 500, 'n_jobs': -1, 'num_leaves': 31, 'objective': None, 'random_state': None, 'reg_alpha': 0.0, 'reg_lambda': 0.0, 'silent': True, 'subsample': 0.9, 'subsample_for_bin': 200000, 'subsample_freq': 0, 'nthread': -1, 'seed': 0}\n",
      " 55%|█████▌    | 22/40 [00:27<00:20,  1.16s/trial, best loss: -0.8086476151802785]"
     ]
    },
    {
     "name": "stderr",
     "output_type": "stream",
     "text": [
      "/opt/conda/lib/python3.7/site-packages/sklearn/linear_model/_sag.py:330: ConvergenceWarning: The max_iter was reached which means the coef_ did not converge\n",
      "  \"the coef_ did not converge\", ConvergenceWarning)\n",
      "\n"
     ]
    },
    {
     "name": "stdout",
     "output_type": "stream",
     "text": [
      "MEAN SCORE : accuracy = 0.8086476151802785                                        \n",
      "VARIANCE : 0.03960086924490679 (fold 1 = 0.8592964824120602, fold 2 = 0.8040201005025126, fold 3 = 0.7626262626262627)\n",
      "CPU time: 0.9469726085662842 seconds                                              \n",
      "##################################################### testing hyper-parameters... #####################################################\n",
      ">>> NA ENCODER :{'numerical_strategy': 0, 'categorical_strategy': '<NULL>'}       \n",
      ">>> CA ENCODER :{'strategy': 'label_encoding'}                                    \n",
      ">>> FEATURE SELECTOR :{'strategy': 'l1', 'threshold': 0.21870440749185832}        \n",
      ">>> ESTIMATOR :{'strategy': 'LightGBM', 'max_depth': 3, 'boosting_type': 'gbdt', 'class_weight': None, 'colsample_bytree': 0.8, 'importance_type': 'split', 'learning_rate': 0.05, 'min_child_samples': 20, 'min_child_weight': 0.001, 'min_split_gain': 0.0, 'n_estimators': 500, 'n_jobs': -1, 'num_leaves': 31, 'objective': None, 'random_state': None, 'reg_alpha': 0.0, 'reg_lambda': 0.0, 'silent': True, 'subsample': 0.9, 'subsample_for_bin': 200000, 'subsample_freq': 0, 'nthread': -1, 'seed': 0}\n",
      " 57%|█████▊    | 23/40 [00:28<00:18,  1.11s/trial, best loss: -0.8086476151802785]"
     ]
    },
    {
     "name": "stderr",
     "output_type": "stream",
     "text": [
      "/opt/conda/lib/python3.7/site-packages/sklearn/linear_model/_sag.py:330: ConvergenceWarning: The max_iter was reached which means the coef_ did not converge\n",
      "  \"the coef_ did not converge\", ConvergenceWarning)\n",
      "\n"
     ]
    },
    {
     "name": "stdout",
     "output_type": "stream",
     "text": [
      "MEAN SCORE : accuracy = 0.8086476151802785                                        \n",
      "VARIANCE : 0.03960086924490679 (fold 1 = 0.8592964824120602, fold 2 = 0.8040201005025126, fold 3 = 0.7626262626262627)\n",
      "CPU time: 0.937861442565918 seconds                                               \n",
      "##################################################### testing hyper-parameters... #####################################################\n",
      ">>> NA ENCODER :{'numerical_strategy': 0, 'categorical_strategy': '<NULL>'}       \n",
      ">>> CA ENCODER :{'strategy': 'label_encoding'}                                    \n",
      ">>> FEATURE SELECTOR :{'strategy': 'l1', 'threshold': 0.22443571751879623}        \n",
      ">>> ESTIMATOR :{'strategy': 'LightGBM', 'max_depth': 3, 'boosting_type': 'gbdt', 'class_weight': None, 'colsample_bytree': 0.8, 'importance_type': 'split', 'learning_rate': 0.05, 'min_child_samples': 20, 'min_child_weight': 0.001, 'min_split_gain': 0.0, 'n_estimators': 500, 'n_jobs': -1, 'num_leaves': 31, 'objective': None, 'random_state': None, 'reg_alpha': 0.0, 'reg_lambda': 0.0, 'silent': True, 'subsample': 0.9, 'subsample_for_bin': 200000, 'subsample_freq': 0, 'nthread': -1, 'seed': 0}\n",
      "                                                                                  \r"
     ]
    },
    {
     "name": "stderr",
     "output_type": "stream",
     "text": [
      "/opt/conda/lib/python3.7/site-packages/sklearn/linear_model/_sag.py:330: ConvergenceWarning: The max_iter was reached which means the coef_ did not converge\n",
      "  \"the coef_ did not converge\", ConvergenceWarning)\n",
      "\n"
     ]
    },
    {
     "name": "stdout",
     "output_type": "stream",
     "text": [
      "MEAN SCORE : accuracy = 0.8086476151802785\n",
      "VARIANCE : 0.03960086924490679 (fold 1 = 0.8592964824120602, fold 2 = 0.8040201005025126, fold 3 = 0.7626262626262627)\n",
      "CPU time: 0.7981162071228027 seconds                                              \n",
      "##################################################### testing hyper-parameters... #####################################################\n",
      ">>> NA ENCODER :{'numerical_strategy': 0, 'categorical_strategy': '<NULL>'}       \n",
      ">>> CA ENCODER :{'strategy': 'label_encoding'}                                    \n",
      ">>> FEATURE SELECTOR :{'strategy': 'l1', 'threshold': 0.29603788656479274}        \n",
      ">>> ESTIMATOR :{'strategy': 'LightGBM', 'max_depth': 3, 'boosting_type': 'gbdt', 'class_weight': None, 'colsample_bytree': 0.8, 'importance_type': 'split', 'learning_rate': 0.05, 'min_child_samples': 20, 'min_child_weight': 0.001, 'min_split_gain': 0.0, 'n_estimators': 500, 'n_jobs': -1, 'num_leaves': 31, 'objective': None, 'random_state': None, 'reg_alpha': 0.0, 'reg_lambda': 0.0, 'silent': True, 'subsample': 0.9, 'subsample_for_bin': 200000, 'subsample_freq': 0, 'nthread': -1, 'seed': 0}\n",
      " 62%|██████▎   | 25/40 [00:30<00:15,  1.00s/trial, best loss: -0.8086476151802785]"
     ]
    },
    {
     "name": "stderr",
     "output_type": "stream",
     "text": [
      "/opt/conda/lib/python3.7/site-packages/sklearn/linear_model/_sag.py:330: ConvergenceWarning: The max_iter was reached which means the coef_ did not converge\n",
      "  \"the coef_ did not converge\", ConvergenceWarning)\n",
      "\n"
     ]
    },
    {
     "name": "stdout",
     "output_type": "stream",
     "text": [
      "MEAN SCORE : accuracy = 0.8086476151802785                                        \n",
      "VARIANCE : 0.03960086924490679 (fold 1 = 0.8592964824120602, fold 2 = 0.8040201005025126, fold 3 = 0.7626262626262627)\n",
      "CPU time: 0.9136815071105957 seconds                                              \n",
      "##################################################### testing hyper-parameters... #####################################################\n",
      ">>> NA ENCODER :{'numerical_strategy': 0, 'categorical_strategy': '<NULL>'}       \n",
      ">>> CA ENCODER :{'strategy': 'label_encoding'}                                    \n",
      ">>> FEATURE SELECTOR :{'strategy': 'l1', 'threshold': 0.2973589103876797}         \n",
      ">>> ESTIMATOR :{'strategy': 'LightGBM', 'max_depth': 3, 'boosting_type': 'gbdt', 'class_weight': None, 'colsample_bytree': 0.8, 'importance_type': 'split', 'learning_rate': 0.05, 'min_child_samples': 20, 'min_child_weight': 0.001, 'min_split_gain': 0.0, 'n_estimators': 500, 'n_jobs': -1, 'num_leaves': 31, 'objective': None, 'random_state': None, 'reg_alpha': 0.0, 'reg_lambda': 0.0, 'silent': True, 'subsample': 0.9, 'subsample_for_bin': 200000, 'subsample_freq': 0, 'nthread': -1, 'seed': 0}\n",
      "                                                                                  \r"
     ]
    },
    {
     "name": "stderr",
     "output_type": "stream",
     "text": [
      "/opt/conda/lib/python3.7/site-packages/sklearn/linear_model/_sag.py:330: ConvergenceWarning: The max_iter was reached which means the coef_ did not converge\n",
      "  \"the coef_ did not converge\", ConvergenceWarning)\n",
      "\n"
     ]
    },
    {
     "name": "stdout",
     "output_type": "stream",
     "text": [
      "MEAN SCORE : accuracy = 0.8086476151802785\n",
      "VARIANCE : 0.03960086924490679 (fold 1 = 0.8592964824120602, fold 2 = 0.8040201005025126, fold 3 = 0.7626262626262627)\n",
      "CPU time: 0.854882001876831 seconds                                               \n",
      "##################################################### testing hyper-parameters... #####################################################\n",
      ">>> NA ENCODER :{'numerical_strategy': 0, 'categorical_strategy': '<NULL>'}       \n",
      ">>> CA ENCODER :{'strategy': 'entity_embedding'}                                  \n",
      ">>> FEATURE SELECTOR :{'strategy': 'l1', 'threshold': 0.28959508866826644}        \n",
      ">>> ESTIMATOR :{'strategy': 'LightGBM', 'max_depth': 3, 'boosting_type': 'gbdt', 'class_weight': None, 'colsample_bytree': 0.8, 'importance_type': 'split', 'learning_rate': 0.05, 'min_child_samples': 20, 'min_child_weight': 0.001, 'min_split_gain': 0.0, 'n_estimators': 500, 'n_jobs': -1, 'num_leaves': 31, 'objective': None, 'random_state': None, 'reg_alpha': 0.0, 'reg_lambda': 0.0, 'silent': True, 'subsample': 0.9, 'subsample_for_bin': 200000, 'subsample_freq': 0, 'nthread': -1, 'seed': 0}\n",
      " 68%|██████▊   | 27/40 [00:32<00:12,  1.03trial/s, best loss: -0.8086476151802785]"
     ]
    },
    {
     "name": "stderr",
     "output_type": "stream",
     "text": [
      "/opt/conda/lib/python3.7/site-packages/sklearn/linear_model/_sag.py:330: ConvergenceWarning: The max_iter was reached which means the coef_ did not converge\n",
      "  \"the coef_ did not converge\", ConvergenceWarning)\n",
      "\n"
     ]
    },
    {
     "name": "stdout",
     "output_type": "stream",
     "text": [
      "MEAN SCORE : accuracy = 0.8086476151802785                                        \n",
      "VARIANCE : 0.03960086924490679 (fold 1 = 0.8592964824120602, fold 2 = 0.8040201005025126, fold 3 = 0.7626262626262627)\n",
      "CPU time: 1.529015064239502 seconds                                               \n",
      "##################################################### testing hyper-parameters... #####################################################\n",
      ">>> NA ENCODER :{'numerical_strategy': 0, 'categorical_strategy': '<NULL>'}       \n",
      ">>> CA ENCODER :{'strategy': 'entity_embedding'}                                  \n",
      ">>> FEATURE SELECTOR :{'strategy': 'l1', 'threshold': 0.1396409502681157}         \n",
      ">>> ESTIMATOR :{'strategy': 'LightGBM', 'max_depth': 3, 'boosting_type': 'gbdt', 'class_weight': None, 'colsample_bytree': 0.8, 'importance_type': 'split', 'learning_rate': 0.05, 'min_child_samples': 20, 'min_child_weight': 0.001, 'min_split_gain': 0.0, 'n_estimators': 500, 'n_jobs': -1, 'num_leaves': 31, 'objective': None, 'random_state': None, 'reg_alpha': 0.0, 'reg_lambda': 0.0, 'silent': True, 'subsample': 0.9, 'subsample_for_bin': 200000, 'subsample_freq': 0, 'nthread': -1, 'seed': 0}\n",
      " 70%|███████   | 28/40 [00:33<00:13,  1.15s/trial, best loss: -0.8086476151802785]"
     ]
    },
    {
     "name": "stderr",
     "output_type": "stream",
     "text": [
      "/opt/conda/lib/python3.7/site-packages/sklearn/linear_model/_sag.py:330: ConvergenceWarning: The max_iter was reached which means the coef_ did not converge\n",
      "  \"the coef_ did not converge\", ConvergenceWarning)\n",
      "\n"
     ]
    },
    {
     "name": "stdout",
     "output_type": "stream",
     "text": [
      "MEAN SCORE : accuracy = 0.8086476151802785                                        \n",
      "VARIANCE : 0.03960086924490679 (fold 1 = 0.8592964824120602, fold 2 = 0.8040201005025126, fold 3 = 0.7626262626262627)\n",
      "CPU time: 1.2107043266296387 seconds                                              \n",
      "##################################################### testing hyper-parameters... #####################################################\n",
      ">>> NA ENCODER :{'numerical_strategy': 0, 'categorical_strategy': '<NULL>'}       \n",
      ">>> CA ENCODER :{'strategy': 'entity_embedding'}                                  \n",
      ">>> FEATURE SELECTOR :{'strategy': 'l1', 'threshold': 0.14303433748796257}        \n",
      ">>> ESTIMATOR :{'strategy': 'LightGBM', 'max_depth': 3, 'boosting_type': 'gbdt', 'class_weight': None, 'colsample_bytree': 0.8, 'importance_type': 'split', 'learning_rate': 0.05, 'min_child_samples': 20, 'min_child_weight': 0.001, 'min_split_gain': 0.0, 'n_estimators': 500, 'n_jobs': -1, 'num_leaves': 31, 'objective': None, 'random_state': None, 'reg_alpha': 0.0, 'reg_lambda': 0.0, 'silent': True, 'subsample': 0.9, 'subsample_for_bin': 200000, 'subsample_freq': 0, 'nthread': -1, 'seed': 0}\n",
      " 72%|███████▎  | 29/40 [00:35<00:13,  1.19s/trial, best loss: -0.8086476151802785]"
     ]
    },
    {
     "name": "stderr",
     "output_type": "stream",
     "text": [
      "/opt/conda/lib/python3.7/site-packages/sklearn/linear_model/_sag.py:330: ConvergenceWarning: The max_iter was reached which means the coef_ did not converge\n",
      "  \"the coef_ did not converge\", ConvergenceWarning)\n",
      "\n"
     ]
    },
    {
     "name": "stdout",
     "output_type": "stream",
     "text": [
      "MEAN SCORE : accuracy = 0.8086476151802785                                        \n",
      "VARIANCE : 0.03960086924490679 (fold 1 = 0.8592964824120602, fold 2 = 0.8040201005025126, fold 3 = 0.7626262626262627)\n",
      "CPU time: 1.3029811382293701 seconds                                              \n",
      "##################################################### testing hyper-parameters... #####################################################\n",
      ">>> NA ENCODER :{'numerical_strategy': 0, 'categorical_strategy': '<NULL>'}       \n",
      ">>> CA ENCODER :{'strategy': 'entity_embedding'}                                  \n",
      ">>> FEATURE SELECTOR :{'strategy': 'l1', 'threshold': 0.15260503140601106}        \n",
      ">>> ESTIMATOR :{'strategy': 'LightGBM', 'max_depth': 5, 'boosting_type': 'gbdt', 'class_weight': None, 'colsample_bytree': 0.8, 'importance_type': 'split', 'learning_rate': 0.05, 'min_child_samples': 20, 'min_child_weight': 0.001, 'min_split_gain': 0.0, 'n_estimators': 500, 'n_jobs': -1, 'num_leaves': 31, 'objective': None, 'random_state': None, 'reg_alpha': 0.0, 'reg_lambda': 0.0, 'silent': True, 'subsample': 0.9, 'subsample_for_bin': 200000, 'subsample_freq': 0, 'nthread': -1, 'seed': 0}\n",
      " 75%|███████▌  | 30/40 [00:36<00:12,  1.24s/trial, best loss: -0.8086476151802785]"
     ]
    },
    {
     "name": "stderr",
     "output_type": "stream",
     "text": [
      "/opt/conda/lib/python3.7/site-packages/sklearn/linear_model/_sag.py:330: ConvergenceWarning: The max_iter was reached which means the coef_ did not converge\n",
      "  \"the coef_ did not converge\", ConvergenceWarning)\n",
      "\n"
     ]
    },
    {
     "name": "stdout",
     "output_type": "stream",
     "text": [
      "MEAN SCORE : accuracy = 0.7835135272321202                                        \n",
      "VARIANCE : 0.03582359182955599 (fold 1 = 0.8341708542713567, fold 2 = 0.7587939698492462, fold 3 = 0.7575757575757576)\n",
      "CPU time: 1.5359423160552979 seconds                                              \n",
      "##################################################### testing hyper-parameters... #####################################################\n",
      ">>> NA ENCODER :{'numerical_strategy': 0, 'categorical_strategy': '<NULL>'}       \n",
      ">>> CA ENCODER :{'strategy': 'entity_embedding'}                                  \n",
      ">>> FEATURE SELECTOR :{'strategy': 'l1', 'threshold': 0.12583726831581166}        \n",
      ">>> ESTIMATOR :{'strategy': 'LightGBM', 'max_depth': 4, 'boosting_type': 'gbdt', 'class_weight': None, 'colsample_bytree': 0.8, 'importance_type': 'split', 'learning_rate': 0.05, 'min_child_samples': 20, 'min_child_weight': 0.001, 'min_split_gain': 0.0, 'n_estimators': 500, 'n_jobs': -1, 'num_leaves': 31, 'objective': None, 'random_state': None, 'reg_alpha': 0.0, 'reg_lambda': 0.0, 'silent': True, 'subsample': 0.9, 'subsample_for_bin': 200000, 'subsample_freq': 0, 'nthread': -1, 'seed': 0}\n",
      " 78%|███████▊  | 31/40 [00:38<00:12,  1.34s/trial, best loss: -0.8086476151802785]"
     ]
    },
    {
     "name": "stderr",
     "output_type": "stream",
     "text": [
      "/opt/conda/lib/python3.7/site-packages/sklearn/linear_model/_sag.py:330: ConvergenceWarning: The max_iter was reached which means the coef_ did not converge\n",
      "  \"the coef_ did not converge\", ConvergenceWarning)\n",
      "\n"
     ]
    },
    {
     "name": "stdout",
     "output_type": "stream",
     "text": [
      "MEAN SCORE : accuracy = 0.7868551511767592                                        \n",
      "VARIANCE : 0.047673159561935845 (fold 1 = 0.8542713567839196, fold 2 = 0.7537688442211056, fold 3 = 0.7525252525252525)\n",
      "CPU time: 1.541126012802124 seconds                                               \n",
      "##################################################### testing hyper-parameters... #####################################################\n",
      ">>> NA ENCODER :{'numerical_strategy': 0, 'categorical_strategy': '<NULL>'}       \n",
      ">>> CA ENCODER :{'strategy': 'entity_embedding'}                                  \n",
      ">>> FEATURE SELECTOR :{'strategy': 'l1', 'threshold': 0.23040968494244957}        \n",
      ">>> ESTIMATOR :{'strategy': 'LightGBM', 'max_depth': 5, 'boosting_type': 'gbdt', 'class_weight': None, 'colsample_bytree': 0.8, 'importance_type': 'split', 'learning_rate': 0.05, 'min_child_samples': 20, 'min_child_weight': 0.001, 'min_split_gain': 0.0, 'n_estimators': 500, 'n_jobs': -1, 'num_leaves': 31, 'objective': None, 'random_state': None, 'reg_alpha': 0.0, 'reg_lambda': 0.0, 'silent': True, 'subsample': 0.9, 'subsample_for_bin': 200000, 'subsample_freq': 0, 'nthread': -1, 'seed': 0}\n",
      " 80%|████████  | 32/40 [00:39<00:11,  1.43s/trial, best loss: -0.8086476151802785]"
     ]
    },
    {
     "name": "stderr",
     "output_type": "stream",
     "text": [
      "/opt/conda/lib/python3.7/site-packages/sklearn/linear_model/_sag.py:330: ConvergenceWarning: The max_iter was reached which means the coef_ did not converge\n",
      "  \"the coef_ did not converge\", ConvergenceWarning)\n",
      "\n"
     ]
    },
    {
     "name": "stdout",
     "output_type": "stream",
     "text": [
      "MEAN SCORE : accuracy = 0.7835135272321202                                        \n",
      "VARIANCE : 0.03582359182955599 (fold 1 = 0.8341708542713567, fold 2 = 0.7587939698492462, fold 3 = 0.7575757575757576)\n",
      "CPU time: 1.460597038269043 seconds                                               \n",
      "##################################################### testing hyper-parameters... #####################################################\n",
      ">>> NA ENCODER :{'numerical_strategy': 0, 'categorical_strategy': '<NULL>'}       \n",
      ">>> CA ENCODER :{'strategy': 'label_encoding'}                                    \n",
      ">>> FEATURE SELECTOR :{'strategy': 'l1', 'threshold': 0.19469461238573463}        \n",
      ">>> ESTIMATOR :{'strategy': 'LightGBM', 'max_depth': 7, 'boosting_type': 'gbdt', 'class_weight': None, 'colsample_bytree': 0.8, 'importance_type': 'split', 'learning_rate': 0.05, 'min_child_samples': 20, 'min_child_weight': 0.001, 'min_split_gain': 0.0, 'n_estimators': 500, 'n_jobs': -1, 'num_leaves': 31, 'objective': None, 'random_state': None, 'reg_alpha': 0.0, 'reg_lambda': 0.0, 'silent': True, 'subsample': 0.9, 'subsample_for_bin': 200000, 'subsample_freq': 0, 'nthread': -1, 'seed': 0}\n",
      " 82%|████████▎ | 33/40 [00:41<00:10,  1.45s/trial, best loss: -0.8086476151802785]"
     ]
    },
    {
     "name": "stderr",
     "output_type": "stream",
     "text": [
      "/opt/conda/lib/python3.7/site-packages/sklearn/linear_model/_sag.py:330: ConvergenceWarning: The max_iter was reached which means the coef_ did not converge\n",
      "  \"the coef_ did not converge\", ConvergenceWarning)\n",
      "\n"
     ]
    },
    {
     "name": "stdout",
     "output_type": "stream",
     "text": [
      "MEAN SCORE : accuracy = 0.7751383178518857                                        \n",
      "VARIANCE : 0.027572940786441902 (fold 1 = 0.8140703517587939, fold 2 = 0.7537688442211056, fold 3 = 0.7575757575757576)\n",
      "CPU time: 1.3950221538543701 seconds                                              \n",
      "##################################################### testing hyper-parameters... #####################################################\n",
      ">>> NA ENCODER :{'numerical_strategy': 0, 'categorical_strategy': '<NULL>'}       \n",
      ">>> CA ENCODER :{'strategy': 'label_encoding'}                                    \n",
      ">>> FEATURE SELECTOR :{'strategy': 'l1', 'threshold': 0.1763600986589709}         \n",
      ">>> ESTIMATOR :{'strategy': 'LightGBM', 'max_depth': 3, 'boosting_type': 'gbdt', 'class_weight': None, 'colsample_bytree': 0.8, 'importance_type': 'split', 'learning_rate': 0.05, 'min_child_samples': 20, 'min_child_weight': 0.001, 'min_split_gain': 0.0, 'n_estimators': 500, 'n_jobs': -1, 'num_leaves': 31, 'objective': None, 'random_state': None, 'reg_alpha': 0.0, 'reg_lambda': 0.0, 'silent': True, 'subsample': 0.9, 'subsample_for_bin': 200000, 'subsample_freq': 0, 'nthread': -1, 'seed': 0}\n",
      " 85%|████████▌ | 34/40 [00:42<00:08,  1.45s/trial, best loss: -0.8086476151802785]"
     ]
    },
    {
     "name": "stderr",
     "output_type": "stream",
     "text": [
      "/opt/conda/lib/python3.7/site-packages/sklearn/linear_model/_sag.py:330: ConvergenceWarning: The max_iter was reached which means the coef_ did not converge\n",
      "  \"the coef_ did not converge\", ConvergenceWarning)\n",
      "\n"
     ]
    },
    {
     "name": "stdout",
     "output_type": "stream",
     "text": [
      "MEAN SCORE : accuracy = 0.8086476151802785                                        \n",
      "VARIANCE : 0.03960086924490679 (fold 1 = 0.8592964824120602, fold 2 = 0.8040201005025126, fold 3 = 0.7626262626262627)\n",
      "CPU time: 1.1406207084655762 seconds                                              \n",
      "##################################################### testing hyper-parameters... #####################################################\n",
      ">>> NA ENCODER :{'numerical_strategy': 0, 'categorical_strategy': '<NULL>'}       \n",
      ">>> CA ENCODER :{'strategy': 'label_encoding'}                                    \n",
      ">>> FEATURE SELECTOR :{'strategy': 'l1', 'threshold': 0.11232803677850924}        \n",
      ">>> ESTIMATOR :{'strategy': 'LightGBM', 'max_depth': 3, 'boosting_type': 'gbdt', 'class_weight': None, 'colsample_bytree': 0.8, 'importance_type': 'split', 'learning_rate': 0.05, 'min_child_samples': 20, 'min_child_weight': 0.001, 'min_split_gain': 0.0, 'n_estimators': 500, 'n_jobs': -1, 'num_leaves': 31, 'objective': None, 'random_state': None, 'reg_alpha': 0.0, 'reg_lambda': 0.0, 'silent': True, 'subsample': 0.9, 'subsample_for_bin': 200000, 'subsample_freq': 0, 'nthread': -1, 'seed': 0}\n",
      " 88%|████████▊ | 35/40 [00:43<00:06,  1.37s/trial, best loss: -0.8086476151802785]"
     ]
    },
    {
     "name": "stderr",
     "output_type": "stream",
     "text": [
      "/opt/conda/lib/python3.7/site-packages/sklearn/linear_model/_sag.py:330: ConvergenceWarning: The max_iter was reached which means the coef_ did not converge\n",
      "  \"the coef_ did not converge\", ConvergenceWarning)\n",
      "\n"
     ]
    },
    {
     "name": "stdout",
     "output_type": "stream",
     "text": [
      "MEAN SCORE : accuracy = 0.8086476151802785                                        \n",
      "VARIANCE : 0.03960086924490679 (fold 1 = 0.8592964824120602, fold 2 = 0.8040201005025126, fold 3 = 0.7626262626262627)\n",
      "CPU time: 1.0134472846984863 seconds                                              \n",
      "##################################################### testing hyper-parameters... #####################################################\n",
      ">>> NA ENCODER :{'numerical_strategy': 0, 'categorical_strategy': '<NULL>'}       \n",
      ">>> CA ENCODER :{'strategy': 'random_projection'}                                 \n",
      ">>> FEATURE SELECTOR :{'strategy': 'l1', 'threshold': 0.05017519897540412}        \n",
      ">>> ESTIMATOR :{'strategy': 'LightGBM', 'max_depth': 3, 'boosting_type': 'gbdt', 'class_weight': None, 'colsample_bytree': 0.8, 'importance_type': 'split', 'learning_rate': 0.05, 'min_child_samples': 20, 'min_child_weight': 0.001, 'min_split_gain': 0.0, 'n_estimators': 500, 'n_jobs': -1, 'num_leaves': 31, 'objective': None, 'random_state': None, 'reg_alpha': 0.0, 'reg_lambda': 0.0, 'silent': True, 'subsample': 0.9, 'subsample_for_bin': 200000, 'subsample_freq': 0, 'nthread': -1, 'seed': 0}\n",
      " 90%|█████████ | 36/40 [00:44<00:05,  1.28s/trial, best loss: -0.8086476151802785]"
     ]
    },
    {
     "name": "stderr",
     "output_type": "stream",
     "text": [
      "/opt/conda/lib/python3.7/site-packages/sklearn/linear_model/_sag.py:330: ConvergenceWarning: The max_iter was reached which means the coef_ did not converge\n",
      "  \"the coef_ did not converge\", ConvergenceWarning)\n",
      "\n"
     ]
    },
    {
     "name": "stdout",
     "output_type": "stream",
     "text": [
      "MEAN SCORE : accuracy = 0.8086476151802785                                        \n",
      "VARIANCE : 0.03960086924490679 (fold 1 = 0.8592964824120602, fold 2 = 0.8040201005025126, fold 3 = 0.7626262626262627)\n",
      "CPU time: 1.0309255123138428 seconds                                              \n",
      "##################################################### testing hyper-parameters... #####################################################\n",
      ">>> NA ENCODER :{'numerical_strategy': 0, 'categorical_strategy': '<NULL>'}       \n",
      ">>> CA ENCODER :{'strategy': 'random_projection'}                                 \n",
      ">>> FEATURE SELECTOR :{'strategy': 'l1', 'threshold': 0.05298954402056667}        \n",
      ">>> ESTIMATOR :{'strategy': 'LightGBM', 'max_depth': 7, 'boosting_type': 'gbdt', 'class_weight': None, 'colsample_bytree': 0.8, 'importance_type': 'split', 'learning_rate': 0.05, 'min_child_samples': 20, 'min_child_weight': 0.001, 'min_split_gain': 0.0, 'n_estimators': 500, 'n_jobs': -1, 'num_leaves': 31, 'objective': None, 'random_state': None, 'reg_alpha': 0.0, 'reg_lambda': 0.0, 'silent': True, 'subsample': 0.9, 'subsample_for_bin': 200000, 'subsample_freq': 0, 'nthread': -1, 'seed': 0}\n",
      " 92%|█████████▎| 37/40 [00:45<00:03,  1.23s/trial, best loss: -0.8086476151802785]"
     ]
    },
    {
     "name": "stderr",
     "output_type": "stream",
     "text": [
      "/opt/conda/lib/python3.7/site-packages/sklearn/linear_model/_sag.py:330: ConvergenceWarning: The max_iter was reached which means the coef_ did not converge\n",
      "  \"the coef_ did not converge\", ConvergenceWarning)\n",
      "\n"
     ]
    },
    {
     "name": "stdout",
     "output_type": "stream",
     "text": [
      "MEAN SCORE : accuracy = 0.7751383178518857                                        \n",
      "VARIANCE : 0.027572940786441902 (fold 1 = 0.8140703517587939, fold 2 = 0.7537688442211056, fold 3 = 0.7575757575757576)\n",
      "CPU time: 1.3507359027862549 seconds                                              \n",
      "##################################################### testing hyper-parameters... #####################################################\n",
      ">>> NA ENCODER :{'numerical_strategy': 0, 'categorical_strategy': '<NULL>'}       \n",
      ">>> CA ENCODER :{'strategy': 'label_encoding'}                                    \n",
      ">>> FEATURE SELECTOR :{'strategy': 'l1', 'threshold': 0.08182506160892669}        \n",
      ">>> ESTIMATOR :{'strategy': 'LightGBM', 'max_depth': 3, 'boosting_type': 'gbdt', 'class_weight': None, 'colsample_bytree': 0.8, 'importance_type': 'split', 'learning_rate': 0.05, 'min_child_samples': 20, 'min_child_weight': 0.001, 'min_split_gain': 0.0, 'n_estimators': 500, 'n_jobs': -1, 'num_leaves': 31, 'objective': None, 'random_state': None, 'reg_alpha': 0.0, 'reg_lambda': 0.0, 'silent': True, 'subsample': 0.9, 'subsample_for_bin': 200000, 'subsample_freq': 0, 'nthread': -1, 'seed': 0}\n",
      " 95%|█████████▌| 38/40 [00:47<00:02,  1.29s/trial, best loss: -0.8086476151802785]"
     ]
    },
    {
     "name": "stderr",
     "output_type": "stream",
     "text": [
      "/opt/conda/lib/python3.7/site-packages/sklearn/linear_model/_sag.py:330: ConvergenceWarning: The max_iter was reached which means the coef_ did not converge\n",
      "  \"the coef_ did not converge\", ConvergenceWarning)\n",
      "\n"
     ]
    },
    {
     "name": "stdout",
     "output_type": "stream",
     "text": [
      "MEAN SCORE : accuracy = 0.8086476151802785                                        \n",
      "VARIANCE : 0.03960086924490679 (fold 1 = 0.8592964824120602, fold 2 = 0.8040201005025126, fold 3 = 0.7626262626262627)\n",
      "CPU time: 0.7881207466125488 seconds                                              \n",
      "##################################################### testing hyper-parameters... #####################################################\n",
      ">>> NA ENCODER :{'numerical_strategy': 0, 'categorical_strategy': '<NULL>'}       \n",
      ">>> CA ENCODER :{'strategy': 'label_encoding'}                                    \n",
      ">>> FEATURE SELECTOR :{'strategy': 'l1', 'threshold': 0.07478772329720093}        \n",
      ">>> ESTIMATOR :{'strategy': 'LightGBM', 'max_depth': 4, 'boosting_type': 'gbdt', 'class_weight': None, 'colsample_bytree': 0.8, 'importance_type': 'split', 'learning_rate': 0.05, 'min_child_samples': 20, 'min_child_weight': 0.001, 'min_split_gain': 0.0, 'n_estimators': 500, 'n_jobs': -1, 'num_leaves': 31, 'objective': None, 'random_state': None, 'reg_alpha': 0.0, 'reg_lambda': 0.0, 'silent': True, 'subsample': 0.9, 'subsample_for_bin': 200000, 'subsample_freq': 0, 'nthread': -1, 'seed': 0}\n",
      " 98%|█████████▊| 39/40 [00:48<00:01,  1.16s/trial, best loss: -0.8086476151802785]"
     ]
    },
    {
     "name": "stderr",
     "output_type": "stream",
     "text": [
      "/opt/conda/lib/python3.7/site-packages/sklearn/linear_model/_sag.py:330: ConvergenceWarning: The max_iter was reached which means the coef_ did not converge\n",
      "  \"the coef_ did not converge\", ConvergenceWarning)\n",
      "\n"
     ]
    },
    {
     "name": "stdout",
     "output_type": "stream",
     "text": [
      "MEAN SCORE : accuracy = 0.7868551511767592                                        \n",
      "VARIANCE : 0.047673159561935845 (fold 1 = 0.8542713567839196, fold 2 = 0.7537688442211056, fold 3 = 0.7525252525252525)\n",
      "CPU time: 0.9580309391021729 seconds                                              \n",
      "100%|██████████| 40/40 [00:49<00:00,  1.23s/trial, best loss: -0.8086476151802785]\n",
      "\n",
      "\n",
      "~~~~~~~~~~~~~~~~~~~~~~~~~~~~~~~~~~~~~~~~~~~~~~~~~~~~~~~~~~~~~~~~~~~~~~~~~~~~~~~~~~~~~~~~~~~~~~~~~~~~~~~~~~~~~~~~~~~~~~~~~~~~~~~~~~~~~~~~~\n",
      "~~~~~~~~~~~~~~~~~~~~~~~~~~~~~~~~~~~~~~~~~~~~~~~~~~~~~~~~~ BEST HYPER-PARAMETERS ~~~~~~~~~~~~~~~~~~~~~~~~~~~~~~~~~~~~~~~~~~~~~~~~~~~~~~~~~\n",
      "~~~~~~~~~~~~~~~~~~~~~~~~~~~~~~~~~~~~~~~~~~~~~~~~~~~~~~~~~~~~~~~~~~~~~~~~~~~~~~~~~~~~~~~~~~~~~~~~~~~~~~~~~~~~~~~~~~~~~~~~~~~~~~~~~~~~~~~~~\n",
      "\n",
      "{'ce__strategy': 'label_encoding', 'est__max_depth': 3, 'fs__threshold': 0.23419186577138557, 'ne__numerical_strategy': 0}\n",
      "\n",
      "##################################################### testing hyper-parameters... #####################################################\n",
      "\n",
      ">>> NA ENCODER :{'numerical_strategy': 0, 'categorical_strategy': '<NULL>'}\n",
      "\n",
      ">>> CA ENCODER :{'strategy': 'label_encoding'}\n",
      "\n",
      ">>> FEATURE SELECTOR :{'strategy': 'l1', 'threshold': 0.23419186577138557}\n",
      "\n",
      ">>> ESTIMATOR :{'strategy': 'LightGBM', 'max_depth': 3, 'boosting_type': 'gbdt', 'class_weight': None, 'colsample_bytree': 0.8, 'importance_type': 'split', 'learning_rate': 0.05, 'min_child_samples': 20, 'min_child_weight': 0.001, 'min_split_gain': 0.0, 'n_estimators': 500, 'n_jobs': -1, 'num_leaves': 31, 'objective': None, 'random_state': None, 'reg_alpha': 0.0, 'reg_lambda': 0.0, 'silent': True, 'subsample': 0.9, 'subsample_for_bin': 200000, 'subsample_freq': 0, 'nthread': -1, 'seed': 0}\n",
      "\n",
      "\n",
      "MEAN SCORE : accuracy = 0.8086476151802785\n",
      "VARIANCE : 0.03960086924490679 (fold 1 = 0.8592964824120602, fold 2 = 0.8040201005025126, fold 3 = 0.7626262626262627)\n",
      "CPU time: 0.7108378410339355 seconds\n",
      "\n",
      "Final results :  0.8086476151802785\n"
     ]
    },
    {
     "name": "stderr",
     "output_type": "stream",
     "text": [
      "/opt/conda/lib/python3.7/site-packages/sklearn/linear_model/_sag.py:330: ConvergenceWarning: The max_iter was reached which means the coef_ did not converge\n",
      "  \"the coef_ did not converge\", ConvergenceWarning)\n"
     ]
    }
   ],
   "source": [
    "# Optimises hyper-parameters of the whole Pipeline with a given scoring\n",
    "# function. Algorithm used to optimize : Tree Parzen Estimator.\n",
    "best = opt.optimise(space,data,40)\n",
    "print(\"Final results : \" ,opt.evaluate(best, data))"
   ]
  },
  {
   "cell_type": "code",
   "execution_count": 3,
   "metadata": {},
   "outputs": [
    {
     "name": "stdout",
     "output_type": "stream",
     "text": [
      "\n",
      "fitting the pipeline ...\n",
      "CPU time: 0.26691675186157227 seconds\n",
      "\n",
      "> Feature importances dumped into directory : save\n",
      "\n",
      "predicting ...\n",
      "CPU time: 0.016614913940429688 seconds\n",
      "\n",
      "> Overview on predictions : \n",
      "\n",
      "        0.0       1.0  Survived_predicted\n",
      "0  0.623678  0.376322                   0\n",
      "1  0.014289  0.985711                   1\n",
      "2  0.977290  0.022710                   0\n",
      "3  0.619419  0.380581                   0\n",
      "4  0.163809  0.836191                   1\n",
      "5  0.979954  0.020046                   0\n",
      "6  0.191114  0.808886                   1\n",
      "7  0.934425  0.065575                   0\n",
      "8  0.886010  0.113990                   0\n",
      "9  0.904934  0.095066                   0\n",
      "\n",
      "dumping predictions into directory : save ...\n"
     ]
    },
    {
     "data": {
      "text/plain": [
       "<mlbox.prediction.predictor.Predictor at 0x7fc6d7f39d90>"
      ]
     },
     "execution_count": 3,
     "metadata": {},
     "output_type": "execute_result"
    }
   ],
   "source": [
    "from mlbox.prediction import *\n",
    "pred=Predictor()\n",
    "pred.fit_predict(best,data)"
   ]
  },
  {
   "cell_type": "code",
   "execution_count": 5,
   "metadata": {},
   "outputs": [],
   "source": [
    "predictions = pd.read_csv(\"save/Survived_predictions.csv\")\n",
    "predictions = predictions.Survived_predicted\n",
    "y_test = pd.read_csv(\"../../Data/titanic/processed/y_test.csv\")"
   ]
  },
  {
   "cell_type": "code",
   "execution_count": 6,
   "metadata": {},
   "outputs": [],
   "source": [
    "from sklearn.metrics import roc_curve,auc\n",
    "import matplotlib.pyplot as plt\n",
    "fpr, tpr, _ = roc_curve(y_test, predictions)\n",
    "roc_auc = auc(fpr, tpr)\n",
    "\n",
    "plt.figure()\n",
    "lw = 2\n",
    "plt.plot(fpr, tpr, color='darkorange',\n",
    "         lw=lw, label='ROC curve (area = %0.2f)' % roc_auc)\n",
    "plt.plot([0, 1], [0, 1], color='navy', lw=lw, linestyle='--')\n",
    "plt.xlim([0.0, 1.0])\n",
    "plt.ylim([0.0, 1.05])\n",
    "plt.xlabel('False Positive Rate')\n",
    "plt.ylabel('True Positive Rate')\n",
    "plt.title('Receiver operating characteristic example')\n",
    "plt.legend(loc=\"lower right\")\n",
    "plt.show()\n",
    "plt.savefig(\"ML_Box_Titanic_ROC.pdf\")"
   ]
  },
  {
   "cell_type": "code",
   "execution_count": null,
   "metadata": {},
   "outputs": [],
   "source": []
  }
 ],
 "metadata": {
  "kernelspec": {
   "display_name": "Python 3",
   "language": "python",
   "name": "python3"
  },
  "language_info": {
   "codemirror_mode": {
    "name": "ipython",
    "version": 3
   },
   "file_extension": ".py",
   "mimetype": "text/x-python",
   "name": "python",
   "nbconvert_exporter": "python",
   "pygments_lexer": "ipython3",
   "version": "3.7.4"
  }
 },
 "nbformat": 4,
 "nbformat_minor": 4
}
