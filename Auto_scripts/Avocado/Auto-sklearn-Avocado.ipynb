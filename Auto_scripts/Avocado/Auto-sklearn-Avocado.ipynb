{
 "cells": [
  {
   "cell_type": "markdown",
   "metadata": {},
   "source": [
    "# Auto-sklearn Avocado"
   ]
  },
  {
   "cell_type": "markdown",
   "metadata": {},
   "source": [
    "#### Goal :"
   ]
  },
  {
   "cell_type": "markdown",
   "metadata": {},
   "source": [
    "- Create a ML model using Auto-sklearn for the Avocado dataset\n",
    "- Get RMSE over the predictions of these model"
   ]
  },
  {
   "cell_type": "markdown",
   "metadata": {},
   "source": [
    "#### Imports"
   ]
  },
  {
   "cell_type": "code",
   "execution_count": 19,
   "metadata": {},
   "outputs": [],
   "source": [
    "import pandas as pd\n",
    "import sklearn.model_selection\n",
    "import sklearn.datasets\n",
    "import sklearn.metrics\n",
    "from math import sqrt\n",
    "import autosklearn.regression\n",
    "import time\n",
    "\n",
    "X_train = pd.read_csv('../../Data/avocado_price/processed/x_train.csv')\n",
    "y_train = pd.read_csv('../../Data/avocado_price/processed/y_train.csv')\n",
    "X_test = pd.read_csv('../../Data/avocado_price/processed/x_test.csv')\n",
    "y_test = pd.read_csv('../../Data/avocado_price/processed/y_test.csv')"
   ]
  },
  {
   "cell_type": "markdown",
   "metadata": {},
   "source": [
    "One of the features of Auto-sklearn is to indicate if features are \"categorical\" or \"numerical\""
   ]
  },
  {
   "cell_type": "code",
   "execution_count": 2,
   "metadata": {},
   "outputs": [],
   "source": [
    "#we took these list of feature from Script/California_house\n",
    "list_of_categorical=\"type_organic,type_conventional,region\"\n",
    "list_of_categorical=list_of_categorical.split(\",\")\n",
    "feature_types=[]\n",
    "for (col_name,col_data) in X_train.iteritems():\n",
    "    if (col_name in list_of_categorical):\n",
    "        feature_types.append(\"Categorical\")\n",
    "    else:\n",
    "        feature_types.append(\"Numerical\")"
   ]
  },
  {
   "cell_type": "markdown",
   "metadata": {},
   "source": [
    "We create our model and look at the time it took for doing it."
   ]
  },
  {
   "cell_type": "code",
   "execution_count": 3,
   "metadata": {},
   "outputs": [
    {
     "name": "stderr",
     "output_type": "stream",
     "text": [
      "/opt/conda/lib/python3.7/site-packages/autosklearn/automl.py:917: DataConversionWarning: A column-vector y was passed when a 1d array was expected. Will change shape via np.ravel().\n",
      "  y = self._check_y(y)\n"
     ]
    },
    {
     "name": "stdout",
     "output_type": "stream",
     "text": [
      "[WARNING] [2020-06-22 12:19:45,566:AutoMLSMBO(1)::avoca] Could not find meta-data directory /opt/conda/lib/python3.7/site-packages/autosklearn/metalearning/files/r2_regression_dense\n"
     ]
    }
   ],
   "source": [
    "start = time.time()\n",
    "automl = autosklearn.regression.AutoSklearnRegressor(\n",
    "    time_left_for_this_task=120,\n",
    "    per_run_time_limit=30\n",
    ")\n",
    "automl.fit(X_train, y_train, dataset_name='avoca',\n",
    "           feat_type=feature_types)\n",
    "\n",
    "elapsed_time=(time.time()-start)"
   ]
  },
  {
   "cell_type": "markdown",
   "metadata": {},
   "source": [
    "Display of :\n",
    "- time it took for creating the model\n",
    "- RMSE of created model over the testing dataset"
   ]
  },
  {
   "cell_type": "code",
   "execution_count": 17,
   "metadata": {},
   "outputs": [
    {
     "name": "stdout",
     "output_type": "stream",
     "text": [
      "[(1.000000, SimpleRegressionPipeline({'data_preprocessing:categorical_transformer:categorical_encoding:__choice__': 'one_hot_encoding', 'data_preprocessing:categorical_transformer:category_coalescence:__choice__': 'no_coalescense', 'data_preprocessing:numerical_transformer:imputation:strategy': 'median', 'data_preprocessing:numerical_transformer:rescaling:__choice__': 'standardize', 'feature_preprocessor:__choice__': 'no_preprocessing', 'regressor:__choice__': 'ridge_regression', 'regressor:ridge_regression:alpha': 0.1265650933230963, 'regressor:ridge_regression:fit_intercept': 'True', 'regressor:ridge_regression:tol': 0.076963514229007},\n",
      "dataset_properties={\n",
      "  'task': 4,\n",
      "  'sparse': False,\n",
      "  'multilabel': False,\n",
      "  'multiclass': False,\n",
      "  'target_type': 'regression',\n",
      "  'signed': False})),\n",
      "]\n",
      "rmse score: 25.481879860989096\n",
      "elapsed time: 115.20937180519104\n"
     ]
    }
   ],
   "source": [
    "print(automl.show_models())\n",
    "predictions = automl.predict(X_test.values)\n",
    "print(\"rmse score:\", sqrt(sklearn.metrics.mean_squared_error(y_test, predictions)))\n",
    "print(\"elapsed time:\",elapsed_time)"
   ]
  },
  {
   "cell_type": "markdown",
   "metadata": {},
   "source": [
    "# Residual Plot"
   ]
  },
  {
   "cell_type": "code",
   "execution_count": 20,
   "metadata": {},
   "outputs": [
    {
     "data": {
      "image/png": "[encoded data removed]",
      "text/plain": [
       "<Figure size 432x288 with 1 Axes>"
      ]
     },
     "metadata": {
      "needs_background": "light"
     },
     "output_type": "display_data"
    }
   ],
   "source": [
    "import matplotlib.pyplot as plt\n",
    "\n",
    "#plot residuals\n",
    "plt.scatter(predictions, predictions - y_test.AveragePrice.values, c=\"grey\", label=\"Testing Data\")\n",
    "plt.legend()\n",
    "plt.hlines(y=0, xmin=y_test.min(), xmax=y_test.max())\n",
    "plt.title(\"Residual Plot\")\n",
    "plt.show()"
   ]
  },
  {
   "cell_type": "code",
   "execution_count": null,
   "metadata": {},
   "outputs": [],
   "source": []
  }
 ],
 "metadata": {
  "kernelspec": {
   "display_name": "Python 3",
   "language": "python",
   "name": "python3"
  },
  "language_info": {
   "codemirror_mode": {
    "name": "ipython",
    "version": 3
   },
   "file_extension": ".py",
   "mimetype": "text/x-python",
   "name": "python",
   "nbconvert_exporter": "python",
   "pygments_lexer": "ipython3",
   "version": "3.7.4"
  }
 },
 "nbformat": 4,
 "nbformat_minor": 4
}
