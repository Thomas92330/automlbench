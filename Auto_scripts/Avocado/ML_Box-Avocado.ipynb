{
 "cells": [
  {
   "cell_type": "markdown",
   "metadata": {},
   "source": [
    "# ML-box Avocado"
   ]
  },
  {
   "cell_type": "markdown",
   "metadata": {},
   "source": [
    "#### Goal :"
   ]
  },
  {
   "cell_type": "markdown",
   "metadata": {},
   "source": [
    "- Create a ML model using Auto-sklearn for the Avocado dataset\n",
    "- Get RMSE over the predictions of these model"
   ]
  },
  {
   "cell_type": "markdown",
   "metadata": {},
   "source": [
    "#### Imports"
   ]
  },
  {
   "cell_type": "code",
   "execution_count": 1,
   "metadata": {},
   "outputs": [],
   "source": [
    "import numpy as np\n",
    "import pandas as pd\n",
    "import sklearn.metrics\n",
    "from math import sqrt\n",
    "from mlbox.preprocessing import Reader\n",
    "from mlbox.preprocessing import Drift_thresholder\n",
    "from mlbox.optimisation import make_scorer\n",
    "from mlbox.optimisation import Optimiser\n",
    "from mlbox.prediction import Predictor"
   ]
  },
  {
   "cell_type": "markdown",
   "metadata": {},
   "source": [
    "Paths to the train set and the test set."
   ]
  },
  {
   "cell_type": "code",
   "execution_count": 2,
   "metadata": {},
   "outputs": [],
   "source": [
    "paths = [\"../../Data/avocado_price/processed/train.csv\",\"../../Data/avocado_price/processed/x_test.csv\"]"
   ]
  },
  {
   "cell_type": "markdown",
   "metadata": {},
   "source": [
    "Name of the feature to predict. This columns should only be present in the train set."
   ]
  },
  {
   "cell_type": "code",
   "execution_count": 3,
   "metadata": {},
   "outputs": [],
   "source": [
    "target_name = \"AveragePrice\""
   ]
  },
  {
   "cell_type": "markdown",
   "metadata": {},
   "source": [
    "Reading and cleaning all files. Declare a reader for csv files"
   ]
  },
  {
   "cell_type": "code",
   "execution_count": 4,
   "metadata": {},
   "outputs": [],
   "source": [
    "rd = Reader(sep=',')"
   ]
  },
  {
   "cell_type": "markdown",
   "metadata": {},
   "source": [
    "Return a dictionnary containing three entries:\n",
    "- dict[\"train\"] contains training samples withtout target columns\n",
    "- dict[\"test\"] contains testing elements withtout target columns\n",
    "- dict[\"target\"] contains target columns for training samples."
   ]
  },
  {
   "cell_type": "code",
   "execution_count": 5,
   "metadata": {},
   "outputs": [
    {
     "name": "stdout",
     "output_type": "stream",
     "text": [
      "\n",
      "reading csv : train.csv ...\n",
      "cleaning data ...\n",
      "CPU time: 0.3984375 seconds\n",
      "\n",
      "reading csv : x_test.csv ...\n",
      "cleaning data ...\n",
      "CPU time: 0.1798863410949707 seconds\n",
      "\n",
      "> Number of common features : 14\n",
      "\n",
      "gathering and crunching for train and test datasets ...\n",
      "reindexing for train and test datasets ...\n",
      "dropping training duplicates ...\n",
      "dropping constant variables on training set ...\n",
      "\n",
      "> Number of categorical features: 0\n",
      "> Number of numerical features: 14\n",
      "> Number of training samples : 12226\n",
      "> Number of test samples : 6023\n",
      "\n",
      "> You have no missing values on train set...\n",
      "\n",
      "> Task : regression\n",
      "count    12226.000000\n",
      "mean       140.106658\n",
      "std         40.259655\n",
      "min         44.000000\n",
      "25%        110.000000\n",
      "50%        137.000000\n",
      "75%        166.000000\n",
      "max        312.000000\n",
      "Name: AveragePrice, dtype: float64\n"
     ]
    }
   ],
   "source": [
    "data = rd.train_test_split(paths, target_name)"
   ]
  },
  {
   "cell_type": "markdown",
   "metadata": {},
   "source": [
    "Removing the drifting variables"
   ]
  },
  {
   "cell_type": "code",
   "execution_count": 6,
   "metadata": {},
   "outputs": [
    {
     "name": "stdout",
     "output_type": "stream",
     "text": [
      "\n",
      "computing drifts ...\n",
      "CPU time: 1.0780882835388184 seconds\n",
      "\n",
      "> Top 10 drifts\n",
      "\n",
      "('year', 0.01652095766931816)\n",
      "('Month', 0.014052133375274112)\n",
      "('Total Volume', 0.011363754825062689)\n",
      "('Day', 0.009383030176192797)\n",
      "('region', 0.007258513221157337)\n",
      "('type_organic', 0.006209422086088434)\n",
      "('type_conventional', 0.005249107658505725)\n",
      "('4225', 0.0039422234659385325)\n",
      "('Large Bags', 0.003932261120233038)\n",
      "('Small Bags', 0.002992500014094013)\n",
      "\n",
      "> Deleted variables : []\n",
      "> Drift coefficients dumped into directory : save\n"
     ]
    }
   ],
   "source": [
    "dft = Drift_thresholder()\n",
    "data = dft.fit_transform(data)"
   ]
  },
  {
   "cell_type": "markdown",
   "metadata": {},
   "source": [
    "Tuning"
   ]
  },
  {
   "cell_type": "code",
   "execution_count": 7,
   "metadata": {},
   "outputs": [],
   "source": [
    "mape = make_scorer(lambda y_true,\n",
    "                   y_pred: 100*np.sum(\n",
    "                                      np.abs(y_true-y_pred)/y_true\n",
    "                                      )/len(y_true),\n",
    "                   greater_is_better=False,\n",
    "                   needs_proba=False)"
   ]
  },
  {
   "cell_type": "markdown",
   "metadata": {},
   "source": [
    "Declare an optimiser"
   ]
  },
  {
   "cell_type": "code",
   "execution_count": 8,
   "metadata": {},
   "outputs": [
    {
     "name": "stderr",
     "output_type": "stream",
     "text": [
      "/opt/conda/lib/python3.7/site-packages/mlbox/optimisation/optimiser.py:74: UserWarning: Optimiser will save all your fitted models into directory 'save/joblib'. Please clear it regularly.\n",
      "  +str(self.to_path)+\"/joblib'. Please clear it regularly.\")\n"
     ]
    }
   ],
   "source": [
    "opt = Optimiser(scoring=\"mean_squared_error\", n_folds=3)"
   ]
  },
  {
   "cell_type": "markdown",
   "metadata": {},
   "source": [
    "Space of hyperparameters"
   ]
  },
  {
   "cell_type": "code",
   "execution_count": 9,
   "metadata": {},
   "outputs": [],
   "source": [
    "space = {\n",
    "        'ne__numerical_strategy': {\"search\": \"choice\",\n",
    "                                   \"space\": [0]},\n",
    "        'ce__strategy': {\"search\": \"choice\",\n",
    "                         \"space\": [\"label_encoding\",\n",
    "                                   \"random_projection\",\n",
    "                                   \"entity_embedding\"]},\n",
    "        'fs__threshold': {\"search\": \"uniform\",\n",
    "                          \"space\": [0.01, 0.3]},\n",
    "        'est__max_depth': {\"search\": \"choice\",\n",
    "                           \"space\": [3, 4, 5, 6, 7]}\n",
    "\n",
    "        }"
   ]
  },
  {
   "cell_type": "markdown",
   "metadata": {},
   "source": [
    "Optimises hyper-parameters of the whole Pipeline"
   ]
  },
  {
   "cell_type": "code",
   "execution_count": 10,
   "metadata": {},
   "outputs": [
    {
     "name": "stdout",
     "output_type": "stream",
     "text": [
      "##################################################### testing hyper-parameters... #####################################################\n",
      ">>> NA ENCODER :{'numerical_strategy': 0, 'categorical_strategy': '<NULL>'}\n",
      ">>> CA ENCODER :{'strategy': 'entity_embedding'}      \n",
      ">>> FEATURE SELECTOR :{'strategy': 'l1', 'threshold': 0.22360205192383217}\n",
      ">>> ESTIMATOR :{'strategy': 'LightGBM', 'max_depth': 3, 'boosting_type': 'gbdt', 'class_weight': None, 'colsample_bytree': 0.8, 'importance_type': 'split', 'learning_rate': 0.05, 'min_child_samples': 20, 'min_child_weight': 0.001, 'min_split_gain': 0.0, 'n_estimators': 500, 'n_jobs': -1, 'num_leaves': 31, 'objective': None, 'random_state': None, 'reg_alpha': 0.0, 'reg_lambda': 0.0, 'silent': True, 'subsample': 0.9, 'subsample_for_bin': 200000, 'subsample_freq': 0, 'nthread': -1, 'seed': 0}\n",
      "  0%|          | 0/40 [00:00<?, ?trial/s, best loss=?]"
     ]
    },
    {
     "name": "stderr",
     "output_type": "stream",
     "text": [
      "/opt/conda/lib/python3.7/site-packages/mlbox/optimisation/optimiser.py:296: UserWarning: Unknown or invalid scoring metric. neg_mean_squared_error is used instead.\n",
      "  warnings.warn(\"Unknown or invalid scoring metric. \"\n",
      "\n",
      "/opt/conda/lib/python3.7/site-packages/sklearn/linear_model/_coordinate_descent.py:476: ConvergenceWarning: Objective did not converge. You might want to increase the number of iterations. Duality gap: 5759007.281884576, tolerance: 1330.8976461472394\n",
      "  positive)\n",
      "\n",
      "/opt/conda/lib/python3.7/site-packages/sklearn/linear_model/_coordinate_descent.py:476: ConvergenceWarning: Objective did not converge. You might want to increase the number of iterations. Duality gap: 5331342.366964197, tolerance: 1306.6447314685313\n",
      "  positive)\n",
      "\n",
      "/opt/conda/lib/python3.7/site-packages/sklearn/linear_model/_coordinate_descent.py:476: ConvergenceWarning: Objective did not converge. You might want to increase the number of iterations. Duality gap: 5589147.332537356, tolerance: 1325.4078826156306\n",
      "  positive)\n",
      "\n"
     ]
    },
    {
     "name": "stdout",
     "output_type": "stream",
     "text": [
      "MEAN SCORE : neg_mean_squared_error = -311.7605332271602\n",
      "VARIANCE : 10.094937585700304 (fold 1 = -298.0946937094737, fold 2 = -315.0164053211818, fold 3 = -322.17050065082503)\n",
      "CPU time: 3.6697702407836914 seconds                  \n",
      "##################################################### testing hyper-parameters... #####################################################\n",
      ">>> NA ENCODER :{'numerical_strategy': 0, 'categorical_strategy': '<NULL>'}    \n",
      ">>> CA ENCODER :{'strategy': 'entity_embedding'}                               \n",
      ">>> FEATURE SELECTOR :{'strategy': 'l1', 'threshold': 0.25070684648745273}     \n",
      ">>> ESTIMATOR :{'strategy': 'LightGBM', 'max_depth': 3, 'boosting_type': 'gbdt', 'class_weight': None, 'colsample_bytree': 0.8, 'importance_type': 'split', 'learning_rate': 0.05, 'min_child_samples': 20, 'min_child_weight': 0.001, 'min_split_gain': 0.0, 'n_estimators': 500, 'n_jobs': -1, 'num_leaves': 31, 'objective': None, 'random_state': None, 'reg_alpha': 0.0, 'reg_lambda': 0.0, 'silent': True, 'subsample': 0.9, 'subsample_for_bin': 200000, 'subsample_freq': 0, 'nthread': -1, 'seed': 0}\n",
      "  2%|▎         | 1/40 [00:03<02:23,  3.69s/trial, best loss: 311.7605332271602]"
     ]
    },
    {
     "name": "stderr",
     "output_type": "stream",
     "text": [
      "/opt/conda/lib/python3.7/site-packages/sklearn/linear_model/_coordinate_descent.py:476: ConvergenceWarning: Objective did not converge. You might want to increase the number of iterations. Duality gap: 5759007.281884576, tolerance: 1330.8976461472394\n",
      "  positive)\n",
      "\n",
      "/opt/conda/lib/python3.7/site-packages/sklearn/linear_model/_coordinate_descent.py:476: ConvergenceWarning: Objective did not converge. You might want to increase the number of iterations. Duality gap: 5331342.366964197, tolerance: 1306.6447314685313\n",
      "  positive)\n",
      "\n",
      "/opt/conda/lib/python3.7/site-packages/sklearn/linear_model/_coordinate_descent.py:476: ConvergenceWarning: Objective did not converge. You might want to increase the number of iterations. Duality gap: 5589147.332537356, tolerance: 1325.4078826156306\n",
      "  positive)\n",
      "\n"
     ]
    },
    {
     "name": "stdout",
     "output_type": "stream",
     "text": [
      "MEAN SCORE : neg_mean_squared_error = -311.7605332271602                       \n",
      "VARIANCE : 10.094937585700304 (fold 1 = -298.0946937094737, fold 2 = -315.0164053211818, fold 3 = -322.17050065082503)\n",
      "CPU time: 3.342552423477173 seconds                                            \n",
      "##################################################### testing hyper-parameters... #####################################################\n",
      ">>> NA ENCODER :{'numerical_strategy': 0, 'categorical_strategy': '<NULL>'}    \n",
      ">>> CA ENCODER :{'strategy': 'label_encoding'}                                 \n",
      ">>> FEATURE SELECTOR :{'strategy': 'l1', 'threshold': 0.24002696950514701}     \n",
      ">>> ESTIMATOR :{'strategy': 'LightGBM', 'max_depth': 3, 'boosting_type': 'gbdt', 'class_weight': None, 'colsample_bytree': 0.8, 'importance_type': 'split', 'learning_rate': 0.05, 'min_child_samples': 20, 'min_child_weight': 0.001, 'min_split_gain': 0.0, 'n_estimators': 500, 'n_jobs': -1, 'num_leaves': 31, 'objective': None, 'random_state': None, 'reg_alpha': 0.0, 'reg_lambda': 0.0, 'silent': True, 'subsample': 0.9, 'subsample_for_bin': 200000, 'subsample_freq': 0, 'nthread': -1, 'seed': 0}\n",
      "  5%|▌         | 2/40 [00:07<02:16,  3.59s/trial, best loss: 311.7605332271602]"
     ]
    },
    {
     "name": "stderr",
     "output_type": "stream",
     "text": [
      "/opt/conda/lib/python3.7/site-packages/sklearn/linear_model/_coordinate_descent.py:476: ConvergenceWarning: Objective did not converge. You might want to increase the number of iterations. Duality gap: 5759007.281884576, tolerance: 1330.8976461472394\n",
      "  positive)\n",
      "\n",
      "/opt/conda/lib/python3.7/site-packages/sklearn/linear_model/_coordinate_descent.py:476: ConvergenceWarning: Objective did not converge. You might want to increase the number of iterations. Duality gap: 5331342.366964197, tolerance: 1306.6447314685313\n",
      "  positive)\n",
      "\n",
      "/opt/conda/lib/python3.7/site-packages/sklearn/linear_model/_coordinate_descent.py:476: ConvergenceWarning: Objective did not converge. You might want to increase the number of iterations. Duality gap: 5589147.332537356, tolerance: 1325.4078826156306\n",
      "  positive)\n",
      "\n"
     ]
    },
    {
     "name": "stdout",
     "output_type": "stream",
     "text": [
      "MEAN SCORE : neg_mean_squared_error = -311.7605332271602                       \n",
      "VARIANCE : 10.094937585700304 (fold 1 = -298.0946937094737, fold 2 = -315.0164053211818, fold 3 = -322.17050065082503)\n",
      "CPU time: 2.624854803085327 seconds                                            \n",
      "##################################################### testing hyper-parameters... #####################################################\n",
      ">>> NA ENCODER :{'numerical_strategy': 0, 'categorical_strategy': '<NULL>'}    \n",
      ">>> CA ENCODER :{'strategy': 'random_projection'}                              \n",
      ">>> FEATURE SELECTOR :{'strategy': 'l1', 'threshold': 0.18645325184282588}     \n",
      ">>> ESTIMATOR :{'strategy': 'LightGBM', 'max_depth': 4, 'boosting_type': 'gbdt', 'class_weight': None, 'colsample_bytree': 0.8, 'importance_type': 'split', 'learning_rate': 0.05, 'min_child_samples': 20, 'min_child_weight': 0.001, 'min_split_gain': 0.0, 'n_estimators': 500, 'n_jobs': -1, 'num_leaves': 31, 'objective': None, 'random_state': None, 'reg_alpha': 0.0, 'reg_lambda': 0.0, 'silent': True, 'subsample': 0.9, 'subsample_for_bin': 200000, 'subsample_freq': 0, 'nthread': -1, 'seed': 0}\n",
      "  8%|▊         | 3/40 [00:09<02:02,  3.31s/trial, best loss: 311.7605332271602]"
     ]
    },
    {
     "name": "stderr",
     "output_type": "stream",
     "text": [
      "/opt/conda/lib/python3.7/site-packages/sklearn/linear_model/_coordinate_descent.py:476: ConvergenceWarning: Objective did not converge. You might want to increase the number of iterations. Duality gap: 5759007.281884576, tolerance: 1330.8976461472394\n",
      "  positive)\n",
      "\n",
      "/opt/conda/lib/python3.7/site-packages/sklearn/linear_model/_coordinate_descent.py:476: ConvergenceWarning: Objective did not converge. You might want to increase the number of iterations. Duality gap: 5331342.366964197, tolerance: 1306.6447314685313\n",
      "  positive)\n",
      "\n",
      "/opt/conda/lib/python3.7/site-packages/sklearn/linear_model/_coordinate_descent.py:476: ConvergenceWarning: Objective did not converge. You might want to increase the number of iterations. Duality gap: 5589147.332537356, tolerance: 1325.4078826156306\n",
      "  positive)\n",
      "\n"
     ]
    },
    {
     "name": "stdout",
     "output_type": "stream",
     "text": [
      "MEAN SCORE : neg_mean_squared_error = -233.3058660049643                       \n",
      "VARIANCE : 9.602981628831392 (fold 1 = -219.7384050134768, fold 2 = -240.6081386194014, fold 3 = -239.57105438201467)\n",
      "CPU time: 3.194257974624634 seconds                                            \n",
      "##################################################### testing hyper-parameters... #####################################################\n",
      ">>> NA ENCODER :{'numerical_strategy': 0, 'categorical_strategy': '<NULL>'}    \n",
      ">>> CA ENCODER :{'strategy': 'entity_embedding'}                               \n",
      ">>> FEATURE SELECTOR :{'strategy': 'l1', 'threshold': 0.10323443193697357}     \n",
      ">>> ESTIMATOR :{'strategy': 'LightGBM', 'max_depth': 5, 'boosting_type': 'gbdt', 'class_weight': None, 'colsample_bytree': 0.8, 'importance_type': 'split', 'learning_rate': 0.05, 'min_child_samples': 20, 'min_child_weight': 0.001, 'min_split_gain': 0.0, 'n_estimators': 500, 'n_jobs': -1, 'num_leaves': 31, 'objective': None, 'random_state': None, 'reg_alpha': 0.0, 'reg_lambda': 0.0, 'silent': True, 'subsample': 0.9, 'subsample_for_bin': 200000, 'subsample_freq': 0, 'nthread': -1, 'seed': 0}\n",
      " 10%|█         | 4/40 [00:12<01:58,  3.28s/trial, best loss: 233.3058660049643]"
     ]
    },
    {
     "name": "stderr",
     "output_type": "stream",
     "text": [
      "/opt/conda/lib/python3.7/site-packages/sklearn/linear_model/_coordinate_descent.py:476: ConvergenceWarning: Objective did not converge. You might want to increase the number of iterations. Duality gap: 5759007.281884576, tolerance: 1330.8976461472394\n",
      "  positive)\n",
      "\n",
      "/opt/conda/lib/python3.7/site-packages/sklearn/linear_model/_coordinate_descent.py:476: ConvergenceWarning: Objective did not converge. You might want to increase the number of iterations. Duality gap: 5331342.366964197, tolerance: 1306.6447314685313\n",
      "  positive)\n",
      "\n",
      "/opt/conda/lib/python3.7/site-packages/sklearn/linear_model/_coordinate_descent.py:476: ConvergenceWarning: Objective did not converge. You might want to increase the number of iterations. Duality gap: 5589147.332537356, tolerance: 1325.4078826156306\n",
      "  positive)\n",
      "\n"
     ]
    },
    {
     "name": "stdout",
     "output_type": "stream",
     "text": [
      "MEAN SCORE : neg_mean_squared_error = -191.28734114218005                      \n",
      "VARIANCE : 8.034441749677725 (fold 1 = -180.50057454464076, fold 2 = -199.7730748611163, fold 3 = -193.5883740207831)\n",
      "CPU time: 5.117115020751953 seconds                                            \n",
      "##################################################### testing hyper-parameters... #####################################################\n",
      ">>> NA ENCODER :{'numerical_strategy': 0, 'categorical_strategy': '<NULL>'}     \n",
      ">>> CA ENCODER :{'strategy': 'label_encoding'}                                  \n",
      ">>> FEATURE SELECTOR :{'strategy': 'l1', 'threshold': 0.238535705301914}        \n",
      ">>> ESTIMATOR :{'strategy': 'LightGBM', 'max_depth': 3, 'boosting_type': 'gbdt', 'class_weight': None, 'colsample_bytree': 0.8, 'importance_type': 'split', 'learning_rate': 0.05, 'min_child_samples': 20, 'min_child_weight': 0.001, 'min_split_gain': 0.0, 'n_estimators': 500, 'n_jobs': -1, 'num_leaves': 31, 'objective': None, 'random_state': None, 'reg_alpha': 0.0, 'reg_lambda': 0.0, 'silent': True, 'subsample': 0.9, 'subsample_for_bin': 200000, 'subsample_freq': 0, 'nthread': -1, 'seed': 0}\n",
      " 12%|█▎        | 5/40 [00:18<02:14,  3.84s/trial, best loss: 191.28734114218005]"
     ]
    },
    {
     "name": "stderr",
     "output_type": "stream",
     "text": [
      "/opt/conda/lib/python3.7/site-packages/sklearn/linear_model/_coordinate_descent.py:476: ConvergenceWarning: Objective did not converge. You might want to increase the number of iterations. Duality gap: 5759007.281884576, tolerance: 1330.8976461472394\n",
      "  positive)\n",
      "\n",
      "/opt/conda/lib/python3.7/site-packages/sklearn/linear_model/_coordinate_descent.py:476: ConvergenceWarning: Objective did not converge. You might want to increase the number of iterations. Duality gap: 5331342.366964197, tolerance: 1306.6447314685313\n",
      "  positive)\n",
      "\n",
      "/opt/conda/lib/python3.7/site-packages/sklearn/linear_model/_coordinate_descent.py:476: ConvergenceWarning: Objective did not converge. You might want to increase the number of iterations. Duality gap: 5589147.332537356, tolerance: 1325.4078826156306\n",
      "  positive)\n",
      "\n"
     ]
    },
    {
     "name": "stdout",
     "output_type": "stream",
     "text": [
      "MEAN SCORE : neg_mean_squared_error = -311.7605332271602                        \n",
      "VARIANCE : 10.094937585700304 (fold 1 = -298.0946937094737, fold 2 = -315.0164053211818, fold 3 = -322.17050065082503)\n",
      "CPU time: 2.4201340675354004 seconds                                            \n",
      "##################################################### testing hyper-parameters... #####################################################\n",
      ">>> NA ENCODER :{'numerical_strategy': 0, 'categorical_strategy': '<NULL>'}     \n",
      ">>> CA ENCODER :{'strategy': 'label_encoding'}                                  \n",
      ">>> FEATURE SELECTOR :{'strategy': 'l1', 'threshold': 0.1770878869849372}       \n",
      ">>> ESTIMATOR :{'strategy': 'LightGBM', 'max_depth': 4, 'boosting_type': 'gbdt', 'class_weight': None, 'colsample_bytree': 0.8, 'importance_type': 'split', 'learning_rate': 0.05, 'min_child_samples': 20, 'min_child_weight': 0.001, 'min_split_gain': 0.0, 'n_estimators': 500, 'n_jobs': -1, 'num_leaves': 31, 'objective': None, 'random_state': None, 'reg_alpha': 0.0, 'reg_lambda': 0.0, 'silent': True, 'subsample': 0.9, 'subsample_for_bin': 200000, 'subsample_freq': 0, 'nthread': -1, 'seed': 0}\n",
      " 15%|█▌        | 6/40 [00:20<01:56,  3.42s/trial, best loss: 191.28734114218005]"
     ]
    },
    {
     "name": "stderr",
     "output_type": "stream",
     "text": [
      "/opt/conda/lib/python3.7/site-packages/sklearn/linear_model/_coordinate_descent.py:476: ConvergenceWarning: Objective did not converge. You might want to increase the number of iterations. Duality gap: 5759007.281884576, tolerance: 1330.8976461472394\n",
      "  positive)\n",
      "\n",
      "/opt/conda/lib/python3.7/site-packages/sklearn/linear_model/_coordinate_descent.py:476: ConvergenceWarning: Objective did not converge. You might want to increase the number of iterations. Duality gap: 5331342.366964197, tolerance: 1306.6447314685313\n",
      "  positive)\n",
      "\n",
      "/opt/conda/lib/python3.7/site-packages/sklearn/linear_model/_coordinate_descent.py:476: ConvergenceWarning: Objective did not converge. You might want to increase the number of iterations. Duality gap: 5589147.332537356, tolerance: 1325.4078826156306\n",
      "  positive)\n",
      "\n"
     ]
    },
    {
     "name": "stdout",
     "output_type": "stream",
     "text": [
      "MEAN SCORE : neg_mean_squared_error = -233.3058660049643                        \n",
      "VARIANCE : 9.602981628831392 (fold 1 = -219.7384050134768, fold 2 = -240.6081386194014, fold 3 = -239.57105438201467)\n",
      "CPU time: 3.330127239227295 seconds                                             \n",
      "##################################################### testing hyper-parameters... #####################################################\n",
      ">>> NA ENCODER :{'numerical_strategy': 0, 'categorical_strategy': '<NULL>'}     \n",
      ">>> CA ENCODER :{'strategy': 'entity_embedding'}                                \n",
      ">>> FEATURE SELECTOR :{'strategy': 'l1', 'threshold': 0.21682003732525884}      \n",
      ">>> ESTIMATOR :{'strategy': 'LightGBM', 'max_depth': 4, 'boosting_type': 'gbdt', 'class_weight': None, 'colsample_bytree': 0.8, 'importance_type': 'split', 'learning_rate': 0.05, 'min_child_samples': 20, 'min_child_weight': 0.001, 'min_split_gain': 0.0, 'n_estimators': 500, 'n_jobs': -1, 'num_leaves': 31, 'objective': None, 'random_state': None, 'reg_alpha': 0.0, 'reg_lambda': 0.0, 'silent': True, 'subsample': 0.9, 'subsample_for_bin': 200000, 'subsample_freq': 0, 'nthread': -1, 'seed': 0}\n",
      " 18%|█▊        | 7/40 [00:23<01:52,  3.40s/trial, best loss: 191.28734114218005]"
     ]
    },
    {
     "name": "stderr",
     "output_type": "stream",
     "text": [
      "/opt/conda/lib/python3.7/site-packages/sklearn/linear_model/_coordinate_descent.py:476: ConvergenceWarning: Objective did not converge. You might want to increase the number of iterations. Duality gap: 5759007.281884576, tolerance: 1330.8976461472394\n",
      "  positive)\n",
      "\n",
      "/opt/conda/lib/python3.7/site-packages/sklearn/linear_model/_coordinate_descent.py:476: ConvergenceWarning: Objective did not converge. You might want to increase the number of iterations. Duality gap: 5331342.366964197, tolerance: 1306.6447314685313\n",
      "  positive)\n",
      "\n",
      "/opt/conda/lib/python3.7/site-packages/sklearn/linear_model/_coordinate_descent.py:476: ConvergenceWarning: Objective did not converge. You might want to increase the number of iterations. Duality gap: 5589147.332537356, tolerance: 1325.4078826156306\n",
      "  positive)\n",
      "\n"
     ]
    },
    {
     "name": "stdout",
     "output_type": "stream",
     "text": [
      "MEAN SCORE : neg_mean_squared_error = -233.3058660049643                        \n",
      "VARIANCE : 9.602981628831392 (fold 1 = -219.7384050134768, fold 2 = -240.6081386194014, fold 3 = -239.57105438201467)\n",
      "CPU time: 3.7069294452667236 seconds                                            \n",
      "##################################################### testing hyper-parameters... #####################################################\n",
      ">>> NA ENCODER :{'numerical_strategy': 0, 'categorical_strategy': '<NULL>'}     \n",
      ">>> CA ENCODER :{'strategy': 'random_projection'}                               \n",
      ">>> FEATURE SELECTOR :{'strategy': 'l1', 'threshold': 0.10404794312844765}      \n",
      ">>> ESTIMATOR :{'strategy': 'LightGBM', 'max_depth': 5, 'boosting_type': 'gbdt', 'class_weight': None, 'colsample_bytree': 0.8, 'importance_type': 'split', 'learning_rate': 0.05, 'min_child_samples': 20, 'min_child_weight': 0.001, 'min_split_gain': 0.0, 'n_estimators': 500, 'n_jobs': -1, 'num_leaves': 31, 'objective': None, 'random_state': None, 'reg_alpha': 0.0, 'reg_lambda': 0.0, 'silent': True, 'subsample': 0.9, 'subsample_for_bin': 200000, 'subsample_freq': 0, 'nthread': -1, 'seed': 0}\n",
      " 20%|██        | 8/40 [00:27<01:52,  3.50s/trial, best loss: 191.28734114218005]"
     ]
    },
    {
     "name": "stderr",
     "output_type": "stream",
     "text": [
      "/opt/conda/lib/python3.7/site-packages/sklearn/linear_model/_coordinate_descent.py:476: ConvergenceWarning: Objective did not converge. You might want to increase the number of iterations. Duality gap: 5759007.281884576, tolerance: 1330.8976461472394\n",
      "  positive)\n",
      "\n",
      "/opt/conda/lib/python3.7/site-packages/sklearn/linear_model/_coordinate_descent.py:476: ConvergenceWarning: Objective did not converge. You might want to increase the number of iterations. Duality gap: 5331342.366964197, tolerance: 1306.6447314685313\n",
      "  positive)\n",
      "\n",
      "/opt/conda/lib/python3.7/site-packages/sklearn/linear_model/_coordinate_descent.py:476: ConvergenceWarning: Objective did not converge. You might want to increase the number of iterations. Duality gap: 5589147.332537356, tolerance: 1325.4078826156306\n",
      "  positive)\n",
      "\n"
     ]
    },
    {
     "name": "stdout",
     "output_type": "stream",
     "text": [
      "MEAN SCORE : neg_mean_squared_error = -191.28734114218005                       \n",
      "VARIANCE : 8.034441749677725 (fold 1 = -180.50057454464076, fold 2 = -199.7730748611163, fold 3 = -193.5883740207831)\n",
      "CPU time: 4.601433992385864 seconds                                             \n",
      "##################################################### testing hyper-parameters... #####################################################\n",
      ">>> NA ENCODER :{'numerical_strategy': 0, 'categorical_strategy': '<NULL>'}     \n",
      ">>> CA ENCODER :{'strategy': 'random_projection'}                               \n",
      ">>> FEATURE SELECTOR :{'strategy': 'l1', 'threshold': 0.29725397023761374}      \n",
      ">>> ESTIMATOR :{'strategy': 'LightGBM', 'max_depth': 6, 'boosting_type': 'gbdt', 'class_weight': None, 'colsample_bytree': 0.8, 'importance_type': 'split', 'learning_rate': 0.05, 'min_child_samples': 20, 'min_child_weight': 0.001, 'min_split_gain': 0.0, 'n_estimators': 500, 'n_jobs': -1, 'num_leaves': 31, 'objective': None, 'random_state': None, 'reg_alpha': 0.0, 'reg_lambda': 0.0, 'silent': True, 'subsample': 0.9, 'subsample_for_bin': 200000, 'subsample_freq': 0, 'nthread': -1, 'seed': 0}\n",
      " 22%|██▎       | 9/40 [00:32<01:59,  3.84s/trial, best loss: 191.28734114218005]"
     ]
    },
    {
     "name": "stderr",
     "output_type": "stream",
     "text": [
      "/opt/conda/lib/python3.7/site-packages/sklearn/linear_model/_coordinate_descent.py:476: ConvergenceWarning: Objective did not converge. You might want to increase the number of iterations. Duality gap: 5759007.281884576, tolerance: 1330.8976461472394\n",
      "  positive)\n",
      "\n",
      "/opt/conda/lib/python3.7/site-packages/sklearn/linear_model/_coordinate_descent.py:476: ConvergenceWarning: Objective did not converge. You might want to increase the number of iterations. Duality gap: 5331342.366964197, tolerance: 1306.6447314685313\n",
      "  positive)\n",
      "\n",
      "/opt/conda/lib/python3.7/site-packages/sklearn/linear_model/_coordinate_descent.py:476: ConvergenceWarning: Objective did not converge. You might want to increase the number of iterations. Duality gap: 5589147.332537356, tolerance: 1325.4078826156306\n",
      "  positive)\n",
      "\n"
     ]
    },
    {
     "name": "stdout",
     "output_type": "stream",
     "text": [
      "MEAN SCORE : neg_mean_squared_error = -174.67717672441282                       \n",
      "VARIANCE : 5.501864652483698 (fold 1 = -166.9035751198656, fold 2 = -178.27395933465385, fold 3 = -178.85399571871903)\n",
      "CPU time: 5.422521114349365 seconds                                             \n",
      "##################################################### testing hyper-parameters... #####################################################\n",
      ">>> NA ENCODER :{'numerical_strategy': 0, 'categorical_strategy': '<NULL>'}      \n",
      ">>> CA ENCODER :{'strategy': 'entity_embedding'}                                 \n",
      ">>> FEATURE SELECTOR :{'strategy': 'l1', 'threshold': 0.1379623653208513}        \n",
      ">>> ESTIMATOR :{'strategy': 'LightGBM', 'max_depth': 4, 'boosting_type': 'gbdt', 'class_weight': None, 'colsample_bytree': 0.8, 'importance_type': 'split', 'learning_rate': 0.05, 'min_child_samples': 20, 'min_child_weight': 0.001, 'min_split_gain': 0.0, 'n_estimators': 500, 'n_jobs': -1, 'num_leaves': 31, 'objective': None, 'random_state': None, 'reg_alpha': 0.0, 'reg_lambda': 0.0, 'silent': True, 'subsample': 0.9, 'subsample_for_bin': 200000, 'subsample_freq': 0, 'nthread': -1, 'seed': 0}\n",
      " 25%|██▌       | 10/40 [00:37<02:09,  4.32s/trial, best loss: 174.67717672441282]"
     ]
    },
    {
     "name": "stderr",
     "output_type": "stream",
     "text": [
      "/opt/conda/lib/python3.7/site-packages/sklearn/linear_model/_coordinate_descent.py:476: ConvergenceWarning: Objective did not converge. You might want to increase the number of iterations. Duality gap: 5759007.281884576, tolerance: 1330.8976461472394\n",
      "  positive)\n",
      "\n",
      "/opt/conda/lib/python3.7/site-packages/sklearn/linear_model/_coordinate_descent.py:476: ConvergenceWarning: Objective did not converge. You might want to increase the number of iterations. Duality gap: 5331342.366964197, tolerance: 1306.6447314685313\n",
      "  positive)\n",
      "\n",
      "/opt/conda/lib/python3.7/site-packages/sklearn/linear_model/_coordinate_descent.py:476: ConvergenceWarning: Objective did not converge. You might want to increase the number of iterations. Duality gap: 5589147.332537356, tolerance: 1325.4078826156306\n",
      "  positive)\n",
      "\n"
     ]
    },
    {
     "name": "stdout",
     "output_type": "stream",
     "text": [
      "MEAN SCORE : neg_mean_squared_error = -233.3058660049643                         \n",
      "VARIANCE : 9.602981628831392 (fold 1 = -219.7384050134768, fold 2 = -240.6081386194014, fold 3 = -239.57105438201467)\n",
      "CPU time: 4.032430648803711 seconds                                              \n",
      "##################################################### testing hyper-parameters... #####################################################\n",
      ">>> NA ENCODER :{'numerical_strategy': 0, 'categorical_strategy': '<NULL>'}      \n",
      ">>> CA ENCODER :{'strategy': 'entity_embedding'}                                 \n",
      ">>> FEATURE SELECTOR :{'strategy': 'l1', 'threshold': 0.2110423765948858}        \n",
      ">>> ESTIMATOR :{'strategy': 'LightGBM', 'max_depth': 3, 'boosting_type': 'gbdt', 'class_weight': None, 'colsample_bytree': 0.8, 'importance_type': 'split', 'learning_rate': 0.05, 'min_child_samples': 20, 'min_child_weight': 0.001, 'min_split_gain': 0.0, 'n_estimators': 500, 'n_jobs': -1, 'num_leaves': 31, 'objective': None, 'random_state': None, 'reg_alpha': 0.0, 'reg_lambda': 0.0, 'silent': True, 'subsample': 0.9, 'subsample_for_bin': 200000, 'subsample_freq': 0, 'nthread': -1, 'seed': 0}\n",
      " 28%|██▊       | 11/40 [00:41<02:02,  4.24s/trial, best loss: 174.67717672441282]"
     ]
    },
    {
     "name": "stderr",
     "output_type": "stream",
     "text": [
      "/opt/conda/lib/python3.7/site-packages/sklearn/linear_model/_coordinate_descent.py:476: ConvergenceWarning: Objective did not converge. You might want to increase the number of iterations. Duality gap: 5759007.281884576, tolerance: 1330.8976461472394\n",
      "  positive)\n",
      "\n",
      "/opt/conda/lib/python3.7/site-packages/sklearn/linear_model/_coordinate_descent.py:476: ConvergenceWarning: Objective did not converge. You might want to increase the number of iterations. Duality gap: 5331342.366964197, tolerance: 1306.6447314685313\n",
      "  positive)\n",
      "\n",
      "/opt/conda/lib/python3.7/site-packages/sklearn/linear_model/_coordinate_descent.py:476: ConvergenceWarning: Objective did not converge. You might want to increase the number of iterations. Duality gap: 5589147.332537356, tolerance: 1325.4078826156306\n",
      "  positive)\n",
      "\n"
     ]
    },
    {
     "name": "stdout",
     "output_type": "stream",
     "text": [
      "MEAN SCORE : neg_mean_squared_error = -311.7605332271602                         \n",
      "VARIANCE : 10.094937585700304 (fold 1 = -298.0946937094737, fold 2 = -315.0164053211818, fold 3 = -322.17050065082503)\n",
      "CPU time: 3.180536985397339 seconds                                              \n",
      "##################################################### testing hyper-parameters... #####################################################\n",
      ">>> NA ENCODER :{'numerical_strategy': 0, 'categorical_strategy': '<NULL>'}      \n",
      ">>> CA ENCODER :{'strategy': 'label_encoding'}                                   \n",
      ">>> FEATURE SELECTOR :{'strategy': 'l1', 'threshold': 0.10867804895846078}       \n",
      ">>> ESTIMATOR :{'strategy': 'LightGBM', 'max_depth': 6, 'boosting_type': 'gbdt', 'class_weight': None, 'colsample_bytree': 0.8, 'importance_type': 'split', 'learning_rate': 0.05, 'min_child_samples': 20, 'min_child_weight': 0.001, 'min_split_gain': 0.0, 'n_estimators': 500, 'n_jobs': -1, 'num_leaves': 31, 'objective': None, 'random_state': None, 'reg_alpha': 0.0, 'reg_lambda': 0.0, 'silent': True, 'subsample': 0.9, 'subsample_for_bin': 200000, 'subsample_freq': 0, 'nthread': -1, 'seed': 0}\n",
      " 30%|███       | 12/40 [00:44<01:50,  3.93s/trial, best loss: 174.67717672441282]"
     ]
    },
    {
     "name": "stderr",
     "output_type": "stream",
     "text": [
      "/opt/conda/lib/python3.7/site-packages/sklearn/linear_model/_coordinate_descent.py:476: ConvergenceWarning: Objective did not converge. You might want to increase the number of iterations. Duality gap: 5759007.281884576, tolerance: 1330.8976461472394\n",
      "  positive)\n",
      "\n",
      "/opt/conda/lib/python3.7/site-packages/sklearn/linear_model/_coordinate_descent.py:476: ConvergenceWarning: Objective did not converge. You might want to increase the number of iterations. Duality gap: 5331342.366964197, tolerance: 1306.6447314685313\n",
      "  positive)\n",
      "\n",
      "/opt/conda/lib/python3.7/site-packages/sklearn/linear_model/_coordinate_descent.py:476: ConvergenceWarning: Objective did not converge. You might want to increase the number of iterations. Duality gap: 5589147.332537356, tolerance: 1325.4078826156306\n",
      "  positive)\n",
      "\n"
     ]
    },
    {
     "name": "stdout",
     "output_type": "stream",
     "text": [
      "MEAN SCORE : neg_mean_squared_error = -174.67717672441282                        \n",
      "VARIANCE : 5.501864652483698 (fold 1 = -166.9035751198656, fold 2 = -178.27395933465385, fold 3 = -178.85399571871903)\n",
      "CPU time: 5.419253587722778 seconds                                              \n",
      "##################################################### testing hyper-parameters... #####################################################\n",
      ">>> NA ENCODER :{'numerical_strategy': 0, 'categorical_strategy': '<NULL>'}      \n",
      ">>> CA ENCODER :{'strategy': 'entity_embedding'}                                 \n",
      ">>> FEATURE SELECTOR :{'strategy': 'l1', 'threshold': 0.03358825027132237}       \n",
      ">>> ESTIMATOR :{'strategy': 'LightGBM', 'max_depth': 5, 'boosting_type': 'gbdt', 'class_weight': None, 'colsample_bytree': 0.8, 'importance_type': 'split', 'learning_rate': 0.05, 'min_child_samples': 20, 'min_child_weight': 0.001, 'min_split_gain': 0.0, 'n_estimators': 500, 'n_jobs': -1, 'num_leaves': 31, 'objective': None, 'random_state': None, 'reg_alpha': 0.0, 'reg_lambda': 0.0, 'silent': True, 'subsample': 0.9, 'subsample_for_bin': 200000, 'subsample_freq': 0, 'nthread': -1, 'seed': 0}\n",
      " 32%|███▎      | 13/40 [00:50<01:58,  4.40s/trial, best loss: 174.67717672441282]"
     ]
    },
    {
     "name": "stderr",
     "output_type": "stream",
     "text": [
      "/opt/conda/lib/python3.7/site-packages/sklearn/linear_model/_coordinate_descent.py:476: ConvergenceWarning: Objective did not converge. You might want to increase the number of iterations. Duality gap: 5759007.281884576, tolerance: 1330.8976461472394\n",
      "  positive)\n",
      "\n",
      "/opt/conda/lib/python3.7/site-packages/sklearn/linear_model/_coordinate_descent.py:476: ConvergenceWarning: Objective did not converge. You might want to increase the number of iterations. Duality gap: 5331342.366964197, tolerance: 1306.6447314685313\n",
      "  positive)\n",
      "\n",
      "/opt/conda/lib/python3.7/site-packages/sklearn/linear_model/_coordinate_descent.py:476: ConvergenceWarning: Objective did not converge. You might want to increase the number of iterations. Duality gap: 5589147.332537356, tolerance: 1325.4078826156306\n",
      "  positive)\n",
      "\n"
     ]
    },
    {
     "name": "stdout",
     "output_type": "stream",
     "text": [
      "MEAN SCORE : neg_mean_squared_error = -191.28734114218005                        \n",
      "VARIANCE : 8.034441749677725 (fold 1 = -180.50057454464076, fold 2 = -199.7730748611163, fold 3 = -193.5883740207831)\n",
      "CPU time: 5.258180379867554 seconds                                              \n",
      "##################################################### testing hyper-parameters... #####################################################\n",
      ">>> NA ENCODER :{'numerical_strategy': 0, 'categorical_strategy': '<NULL>'}      \n",
      ">>> CA ENCODER :{'strategy': 'random_projection'}                                \n",
      ">>> FEATURE SELECTOR :{'strategy': 'l1', 'threshold': 0.08619406694857305}       \n",
      ">>> ESTIMATOR :{'strategy': 'LightGBM', 'max_depth': 5, 'boosting_type': 'gbdt', 'class_weight': None, 'colsample_bytree': 0.8, 'importance_type': 'split', 'learning_rate': 0.05, 'min_child_samples': 20, 'min_child_weight': 0.001, 'min_split_gain': 0.0, 'n_estimators': 500, 'n_jobs': -1, 'num_leaves': 31, 'objective': None, 'random_state': None, 'reg_alpha': 0.0, 'reg_lambda': 0.0, 'silent': True, 'subsample': 0.9, 'subsample_for_bin': 200000, 'subsample_freq': 0, 'nthread': -1, 'seed': 0}\n",
      " 35%|███▌      | 14/40 [00:55<02:01,  4.67s/trial, best loss: 174.67717672441282]"
     ]
    },
    {
     "name": "stderr",
     "output_type": "stream",
     "text": [
      "/opt/conda/lib/python3.7/site-packages/sklearn/linear_model/_coordinate_descent.py:476: ConvergenceWarning: Objective did not converge. You might want to increase the number of iterations. Duality gap: 5759007.281884576, tolerance: 1330.8976461472394\n",
      "  positive)\n",
      "\n",
      "/opt/conda/lib/python3.7/site-packages/sklearn/linear_model/_coordinate_descent.py:476: ConvergenceWarning: Objective did not converge. You might want to increase the number of iterations. Duality gap: 5331342.366964197, tolerance: 1306.6447314685313\n",
      "  positive)\n",
      "\n",
      "/opt/conda/lib/python3.7/site-packages/sklearn/linear_model/_coordinate_descent.py:476: ConvergenceWarning: Objective did not converge. You might want to increase the number of iterations. Duality gap: 5589147.332537356, tolerance: 1325.4078826156306\n",
      "  positive)\n",
      "\n"
     ]
    },
    {
     "name": "stdout",
     "output_type": "stream",
     "text": [
      "MEAN SCORE : neg_mean_squared_error = -191.28734114218005                        \n",
      "VARIANCE : 8.034441749677725 (fold 1 = -180.50057454464076, fold 2 = -199.7730748611163, fold 3 = -193.5883740207831)\n",
      "CPU time: 4.548216104507446 seconds                                              \n",
      "##################################################### testing hyper-parameters... #####################################################\n",
      ">>> NA ENCODER :{'numerical_strategy': 0, 'categorical_strategy': '<NULL>'}      \n",
      ">>> CA ENCODER :{'strategy': 'entity_embedding'}                                 \n",
      ">>> FEATURE SELECTOR :{'strategy': 'l1', 'threshold': 0.05173766265956951}       \n",
      ">>> ESTIMATOR :{'strategy': 'LightGBM', 'max_depth': 7, 'boosting_type': 'gbdt', 'class_weight': None, 'colsample_bytree': 0.8, 'importance_type': 'split', 'learning_rate': 0.05, 'min_child_samples': 20, 'min_child_weight': 0.001, 'min_split_gain': 0.0, 'n_estimators': 500, 'n_jobs': -1, 'num_leaves': 31, 'objective': None, 'random_state': None, 'reg_alpha': 0.0, 'reg_lambda': 0.0, 'silent': True, 'subsample': 0.9, 'subsample_for_bin': 200000, 'subsample_freq': 0, 'nthread': -1, 'seed': 0}\n",
      " 38%|███▊      | 15/40 [01:00<01:56,  4.64s/trial, best loss: 174.67717672441282]"
     ]
    },
    {
     "name": "stderr",
     "output_type": "stream",
     "text": [
      "/opt/conda/lib/python3.7/site-packages/sklearn/linear_model/_coordinate_descent.py:476: ConvergenceWarning: Objective did not converge. You might want to increase the number of iterations. Duality gap: 5759007.281884576, tolerance: 1330.8976461472394\n",
      "  positive)\n",
      "\n",
      "/opt/conda/lib/python3.7/site-packages/sklearn/linear_model/_coordinate_descent.py:476: ConvergenceWarning: Objective did not converge. You might want to increase the number of iterations. Duality gap: 5331342.366964197, tolerance: 1306.6447314685313\n",
      "  positive)\n",
      "\n",
      "/opt/conda/lib/python3.7/site-packages/sklearn/linear_model/_coordinate_descent.py:476: ConvergenceWarning: Objective did not converge. You might want to increase the number of iterations. Duality gap: 5589147.332537356, tolerance: 1325.4078826156306\n",
      "  positive)\n",
      "\n"
     ]
    },
    {
     "name": "stdout",
     "output_type": "stream",
     "text": [
      "MEAN SCORE : neg_mean_squared_error = -170.54364618714683                        \n",
      "VARIANCE : 4.3465765548258 (fold 1 = -164.51930673783417, fold 2 = -174.61392378439146, fold 3 = -172.4977080392149)\n",
      "CPU time: 6.267253637313843 seconds                                              \n",
      "##################################################### testing hyper-parameters... #####################################################\n",
      ">>> NA ENCODER :{'numerical_strategy': 0, 'categorical_strategy': '<NULL>'}      \n",
      ">>> CA ENCODER :{'strategy': 'entity_embedding'}                                 \n",
      ">>> FEATURE SELECTOR :{'strategy': 'l1', 'threshold': 0.20893771770988076}       \n",
      ">>> ESTIMATOR :{'strategy': 'LightGBM', 'max_depth': 4, 'boosting_type': 'gbdt', 'class_weight': None, 'colsample_bytree': 0.8, 'importance_type': 'split', 'learning_rate': 0.05, 'min_child_samples': 20, 'min_child_weight': 0.001, 'min_split_gain': 0.0, 'n_estimators': 500, 'n_jobs': -1, 'num_leaves': 31, 'objective': None, 'random_state': None, 'reg_alpha': 0.0, 'reg_lambda': 0.0, 'silent': True, 'subsample': 0.9, 'subsample_for_bin': 200000, 'subsample_freq': 0, 'nthread': -1, 'seed': 0}\n",
      " 40%|████      | 16/40 [01:06<02:03,  5.14s/trial, best loss: 170.54364618714683]"
     ]
    },
    {
     "name": "stderr",
     "output_type": "stream",
     "text": [
      "/opt/conda/lib/python3.7/site-packages/sklearn/linear_model/_coordinate_descent.py:476: ConvergenceWarning: Objective did not converge. You might want to increase the number of iterations. Duality gap: 5759007.281884576, tolerance: 1330.8976461472394\n",
      "  positive)\n",
      "\n",
      "/opt/conda/lib/python3.7/site-packages/sklearn/linear_model/_coordinate_descent.py:476: ConvergenceWarning: Objective did not converge. You might want to increase the number of iterations. Duality gap: 5331342.366964197, tolerance: 1306.6447314685313\n",
      "  positive)\n",
      "\n",
      "/opt/conda/lib/python3.7/site-packages/sklearn/linear_model/_coordinate_descent.py:476: ConvergenceWarning: Objective did not converge. You might want to increase the number of iterations. Duality gap: 5589147.332537356, tolerance: 1325.4078826156306\n",
      "  positive)\n",
      "\n"
     ]
    },
    {
     "name": "stdout",
     "output_type": "stream",
     "text": [
      "MEAN SCORE : neg_mean_squared_error = -233.3058660049643                         \n",
      "VARIANCE : 9.602981628831392 (fold 1 = -219.7384050134768, fold 2 = -240.6081386194014, fold 3 = -239.57105438201467)\n",
      "CPU time: 4.290418863296509 seconds                                              \n",
      "##################################################### testing hyper-parameters... #####################################################\n",
      ">>> NA ENCODER :{'numerical_strategy': 0, 'categorical_strategy': '<NULL>'}      \n",
      ">>> CA ENCODER :{'strategy': 'label_encoding'}                                   \n",
      ">>> FEATURE SELECTOR :{'strategy': 'l1', 'threshold': 0.09554515317572372}       \n",
      ">>> ESTIMATOR :{'strategy': 'LightGBM', 'max_depth': 7, 'boosting_type': 'gbdt', 'class_weight': None, 'colsample_bytree': 0.8, 'importance_type': 'split', 'learning_rate': 0.05, 'min_child_samples': 20, 'min_child_weight': 0.001, 'min_split_gain': 0.0, 'n_estimators': 500, 'n_jobs': -1, 'num_leaves': 31, 'objective': None, 'random_state': None, 'reg_alpha': 0.0, 'reg_lambda': 0.0, 'silent': True, 'subsample': 0.9, 'subsample_for_bin': 200000, 'subsample_freq': 0, 'nthread': -1, 'seed': 0}\n",
      " 42%|████▎     | 17/40 [01:10<01:52,  4.89s/trial, best loss: 170.54364618714683]"
     ]
    },
    {
     "name": "stderr",
     "output_type": "stream",
     "text": [
      "/opt/conda/lib/python3.7/site-packages/sklearn/linear_model/_coordinate_descent.py:476: ConvergenceWarning: Objective did not converge. You might want to increase the number of iterations. Duality gap: 5759007.281884576, tolerance: 1330.8976461472394\n",
      "  positive)\n",
      "\n",
      "/opt/conda/lib/python3.7/site-packages/sklearn/linear_model/_coordinate_descent.py:476: ConvergenceWarning: Objective did not converge. You might want to increase the number of iterations. Duality gap: 5331342.366964197, tolerance: 1306.6447314685313\n",
      "  positive)\n",
      "\n",
      "/opt/conda/lib/python3.7/site-packages/sklearn/linear_model/_coordinate_descent.py:476: ConvergenceWarning: Objective did not converge. You might want to increase the number of iterations. Duality gap: 5589147.332537356, tolerance: 1325.4078826156306\n",
      "  positive)\n",
      "\n"
     ]
    },
    {
     "name": "stdout",
     "output_type": "stream",
     "text": [
      "MEAN SCORE : neg_mean_squared_error = -170.54364618714683                        \n",
      "VARIANCE : 4.3465765548258 (fold 1 = -164.51930673783417, fold 2 = -174.61392378439146, fold 3 = -172.4977080392149)\n",
      "CPU time: 5.884581804275513 seconds                                              \n",
      "##################################################### testing hyper-parameters... #####################################################\n",
      ">>> NA ENCODER :{'numerical_strategy': 0, 'categorical_strategy': '<NULL>'}      \n",
      ">>> CA ENCODER :{'strategy': 'random_projection'}                                \n",
      ">>> FEATURE SELECTOR :{'strategy': 'l1', 'threshold': 0.22894927729272535}       \n",
      ">>> ESTIMATOR :{'strategy': 'LightGBM', 'max_depth': 5, 'boosting_type': 'gbdt', 'class_weight': None, 'colsample_bytree': 0.8, 'importance_type': 'split', 'learning_rate': 0.05, 'min_child_samples': 20, 'min_child_weight': 0.001, 'min_split_gain': 0.0, 'n_estimators': 500, 'n_jobs': -1, 'num_leaves': 31, 'objective': None, 'random_state': None, 'reg_alpha': 0.0, 'reg_lambda': 0.0, 'silent': True, 'subsample': 0.9, 'subsample_for_bin': 200000, 'subsample_freq': 0, 'nthread': -1, 'seed': 0}\n",
      " 45%|████▌     | 18/40 [01:16<01:54,  5.20s/trial, best loss: 170.54364618714683]"
     ]
    },
    {
     "name": "stderr",
     "output_type": "stream",
     "text": [
      "/opt/conda/lib/python3.7/site-packages/sklearn/linear_model/_coordinate_descent.py:476: ConvergenceWarning: Objective did not converge. You might want to increase the number of iterations. Duality gap: 5759007.281884576, tolerance: 1330.8976461472394\n",
      "  positive)\n",
      "\n",
      "/opt/conda/lib/python3.7/site-packages/sklearn/linear_model/_coordinate_descent.py:476: ConvergenceWarning: Objective did not converge. You might want to increase the number of iterations. Duality gap: 5331342.366964197, tolerance: 1306.6447314685313\n",
      "  positive)\n",
      "\n",
      "/opt/conda/lib/python3.7/site-packages/sklearn/linear_model/_coordinate_descent.py:476: ConvergenceWarning: Objective did not converge. You might want to increase the number of iterations. Duality gap: 5589147.332537356, tolerance: 1325.4078826156306\n",
      "  positive)\n",
      "\n"
     ]
    },
    {
     "name": "stdout",
     "output_type": "stream",
     "text": [
      "MEAN SCORE : neg_mean_squared_error = -191.28734114218005                        \n",
      "VARIANCE : 8.034441749677725 (fold 1 = -180.50057454464076, fold 2 = -199.7730748611163, fold 3 = -193.5883740207831)\n",
      "CPU time: 5.61267614364624 seconds                                               \n",
      "##################################################### testing hyper-parameters... #####################################################\n",
      ">>> NA ENCODER :{'numerical_strategy': 0, 'categorical_strategy': '<NULL>'}      \n",
      ">>> CA ENCODER :{'strategy': 'random_projection'}                                \n",
      ">>> FEATURE SELECTOR :{'strategy': 'l1', 'threshold': 0.11772616371702926}       \n",
      ">>> ESTIMATOR :{'strategy': 'LightGBM', 'max_depth': 3, 'boosting_type': 'gbdt', 'class_weight': None, 'colsample_bytree': 0.8, 'importance_type': 'split', 'learning_rate': 0.05, 'min_child_samples': 20, 'min_child_weight': 0.001, 'min_split_gain': 0.0, 'n_estimators': 500, 'n_jobs': -1, 'num_leaves': 31, 'objective': None, 'random_state': None, 'reg_alpha': 0.0, 'reg_lambda': 0.0, 'silent': True, 'subsample': 0.9, 'subsample_for_bin': 200000, 'subsample_freq': 0, 'nthread': -1, 'seed': 0}\n",
      " 48%|████▊     | 19/40 [01:22<01:51,  5.33s/trial, best loss: 170.54364618714683]"
     ]
    },
    {
     "name": "stderr",
     "output_type": "stream",
     "text": [
      "/opt/conda/lib/python3.7/site-packages/sklearn/linear_model/_coordinate_descent.py:476: ConvergenceWarning: Objective did not converge. You might want to increase the number of iterations. Duality gap: 5759007.281884576, tolerance: 1330.8976461472394\n",
      "  positive)\n",
      "\n",
      "/opt/conda/lib/python3.7/site-packages/sklearn/linear_model/_coordinate_descent.py:476: ConvergenceWarning: Objective did not converge. You might want to increase the number of iterations. Duality gap: 5331342.366964197, tolerance: 1306.6447314685313\n",
      "  positive)\n",
      "\n",
      "/opt/conda/lib/python3.7/site-packages/sklearn/linear_model/_coordinate_descent.py:476: ConvergenceWarning: Objective did not converge. You might want to increase the number of iterations. Duality gap: 5589147.332537356, tolerance: 1325.4078826156306\n",
      "  positive)\n",
      "\n"
     ]
    },
    {
     "name": "stdout",
     "output_type": "stream",
     "text": [
      "MEAN SCORE : neg_mean_squared_error = -311.7605332271602                         \n",
      "VARIANCE : 10.094937585700304 (fold 1 = -298.0946937094737, fold 2 = -315.0164053211818, fold 3 = -322.17050065082503)\n",
      "CPU time: 3.5180845260620117 seconds                                             \n",
      "##################################################### testing hyper-parameters... #####################################################\n",
      ">>> NA ENCODER :{'numerical_strategy': 0, 'categorical_strategy': '<NULL>'}      \n",
      ">>> CA ENCODER :{'strategy': 'label_encoding'}                                   \n",
      ">>> FEATURE SELECTOR :{'strategy': 'l1', 'threshold': 0.01026588700843939}       \n",
      ">>> ESTIMATOR :{'strategy': 'LightGBM', 'max_depth': 7, 'boosting_type': 'gbdt', 'class_weight': None, 'colsample_bytree': 0.8, 'importance_type': 'split', 'learning_rate': 0.05, 'min_child_samples': 20, 'min_child_weight': 0.001, 'min_split_gain': 0.0, 'n_estimators': 500, 'n_jobs': -1, 'num_leaves': 31, 'objective': None, 'random_state': None, 'reg_alpha': 0.0, 'reg_lambda': 0.0, 'silent': True, 'subsample': 0.9, 'subsample_for_bin': 200000, 'subsample_freq': 0, 'nthread': -1, 'seed': 0}\n",
      " 50%|█████     | 20/40 [01:26<01:35,  4.79s/trial, best loss: 170.54364618714683]"
     ]
    },
    {
     "name": "stderr",
     "output_type": "stream",
     "text": [
      "/opt/conda/lib/python3.7/site-packages/sklearn/linear_model/_coordinate_descent.py:476: ConvergenceWarning: Objective did not converge. You might want to increase the number of iterations. Duality gap: 5759007.281884576, tolerance: 1330.8976461472394\n",
      "  positive)\n",
      "\n",
      "/opt/conda/lib/python3.7/site-packages/sklearn/linear_model/_coordinate_descent.py:476: ConvergenceWarning: Objective did not converge. You might want to increase the number of iterations. Duality gap: 5331342.366964197, tolerance: 1306.6447314685313\n",
      "  positive)\n",
      "\n",
      "/opt/conda/lib/python3.7/site-packages/sklearn/linear_model/_coordinate_descent.py:476: ConvergenceWarning: Objective did not converge. You might want to increase the number of iterations. Duality gap: 5589147.332537356, tolerance: 1325.4078826156306\n",
      "  positive)\n",
      "\n"
     ]
    },
    {
     "name": "stdout",
     "output_type": "stream",
     "text": [
      "MEAN SCORE : neg_mean_squared_error = -170.54364618714683                        \n",
      "VARIANCE : 4.3465765548258 (fold 1 = -164.51930673783417, fold 2 = -174.61392378439146, fold 3 = -172.4977080392149)\n",
      "CPU time: 6.7330663204193115 seconds                                             \n",
      "##################################################### testing hyper-parameters... #####################################################\n",
      ">>> NA ENCODER :{'numerical_strategy': 0, 'categorical_strategy': '<NULL>'}      \n",
      ">>> CA ENCODER :{'strategy': 'label_encoding'}                                   \n",
      ">>> FEATURE SELECTOR :{'strategy': 'l1', 'threshold': 0.010968121247092276}      \n",
      ">>> ESTIMATOR :{'strategy': 'LightGBM', 'max_depth': 7, 'boosting_type': 'gbdt', 'class_weight': None, 'colsample_bytree': 0.8, 'importance_type': 'split', 'learning_rate': 0.05, 'min_child_samples': 20, 'min_child_weight': 0.001, 'min_split_gain': 0.0, 'n_estimators': 500, 'n_jobs': -1, 'num_leaves': 31, 'objective': None, 'random_state': None, 'reg_alpha': 0.0, 'reg_lambda': 0.0, 'silent': True, 'subsample': 0.9, 'subsample_for_bin': 200000, 'subsample_freq': 0, 'nthread': -1, 'seed': 0}\n",
      " 52%|█████▎    | 21/40 [01:32<01:42,  5.38s/trial, best loss: 170.54364618714683]"
     ]
    },
    {
     "name": "stderr",
     "output_type": "stream",
     "text": [
      "/opt/conda/lib/python3.7/site-packages/sklearn/linear_model/_coordinate_descent.py:476: ConvergenceWarning: Objective did not converge. You might want to increase the number of iterations. Duality gap: 5759007.281884576, tolerance: 1330.8976461472394\n",
      "  positive)\n",
      "\n",
      "/opt/conda/lib/python3.7/site-packages/sklearn/linear_model/_coordinate_descent.py:476: ConvergenceWarning: Objective did not converge. You might want to increase the number of iterations. Duality gap: 5331342.366964197, tolerance: 1306.6447314685313\n",
      "  positive)\n",
      "\n",
      "/opt/conda/lib/python3.7/site-packages/sklearn/linear_model/_coordinate_descent.py:476: ConvergenceWarning: Objective did not converge. You might want to increase the number of iterations. Duality gap: 5589147.332537356, tolerance: 1325.4078826156306\n",
      "  positive)\n",
      "\n"
     ]
    },
    {
     "name": "stdout",
     "output_type": "stream",
     "text": [
      "MEAN SCORE : neg_mean_squared_error = -170.54364618714683                        \n",
      "VARIANCE : 4.3465765548258 (fold 1 = -164.51930673783417, fold 2 = -174.61392378439146, fold 3 = -172.4977080392149)\n",
      "CPU time: 5.60931396484375 seconds                                               \n",
      "##################################################### testing hyper-parameters... #####################################################\n",
      ">>> NA ENCODER :{'numerical_strategy': 0, 'categorical_strategy': '<NULL>'}      \n",
      ">>> CA ENCODER :{'strategy': 'label_encoding'}                                   \n",
      ">>> FEATURE SELECTOR :{'strategy': 'l1', 'threshold': 0.06077840334239019}       \n",
      ">>> ESTIMATOR :{'strategy': 'LightGBM', 'max_depth': 7, 'boosting_type': 'gbdt', 'class_weight': None, 'colsample_bytree': 0.8, 'importance_type': 'split', 'learning_rate': 0.05, 'min_child_samples': 20, 'min_child_weight': 0.001, 'min_split_gain': 0.0, 'n_estimators': 500, 'n_jobs': -1, 'num_leaves': 31, 'objective': None, 'random_state': None, 'reg_alpha': 0.0, 'reg_lambda': 0.0, 'silent': True, 'subsample': 0.9, 'subsample_for_bin': 200000, 'subsample_freq': 0, 'nthread': -1, 'seed': 0}\n",
      " 55%|█████▌    | 22/40 [01:38<01:38,  5.47s/trial, best loss: 170.54364618714683]"
     ]
    },
    {
     "name": "stderr",
     "output_type": "stream",
     "text": [
      "/opt/conda/lib/python3.7/site-packages/sklearn/linear_model/_coordinate_descent.py:476: ConvergenceWarning: Objective did not converge. You might want to increase the number of iterations. Duality gap: 5759007.281884576, tolerance: 1330.8976461472394\n",
      "  positive)\n",
      "\n",
      "/opt/conda/lib/python3.7/site-packages/sklearn/linear_model/_coordinate_descent.py:476: ConvergenceWarning: Objective did not converge. You might want to increase the number of iterations. Duality gap: 5331342.366964197, tolerance: 1306.6447314685313\n",
      "  positive)\n",
      "\n",
      "/opt/conda/lib/python3.7/site-packages/sklearn/linear_model/_coordinate_descent.py:476: ConvergenceWarning: Objective did not converge. You might want to increase the number of iterations. Duality gap: 5589147.332537356, tolerance: 1325.4078826156306\n",
      "  positive)\n",
      "\n"
     ]
    },
    {
     "name": "stdout",
     "output_type": "stream",
     "text": [
      "MEAN SCORE : neg_mean_squared_error = -170.54364618714683                        \n",
      "VARIANCE : 4.3465765548258 (fold 1 = -164.51930673783417, fold 2 = -174.61392378439146, fold 3 = -172.4977080392149)\n",
      "CPU time: 5.907495737075806 seconds                                              \n",
      "##################################################### testing hyper-parameters... #####################################################\n",
      ">>> NA ENCODER :{'numerical_strategy': 0, 'categorical_strategy': '<NULL>'}      \n",
      ">>> CA ENCODER :{'strategy': 'label_encoding'}                                   \n",
      ">>> FEATURE SELECTOR :{'strategy': 'l1', 'threshold': 0.05909078207274554}       \n",
      ">>> ESTIMATOR :{'strategy': 'LightGBM', 'max_depth': 7, 'boosting_type': 'gbdt', 'class_weight': None, 'colsample_bytree': 0.8, 'importance_type': 'split', 'learning_rate': 0.05, 'min_child_samples': 20, 'min_child_weight': 0.001, 'min_split_gain': 0.0, 'n_estimators': 500, 'n_jobs': -1, 'num_leaves': 31, 'objective': None, 'random_state': None, 'reg_alpha': 0.0, 'reg_lambda': 0.0, 'silent': True, 'subsample': 0.9, 'subsample_for_bin': 200000, 'subsample_freq': 0, 'nthread': -1, 'seed': 0}\n",
      " 57%|█████▊    | 23/40 [01:44<01:35,  5.61s/trial, best loss: 170.54364618714683]"
     ]
    },
    {
     "name": "stderr",
     "output_type": "stream",
     "text": [
      "/opt/conda/lib/python3.7/site-packages/sklearn/linear_model/_coordinate_descent.py:476: ConvergenceWarning: Objective did not converge. You might want to increase the number of iterations. Duality gap: 5759007.281884576, tolerance: 1330.8976461472394\n",
      "  positive)\n",
      "\n",
      "/opt/conda/lib/python3.7/site-packages/sklearn/linear_model/_coordinate_descent.py:476: ConvergenceWarning: Objective did not converge. You might want to increase the number of iterations. Duality gap: 5331342.366964197, tolerance: 1306.6447314685313\n",
      "  positive)\n",
      "\n",
      "/opt/conda/lib/python3.7/site-packages/sklearn/linear_model/_coordinate_descent.py:476: ConvergenceWarning: Objective did not converge. You might want to increase the number of iterations. Duality gap: 5589147.332537356, tolerance: 1325.4078826156306\n",
      "  positive)\n",
      "\n"
     ]
    },
    {
     "name": "stdout",
     "output_type": "stream",
     "text": [
      "MEAN SCORE : neg_mean_squared_error = -170.54364618714683                        \n",
      "VARIANCE : 4.3465765548258 (fold 1 = -164.51930673783417, fold 2 = -174.61392378439146, fold 3 = -172.4977080392149)\n",
      "CPU time: 5.521652698516846 seconds                                              \n",
      "##################################################### testing hyper-parameters... #####################################################\n",
      ">>> NA ENCODER :{'numerical_strategy': 0, 'categorical_strategy': '<NULL>'}      \n",
      ">>> CA ENCODER :{'strategy': 'label_encoding'}                                   \n",
      ">>> FEATURE SELECTOR :{'strategy': 'l1', 'threshold': 0.012734909559310954}      \n",
      ">>> ESTIMATOR :{'strategy': 'LightGBM', 'max_depth': 7, 'boosting_type': 'gbdt', 'class_weight': None, 'colsample_bytree': 0.8, 'importance_type': 'split', 'learning_rate': 0.05, 'min_child_samples': 20, 'min_child_weight': 0.001, 'min_split_gain': 0.0, 'n_estimators': 500, 'n_jobs': -1, 'num_leaves': 31, 'objective': None, 'random_state': None, 'reg_alpha': 0.0, 'reg_lambda': 0.0, 'silent': True, 'subsample': 0.9, 'subsample_for_bin': 200000, 'subsample_freq': 0, 'nthread': -1, 'seed': 0}\n",
      " 60%|██████    | 24/40 [01:49<01:29,  5.59s/trial, best loss: 170.54364618714683]"
     ]
    },
    {
     "name": "stderr",
     "output_type": "stream",
     "text": [
      "/opt/conda/lib/python3.7/site-packages/sklearn/linear_model/_coordinate_descent.py:476: ConvergenceWarning: Objective did not converge. You might want to increase the number of iterations. Duality gap: 5759007.281884576, tolerance: 1330.8976461472394\n",
      "  positive)\n",
      "\n",
      "/opt/conda/lib/python3.7/site-packages/sklearn/linear_model/_coordinate_descent.py:476: ConvergenceWarning: Objective did not converge. You might want to increase the number of iterations. Duality gap: 5331342.366964197, tolerance: 1306.6447314685313\n",
      "  positive)\n",
      "\n",
      "/opt/conda/lib/python3.7/site-packages/sklearn/linear_model/_coordinate_descent.py:476: ConvergenceWarning: Objective did not converge. You might want to increase the number of iterations. Duality gap: 5589147.332537356, tolerance: 1325.4078826156306\n",
      "  positive)\n",
      "\n"
     ]
    },
    {
     "name": "stdout",
     "output_type": "stream",
     "text": [
      "MEAN SCORE : neg_mean_squared_error = -170.54364618714683                        \n",
      "VARIANCE : 4.3465765548258 (fold 1 = -164.51930673783417, fold 2 = -174.61392378439146, fold 3 = -172.4977080392149)\n",
      "CPU time: 5.993362188339233 seconds                                              \n",
      "##################################################### testing hyper-parameters... #####################################################\n",
      ">>> NA ENCODER :{'numerical_strategy': 0, 'categorical_strategy': '<NULL>'}      \n",
      ">>> CA ENCODER :{'strategy': 'label_encoding'}                                   \n",
      ">>> FEATURE SELECTOR :{'strategy': 'l1', 'threshold': 0.06734643317590283}       \n",
      ">>> ESTIMATOR :{'strategy': 'LightGBM', 'max_depth': 7, 'boosting_type': 'gbdt', 'class_weight': None, 'colsample_bytree': 0.8, 'importance_type': 'split', 'learning_rate': 0.05, 'min_child_samples': 20, 'min_child_weight': 0.001, 'min_split_gain': 0.0, 'n_estimators': 500, 'n_jobs': -1, 'num_leaves': 31, 'objective': None, 'random_state': None, 'reg_alpha': 0.0, 'reg_lambda': 0.0, 'silent': True, 'subsample': 0.9, 'subsample_for_bin': 200000, 'subsample_freq': 0, 'nthread': -1, 'seed': 0}\n",
      " 62%|██████▎   | 25/40 [01:56<01:25,  5.72s/trial, best loss: 170.54364618714683]"
     ]
    },
    {
     "name": "stderr",
     "output_type": "stream",
     "text": [
      "/opt/conda/lib/python3.7/site-packages/sklearn/linear_model/_coordinate_descent.py:476: ConvergenceWarning: Objective did not converge. You might want to increase the number of iterations. Duality gap: 5759007.281884576, tolerance: 1330.8976461472394\n",
      "  positive)\n",
      "\n",
      "/opt/conda/lib/python3.7/site-packages/sklearn/linear_model/_coordinate_descent.py:476: ConvergenceWarning: Objective did not converge. You might want to increase the number of iterations. Duality gap: 5331342.366964197, tolerance: 1306.6447314685313\n",
      "  positive)\n",
      "\n",
      "/opt/conda/lib/python3.7/site-packages/sklearn/linear_model/_coordinate_descent.py:476: ConvergenceWarning: Objective did not converge. You might want to increase the number of iterations. Duality gap: 5589147.332537356, tolerance: 1325.4078826156306\n",
      "  positive)\n",
      "\n"
     ]
    },
    {
     "name": "stdout",
     "output_type": "stream",
     "text": [
      "MEAN SCORE : neg_mean_squared_error = -170.54364618714683                        \n",
      "VARIANCE : 4.3465765548258 (fold 1 = -164.51930673783417, fold 2 = -174.61392378439146, fold 3 = -172.4977080392149)\n",
      "CPU time: 7.557229042053223 seconds                                              \n",
      "##################################################### testing hyper-parameters... #####################################################\n",
      ">>> NA ENCODER :{'numerical_strategy': 0, 'categorical_strategy': '<NULL>'}      \n",
      ">>> CA ENCODER :{'strategy': 'label_encoding'}                                   \n",
      ">>> FEATURE SELECTOR :{'strategy': 'l1', 'threshold': 0.07594078564443178}       \n",
      ">>> ESTIMATOR :{'strategy': 'LightGBM', 'max_depth': 7, 'boosting_type': 'gbdt', 'class_weight': None, 'colsample_bytree': 0.8, 'importance_type': 'split', 'learning_rate': 0.05, 'min_child_samples': 20, 'min_child_weight': 0.001, 'min_split_gain': 0.0, 'n_estimators': 500, 'n_jobs': -1, 'num_leaves': 31, 'objective': None, 'random_state': None, 'reg_alpha': 0.0, 'reg_lambda': 0.0, 'silent': True, 'subsample': 0.9, 'subsample_for_bin': 200000, 'subsample_freq': 0, 'nthread': -1, 'seed': 0}\n",
      " 65%|██████▌   | 26/40 [02:03<01:27,  6.29s/trial, best loss: 170.54364618714683]"
     ]
    },
    {
     "name": "stderr",
     "output_type": "stream",
     "text": [
      "/opt/conda/lib/python3.7/site-packages/sklearn/linear_model/_coordinate_descent.py:476: ConvergenceWarning: Objective did not converge. You might want to increase the number of iterations. Duality gap: 5759007.281884576, tolerance: 1330.8976461472394\n",
      "  positive)\n",
      "\n",
      "/opt/conda/lib/python3.7/site-packages/sklearn/linear_model/_coordinate_descent.py:476: ConvergenceWarning: Objective did not converge. You might want to increase the number of iterations. Duality gap: 5331342.366964197, tolerance: 1306.6447314685313\n",
      "  positive)\n",
      "\n",
      "/opt/conda/lib/python3.7/site-packages/sklearn/linear_model/_coordinate_descent.py:476: ConvergenceWarning: Objective did not converge. You might want to increase the number of iterations. Duality gap: 5589147.332537356, tolerance: 1325.4078826156306\n",
      "  positive)\n",
      "\n"
     ]
    },
    {
     "name": "stdout",
     "output_type": "stream",
     "text": [
      "MEAN SCORE : neg_mean_squared_error = -170.54364618714683                        \n",
      "VARIANCE : 4.3465765548258 (fold 1 = -164.51930673783417, fold 2 = -174.61392378439146, fold 3 = -172.4977080392149)\n",
      "CPU time: 6.15540623664856 seconds                                               \n",
      "##################################################### testing hyper-parameters... #####################################################\n",
      ">>> NA ENCODER :{'numerical_strategy': 0, 'categorical_strategy': '<NULL>'}      \n",
      ">>> CA ENCODER :{'strategy': 'label_encoding'}                                   \n",
      ">>> FEATURE SELECTOR :{'strategy': 'l1', 'threshold': 0.027113755265447306}      \n",
      ">>> ESTIMATOR :{'strategy': 'LightGBM', 'max_depth': 7, 'boosting_type': 'gbdt', 'class_weight': None, 'colsample_bytree': 0.8, 'importance_type': 'split', 'learning_rate': 0.05, 'min_child_samples': 20, 'min_child_weight': 0.001, 'min_split_gain': 0.0, 'n_estimators': 500, 'n_jobs': -1, 'num_leaves': 31, 'objective': None, 'random_state': None, 'reg_alpha': 0.0, 'reg_lambda': 0.0, 'silent': True, 'subsample': 0.9, 'subsample_for_bin': 200000, 'subsample_freq': 0, 'nthread': -1, 'seed': 0}\n",
      " 68%|██████▊   | 27/40 [02:09<01:21,  6.26s/trial, best loss: 170.54364618714683]"
     ]
    },
    {
     "name": "stderr",
     "output_type": "stream",
     "text": [
      "/opt/conda/lib/python3.7/site-packages/sklearn/linear_model/_coordinate_descent.py:476: ConvergenceWarning: Objective did not converge. You might want to increase the number of iterations. Duality gap: 5759007.281884576, tolerance: 1330.8976461472394\n",
      "  positive)\n",
      "\n",
      "/opt/conda/lib/python3.7/site-packages/sklearn/linear_model/_coordinate_descent.py:476: ConvergenceWarning: Objective did not converge. You might want to increase the number of iterations. Duality gap: 5331342.366964197, tolerance: 1306.6447314685313\n",
      "  positive)\n",
      "\n",
      "/opt/conda/lib/python3.7/site-packages/sklearn/linear_model/_coordinate_descent.py:476: ConvergenceWarning: Objective did not converge. You might want to increase the number of iterations. Duality gap: 5589147.332537356, tolerance: 1325.4078826156306\n",
      "  positive)\n",
      "\n"
     ]
    },
    {
     "name": "stdout",
     "output_type": "stream",
     "text": [
      "MEAN SCORE : neg_mean_squared_error = -170.54364618714683                        \n",
      "VARIANCE : 4.3465765548258 (fold 1 = -164.51930673783417, fold 2 = -174.61392378439146, fold 3 = -172.4977080392149)\n",
      "CPU time: 6.011642694473267 seconds                                              \n",
      "##################################################### testing hyper-parameters... #####################################################\n",
      ">>> NA ENCODER :{'numerical_strategy': 0, 'categorical_strategy': '<NULL>'}      \n",
      ">>> CA ENCODER :{'strategy': 'label_encoding'}                                   \n",
      ">>> FEATURE SELECTOR :{'strategy': 'l1', 'threshold': 0.037021905304778835}      \n",
      ">>> ESTIMATOR :{'strategy': 'LightGBM', 'max_depth': 7, 'boosting_type': 'gbdt', 'class_weight': None, 'colsample_bytree': 0.8, 'importance_type': 'split', 'learning_rate': 0.05, 'min_child_samples': 20, 'min_child_weight': 0.001, 'min_split_gain': 0.0, 'n_estimators': 500, 'n_jobs': -1, 'num_leaves': 31, 'objective': None, 'random_state': None, 'reg_alpha': 0.0, 'reg_lambda': 0.0, 'silent': True, 'subsample': 0.9, 'subsample_for_bin': 200000, 'subsample_freq': 0, 'nthread': -1, 'seed': 0}\n",
      " 70%|███████   | 28/40 [02:15<01:14,  6.20s/trial, best loss: 170.54364618714683]"
     ]
    },
    {
     "name": "stderr",
     "output_type": "stream",
     "text": [
      "/opt/conda/lib/python3.7/site-packages/sklearn/linear_model/_coordinate_descent.py:476: ConvergenceWarning: Objective did not converge. You might want to increase the number of iterations. Duality gap: 5759007.281884576, tolerance: 1330.8976461472394\n",
      "  positive)\n",
      "\n",
      "/opt/conda/lib/python3.7/site-packages/sklearn/linear_model/_coordinate_descent.py:476: ConvergenceWarning: Objective did not converge. You might want to increase the number of iterations. Duality gap: 5331342.366964197, tolerance: 1306.6447314685313\n",
      "  positive)\n",
      "\n",
      "/opt/conda/lib/python3.7/site-packages/sklearn/linear_model/_coordinate_descent.py:476: ConvergenceWarning: Objective did not converge. You might want to increase the number of iterations. Duality gap: 5589147.332537356, tolerance: 1325.4078826156306\n",
      "  positive)\n",
      "\n"
     ]
    },
    {
     "name": "stdout",
     "output_type": "stream",
     "text": [
      "MEAN SCORE : neg_mean_squared_error = -170.54364618714683                        \n",
      "VARIANCE : 4.3465765548258 (fold 1 = -164.51930673783417, fold 2 = -174.61392378439146, fold 3 = -172.4977080392149)\n",
      "CPU time: 5.944048643112183 seconds                                              \n",
      "##################################################### testing hyper-parameters... #####################################################\n",
      ">>> NA ENCODER :{'numerical_strategy': 0, 'categorical_strategy': '<NULL>'}      \n",
      ">>> CA ENCODER :{'strategy': 'label_encoding'}                                   \n",
      ">>> FEATURE SELECTOR :{'strategy': 'l1', 'threshold': 0.15389306112970028}       \n",
      ">>> ESTIMATOR :{'strategy': 'LightGBM', 'max_depth': 6, 'boosting_type': 'gbdt', 'class_weight': None, 'colsample_bytree': 0.8, 'importance_type': 'split', 'learning_rate': 0.05, 'min_child_samples': 20, 'min_child_weight': 0.001, 'min_split_gain': 0.0, 'n_estimators': 500, 'n_jobs': -1, 'num_leaves': 31, 'objective': None, 'random_state': None, 'reg_alpha': 0.0, 'reg_lambda': 0.0, 'silent': True, 'subsample': 0.9, 'subsample_for_bin': 200000, 'subsample_freq': 0, 'nthread': -1, 'seed': 0}\n",
      " 72%|███████▎  | 29/40 [02:21<01:07,  6.13s/trial, best loss: 170.54364618714683]"
     ]
    },
    {
     "name": "stderr",
     "output_type": "stream",
     "text": [
      "/opt/conda/lib/python3.7/site-packages/sklearn/linear_model/_coordinate_descent.py:476: ConvergenceWarning: Objective did not converge. You might want to increase the number of iterations. Duality gap: 5759007.281884576, tolerance: 1330.8976461472394\n",
      "  positive)\n",
      "\n",
      "/opt/conda/lib/python3.7/site-packages/sklearn/linear_model/_coordinate_descent.py:476: ConvergenceWarning: Objective did not converge. You might want to increase the number of iterations. Duality gap: 5331342.366964197, tolerance: 1306.6447314685313\n",
      "  positive)\n",
      "\n",
      "/opt/conda/lib/python3.7/site-packages/sklearn/linear_model/_coordinate_descent.py:476: ConvergenceWarning: Objective did not converge. You might want to increase the number of iterations. Duality gap: 5589147.332537356, tolerance: 1325.4078826156306\n",
      "  positive)\n",
      "\n"
     ]
    },
    {
     "name": "stdout",
     "output_type": "stream",
     "text": [
      "MEAN SCORE : neg_mean_squared_error = -174.67717672441282                        \n",
      "VARIANCE : 5.501864652483698 (fold 1 = -166.9035751198656, fold 2 = -178.27395933465385, fold 3 = -178.85399571871903)\n",
      "CPU time: 5.697422742843628 seconds                                              \n",
      "##################################################### testing hyper-parameters... #####################################################\n",
      ">>> NA ENCODER :{'numerical_strategy': 0, 'categorical_strategy': '<NULL>'}      \n",
      ">>> CA ENCODER :{'strategy': 'label_encoding'}                                   \n",
      ">>> FEATURE SELECTOR :{'strategy': 'l1', 'threshold': 0.07923030965359963}       \n",
      ">>> ESTIMATOR :{'strategy': 'LightGBM', 'max_depth': 7, 'boosting_type': 'gbdt', 'class_weight': None, 'colsample_bytree': 0.8, 'importance_type': 'split', 'learning_rate': 0.05, 'min_child_samples': 20, 'min_child_weight': 0.001, 'min_split_gain': 0.0, 'n_estimators': 500, 'n_jobs': -1, 'num_leaves': 31, 'objective': None, 'random_state': None, 'reg_alpha': 0.0, 'reg_lambda': 0.0, 'silent': True, 'subsample': 0.9, 'subsample_for_bin': 200000, 'subsample_freq': 0, 'nthread': -1, 'seed': 0}\n",
      " 75%|███████▌  | 30/40 [02:27<01:00,  6.02s/trial, best loss: 170.54364618714683]"
     ]
    },
    {
     "name": "stderr",
     "output_type": "stream",
     "text": [
      "/opt/conda/lib/python3.7/site-packages/sklearn/linear_model/_coordinate_descent.py:476: ConvergenceWarning: Objective did not converge. You might want to increase the number of iterations. Duality gap: 5759007.281884576, tolerance: 1330.8976461472394\n",
      "  positive)\n",
      "\n",
      "/opt/conda/lib/python3.7/site-packages/sklearn/linear_model/_coordinate_descent.py:476: ConvergenceWarning: Objective did not converge. You might want to increase the number of iterations. Duality gap: 5331342.366964197, tolerance: 1306.6447314685313\n",
      "  positive)\n",
      "\n",
      "/opt/conda/lib/python3.7/site-packages/sklearn/linear_model/_coordinate_descent.py:476: ConvergenceWarning: Objective did not converge. You might want to increase the number of iterations. Duality gap: 5589147.332537356, tolerance: 1325.4078826156306\n",
      "  positive)\n",
      "\n"
     ]
    },
    {
     "name": "stdout",
     "output_type": "stream",
     "text": [
      "MEAN SCORE : neg_mean_squared_error = -170.54364618714683                        \n",
      "VARIANCE : 4.3465765548258 (fold 1 = -164.51930673783417, fold 2 = -174.61392378439146, fold 3 = -172.4977080392149)\n",
      "CPU time: 5.94570779800415 seconds                                               \n",
      "##################################################### testing hyper-parameters... #####################################################\n",
      ">>> NA ENCODER :{'numerical_strategy': 0, 'categorical_strategy': '<NULL>'}      \n",
      ">>> CA ENCODER :{'strategy': 'entity_embedding'}                                 \n",
      ">>> FEATURE SELECTOR :{'strategy': 'l1', 'threshold': 0.042793686359856475}      \n",
      ">>> ESTIMATOR :{'strategy': 'LightGBM', 'max_depth': 7, 'boosting_type': 'gbdt', 'class_weight': None, 'colsample_bytree': 0.8, 'importance_type': 'split', 'learning_rate': 0.05, 'min_child_samples': 20, 'min_child_weight': 0.001, 'min_split_gain': 0.0, 'n_estimators': 500, 'n_jobs': -1, 'num_leaves': 31, 'objective': None, 'random_state': None, 'reg_alpha': 0.0, 'reg_lambda': 0.0, 'silent': True, 'subsample': 0.9, 'subsample_for_bin': 200000, 'subsample_freq': 0, 'nthread': -1, 'seed': 0}\n",
      " 78%|███████▊  | 31/40 [02:33<00:54,  6.01s/trial, best loss: 170.54364618714683]"
     ]
    },
    {
     "name": "stderr",
     "output_type": "stream",
     "text": [
      "/opt/conda/lib/python3.7/site-packages/sklearn/linear_model/_coordinate_descent.py:476: ConvergenceWarning: Objective did not converge. You might want to increase the number of iterations. Duality gap: 5759007.281884576, tolerance: 1330.8976461472394\n",
      "  positive)\n",
      "\n",
      "/opt/conda/lib/python3.7/site-packages/sklearn/linear_model/_coordinate_descent.py:476: ConvergenceWarning: Objective did not converge. You might want to increase the number of iterations. Duality gap: 5331342.366964197, tolerance: 1306.6447314685313\n",
      "  positive)\n",
      "\n",
      "/opt/conda/lib/python3.7/site-packages/sklearn/linear_model/_coordinate_descent.py:476: ConvergenceWarning: Objective did not converge. You might want to increase the number of iterations. Duality gap: 5589147.332537356, tolerance: 1325.4078826156306\n",
      "  positive)\n",
      "\n"
     ]
    },
    {
     "name": "stdout",
     "output_type": "stream",
     "text": [
      "MEAN SCORE : neg_mean_squared_error = -170.54364618714683                        \n",
      "VARIANCE : 4.3465765548258 (fold 1 = -164.51930673783417, fold 2 = -174.61392378439146, fold 3 = -172.4977080392149)\n",
      "CPU time: 6.735738515853882 seconds                                              \n",
      "##################################################### testing hyper-parameters... #####################################################\n",
      ">>> NA ENCODER :{'numerical_strategy': 0, 'categorical_strategy': '<NULL>'}      \n",
      ">>> CA ENCODER :{'strategy': 'entity_embedding'}                                 \n",
      ">>> FEATURE SELECTOR :{'strategy': 'l1', 'threshold': 0.27133504086538784}       \n",
      ">>> ESTIMATOR :{'strategy': 'LightGBM', 'max_depth': 7, 'boosting_type': 'gbdt', 'class_weight': None, 'colsample_bytree': 0.8, 'importance_type': 'split', 'learning_rate': 0.05, 'min_child_samples': 20, 'min_child_weight': 0.001, 'min_split_gain': 0.0, 'n_estimators': 500, 'n_jobs': -1, 'num_leaves': 31, 'objective': None, 'random_state': None, 'reg_alpha': 0.0, 'reg_lambda': 0.0, 'silent': True, 'subsample': 0.9, 'subsample_for_bin': 200000, 'subsample_freq': 0, 'nthread': -1, 'seed': 0}\n",
      " 80%|████████  | 32/40 [02:40<00:49,  6.24s/trial, best loss: 170.54364618714683]"
     ]
    },
    {
     "name": "stderr",
     "output_type": "stream",
     "text": [
      "/opt/conda/lib/python3.7/site-packages/sklearn/linear_model/_coordinate_descent.py:476: ConvergenceWarning: Objective did not converge. You might want to increase the number of iterations. Duality gap: 5759007.281884576, tolerance: 1330.8976461472394\n",
      "  positive)\n",
      "\n",
      "/opt/conda/lib/python3.7/site-packages/sklearn/linear_model/_coordinate_descent.py:476: ConvergenceWarning: Objective did not converge. You might want to increase the number of iterations. Duality gap: 5331342.366964197, tolerance: 1306.6447314685313\n",
      "  positive)\n",
      "\n",
      "/opt/conda/lib/python3.7/site-packages/sklearn/linear_model/_coordinate_descent.py:476: ConvergenceWarning: Objective did not converge. You might want to increase the number of iterations. Duality gap: 5589147.332537356, tolerance: 1325.4078826156306\n",
      "  positive)\n",
      "\n"
     ]
    },
    {
     "name": "stdout",
     "output_type": "stream",
     "text": [
      "MEAN SCORE : neg_mean_squared_error = -170.54364618714683                        \n",
      "VARIANCE : 4.3465765548258 (fold 1 = -164.51930673783417, fold 2 = -174.61392378439146, fold 3 = -172.4977080392149)\n",
      "CPU time: 6.607211351394653 seconds                                              \n",
      "##################################################### testing hyper-parameters... #####################################################\n",
      ">>> NA ENCODER :{'numerical_strategy': 0, 'categorical_strategy': '<NULL>'}      \n",
      ">>> CA ENCODER :{'strategy': 'entity_embedding'}                                 \n",
      ">>> FEATURE SELECTOR :{'strategy': 'l1', 'threshold': 0.2730848663935386}        \n",
      ">>> ESTIMATOR :{'strategy': 'LightGBM', 'max_depth': 6, 'boosting_type': 'gbdt', 'class_weight': None, 'colsample_bytree': 0.8, 'importance_type': 'split', 'learning_rate': 0.05, 'min_child_samples': 20, 'min_child_weight': 0.001, 'min_split_gain': 0.0, 'n_estimators': 500, 'n_jobs': -1, 'num_leaves': 31, 'objective': None, 'random_state': None, 'reg_alpha': 0.0, 'reg_lambda': 0.0, 'silent': True, 'subsample': 0.9, 'subsample_for_bin': 200000, 'subsample_freq': 0, 'nthread': -1, 'seed': 0}\n",
      " 82%|████████▎ | 33/40 [02:47<00:44,  6.36s/trial, best loss: 170.54364618714683]"
     ]
    },
    {
     "name": "stderr",
     "output_type": "stream",
     "text": [
      "/opt/conda/lib/python3.7/site-packages/sklearn/linear_model/_coordinate_descent.py:476: ConvergenceWarning: Objective did not converge. You might want to increase the number of iterations. Duality gap: 5759007.281884576, tolerance: 1330.8976461472394\n",
      "  positive)\n",
      "\n",
      "/opt/conda/lib/python3.7/site-packages/sklearn/linear_model/_coordinate_descent.py:476: ConvergenceWarning: Objective did not converge. You might want to increase the number of iterations. Duality gap: 5331342.366964197, tolerance: 1306.6447314685313\n",
      "  positive)\n",
      "\n",
      "/opt/conda/lib/python3.7/site-packages/sklearn/linear_model/_coordinate_descent.py:476: ConvergenceWarning: Objective did not converge. You might want to increase the number of iterations. Duality gap: 5589147.332537356, tolerance: 1325.4078826156306\n",
      "  positive)\n",
      "\n"
     ]
    },
    {
     "name": "stdout",
     "output_type": "stream",
     "text": [
      "MEAN SCORE : neg_mean_squared_error = -174.67717672441282                        \n",
      "VARIANCE : 5.501864652483698 (fold 1 = -166.9035751198656, fold 2 = -178.27395933465385, fold 3 = -178.85399571871903)\n",
      "CPU time: 6.137502908706665 seconds                                              \n",
      "##################################################### testing hyper-parameters... #####################################################\n",
      ">>> NA ENCODER :{'numerical_strategy': 0, 'categorical_strategy': '<NULL>'}      \n",
      ">>> CA ENCODER :{'strategy': 'label_encoding'}                                   \n",
      ">>> FEATURE SELECTOR :{'strategy': 'l1', 'threshold': 0.012450585443850743}      \n",
      ">>> ESTIMATOR :{'strategy': 'LightGBM', 'max_depth': 7, 'boosting_type': 'gbdt', 'class_weight': None, 'colsample_bytree': 0.8, 'importance_type': 'split', 'learning_rate': 0.05, 'min_child_samples': 20, 'min_child_weight': 0.001, 'min_split_gain': 0.0, 'n_estimators': 500, 'n_jobs': -1, 'num_leaves': 31, 'objective': None, 'random_state': None, 'reg_alpha': 0.0, 'reg_lambda': 0.0, 'silent': True, 'subsample': 0.9, 'subsample_for_bin': 200000, 'subsample_freq': 0, 'nthread': -1, 'seed': 0}\n",
      " 85%|████████▌ | 34/40 [02:53<00:37,  6.31s/trial, best loss: 170.54364618714683]"
     ]
    },
    {
     "name": "stderr",
     "output_type": "stream",
     "text": [
      "/opt/conda/lib/python3.7/site-packages/sklearn/linear_model/_coordinate_descent.py:476: ConvergenceWarning: Objective did not converge. You might want to increase the number of iterations. Duality gap: 5759007.281884576, tolerance: 1330.8976461472394\n",
      "  positive)\n",
      "\n",
      "/opt/conda/lib/python3.7/site-packages/sklearn/linear_model/_coordinate_descent.py:476: ConvergenceWarning: Objective did not converge. You might want to increase the number of iterations. Duality gap: 5331342.366964197, tolerance: 1306.6447314685313\n",
      "  positive)\n",
      "\n",
      "/opt/conda/lib/python3.7/site-packages/sklearn/linear_model/_coordinate_descent.py:476: ConvergenceWarning: Objective did not converge. You might want to increase the number of iterations. Duality gap: 5589147.332537356, tolerance: 1325.4078826156306\n",
      "  positive)\n",
      "\n"
     ]
    },
    {
     "name": "stdout",
     "output_type": "stream",
     "text": [
      "MEAN SCORE : neg_mean_squared_error = -170.54364618714683                        \n",
      "VARIANCE : 4.3465765548258 (fold 1 = -164.51930673783417, fold 2 = -174.61392378439146, fold 3 = -172.4977080392149)\n",
      "CPU time: 5.912200450897217 seconds                                              \n",
      "##################################################### testing hyper-parameters... #####################################################\n",
      ">>> NA ENCODER :{'numerical_strategy': 0, 'categorical_strategy': '<NULL>'}      \n",
      ">>> CA ENCODER :{'strategy': 'entity_embedding'}                                 \n",
      ">>> FEATURE SELECTOR :{'strategy': 'l1', 'threshold': 0.2968817217728386}        \n",
      ">>> ESTIMATOR :{'strategy': 'LightGBM', 'max_depth': 3, 'boosting_type': 'gbdt', 'class_weight': None, 'colsample_bytree': 0.8, 'importance_type': 'split', 'learning_rate': 0.05, 'min_child_samples': 20, 'min_child_weight': 0.001, 'min_split_gain': 0.0, 'n_estimators': 500, 'n_jobs': -1, 'num_leaves': 31, 'objective': None, 'random_state': None, 'reg_alpha': 0.0, 'reg_lambda': 0.0, 'silent': True, 'subsample': 0.9, 'subsample_for_bin': 200000, 'subsample_freq': 0, 'nthread': -1, 'seed': 0}\n",
      " 88%|████████▊ | 35/40 [02:59<00:31,  6.20s/trial, best loss: 170.54364618714683]"
     ]
    },
    {
     "name": "stderr",
     "output_type": "stream",
     "text": [
      "/opt/conda/lib/python3.7/site-packages/sklearn/linear_model/_coordinate_descent.py:476: ConvergenceWarning: Objective did not converge. You might want to increase the number of iterations. Duality gap: 5759007.281884576, tolerance: 1330.8976461472394\n",
      "  positive)\n",
      "\n",
      "/opt/conda/lib/python3.7/site-packages/sklearn/linear_model/_coordinate_descent.py:476: ConvergenceWarning: Objective did not converge. You might want to increase the number of iterations. Duality gap: 5331342.366964197, tolerance: 1306.6447314685313\n",
      "  positive)\n",
      "\n",
      "/opt/conda/lib/python3.7/site-packages/sklearn/linear_model/_coordinate_descent.py:476: ConvergenceWarning: Objective did not converge. You might want to increase the number of iterations. Duality gap: 5589147.332537356, tolerance: 1325.4078826156306\n",
      "  positive)\n",
      "\n"
     ]
    },
    {
     "name": "stdout",
     "output_type": "stream",
     "text": [
      "MEAN SCORE : neg_mean_squared_error = -311.7605332271602                         \n",
      "VARIANCE : 10.094937585700304 (fold 1 = -298.0946937094737, fold 2 = -315.0164053211818, fold 3 = -322.17050065082503)\n",
      "CPU time: 3.0989112854003906 seconds                                             \n",
      "##################################################### testing hyper-parameters... #####################################################\n",
      ">>> NA ENCODER :{'numerical_strategy': 0, 'categorical_strategy': '<NULL>'}      \n",
      ">>> CA ENCODER :{'strategy': 'label_encoding'}                                   \n",
      ">>> FEATURE SELECTOR :{'strategy': 'l1', 'threshold': 0.12809548223907002}       \n",
      ">>> ESTIMATOR :{'strategy': 'LightGBM', 'max_depth': 7, 'boosting_type': 'gbdt', 'class_weight': None, 'colsample_bytree': 0.8, 'importance_type': 'split', 'learning_rate': 0.05, 'min_child_samples': 20, 'min_child_weight': 0.001, 'min_split_gain': 0.0, 'n_estimators': 500, 'n_jobs': -1, 'num_leaves': 31, 'objective': None, 'random_state': None, 'reg_alpha': 0.0, 'reg_lambda': 0.0, 'silent': True, 'subsample': 0.9, 'subsample_for_bin': 200000, 'subsample_freq': 0, 'nthread': -1, 'seed': 0}\n",
      " 90%|█████████ | 36/40 [03:02<00:21,  5.28s/trial, best loss: 170.54364618714683]"
     ]
    },
    {
     "name": "stderr",
     "output_type": "stream",
     "text": [
      "/opt/conda/lib/python3.7/site-packages/sklearn/linear_model/_coordinate_descent.py:476: ConvergenceWarning: Objective did not converge. You might want to increase the number of iterations. Duality gap: 5759007.281884576, tolerance: 1330.8976461472394\n",
      "  positive)\n",
      "\n",
      "/opt/conda/lib/python3.7/site-packages/sklearn/linear_model/_coordinate_descent.py:476: ConvergenceWarning: Objective did not converge. You might want to increase the number of iterations. Duality gap: 5331342.366964197, tolerance: 1306.6447314685313\n",
      "  positive)\n",
      "\n",
      "/opt/conda/lib/python3.7/site-packages/sklearn/linear_model/_coordinate_descent.py:476: ConvergenceWarning: Objective did not converge. You might want to increase the number of iterations. Duality gap: 5589147.332537356, tolerance: 1325.4078826156306\n",
      "  positive)\n",
      "\n"
     ]
    },
    {
     "name": "stdout",
     "output_type": "stream",
     "text": [
      "MEAN SCORE : neg_mean_squared_error = -170.54364618714683                        \n",
      "VARIANCE : 4.3465765548258 (fold 1 = -164.51930673783417, fold 2 = -174.61392378439146, fold 3 = -172.4977080392149)\n",
      "CPU time: 5.995228052139282 seconds                                              \n",
      "##################################################### testing hyper-parameters... #####################################################\n",
      ">>> NA ENCODER :{'numerical_strategy': 0, 'categorical_strategy': '<NULL>'}      \n",
      ">>> CA ENCODER :{'strategy': 'label_encoding'}                                   \n",
      ">>> FEATURE SELECTOR :{'strategy': 'l1', 'threshold': 0.17964931401199252}       \n",
      ">>> ESTIMATOR :{'strategy': 'LightGBM', 'max_depth': 4, 'boosting_type': 'gbdt', 'class_weight': None, 'colsample_bytree': 0.8, 'importance_type': 'split', 'learning_rate': 0.05, 'min_child_samples': 20, 'min_child_weight': 0.001, 'min_split_gain': 0.0, 'n_estimators': 500, 'n_jobs': -1, 'num_leaves': 31, 'objective': None, 'random_state': None, 'reg_alpha': 0.0, 'reg_lambda': 0.0, 'silent': True, 'subsample': 0.9, 'subsample_for_bin': 200000, 'subsample_freq': 0, 'nthread': -1, 'seed': 0}\n",
      " 92%|█████████▎| 37/40 [03:08<00:16,  5.51s/trial, best loss: 170.54364618714683]"
     ]
    },
    {
     "name": "stderr",
     "output_type": "stream",
     "text": [
      "/opt/conda/lib/python3.7/site-packages/sklearn/linear_model/_coordinate_descent.py:476: ConvergenceWarning: Objective did not converge. You might want to increase the number of iterations. Duality gap: 5759007.281884576, tolerance: 1330.8976461472394\n",
      "  positive)\n",
      "\n",
      "/opt/conda/lib/python3.7/site-packages/sklearn/linear_model/_coordinate_descent.py:476: ConvergenceWarning: Objective did not converge. You might want to increase the number of iterations. Duality gap: 5331342.366964197, tolerance: 1306.6447314685313\n",
      "  positive)\n",
      "\n",
      "/opt/conda/lib/python3.7/site-packages/sklearn/linear_model/_coordinate_descent.py:476: ConvergenceWarning: Objective did not converge. You might want to increase the number of iterations. Duality gap: 5589147.332537356, tolerance: 1325.4078826156306\n",
      "  positive)\n",
      "\n"
     ]
    },
    {
     "name": "stdout",
     "output_type": "stream",
     "text": [
      "MEAN SCORE : neg_mean_squared_error = -233.3058660049643                         \n",
      "VARIANCE : 9.602981628831392 (fold 1 = -219.7384050134768, fold 2 = -240.6081386194014, fold 3 = -239.57105438201467)\n",
      "CPU time: 3.5079338550567627 seconds                                             \n",
      "##################################################### testing hyper-parameters... #####################################################\n",
      ">>> NA ENCODER :{'numerical_strategy': 0, 'categorical_strategy': '<NULL>'}      \n",
      ">>> CA ENCODER :{'strategy': 'label_encoding'}                                   \n",
      ">>> FEATURE SELECTOR :{'strategy': 'l1', 'threshold': 0.019964469454224712}      \n",
      ">>> ESTIMATOR :{'strategy': 'LightGBM', 'max_depth': 3, 'boosting_type': 'gbdt', 'class_weight': None, 'colsample_bytree': 0.8, 'importance_type': 'split', 'learning_rate': 0.05, 'min_child_samples': 20, 'min_child_weight': 0.001, 'min_split_gain': 0.0, 'n_estimators': 500, 'n_jobs': -1, 'num_leaves': 31, 'objective': None, 'random_state': None, 'reg_alpha': 0.0, 'reg_lambda': 0.0, 'silent': True, 'subsample': 0.9, 'subsample_for_bin': 200000, 'subsample_freq': 0, 'nthread': -1, 'seed': 0}\n",
      " 95%|█████████▌| 38/40 [03:11<00:09,  4.92s/trial, best loss: 170.54364618714683]"
     ]
    },
    {
     "name": "stderr",
     "output_type": "stream",
     "text": [
      "/opt/conda/lib/python3.7/site-packages/sklearn/linear_model/_coordinate_descent.py:476: ConvergenceWarning: Objective did not converge. You might want to increase the number of iterations. Duality gap: 5759007.281884576, tolerance: 1330.8976461472394\n",
      "  positive)\n",
      "\n",
      "/opt/conda/lib/python3.7/site-packages/sklearn/linear_model/_coordinate_descent.py:476: ConvergenceWarning: Objective did not converge. You might want to increase the number of iterations. Duality gap: 5331342.366964197, tolerance: 1306.6447314685313\n",
      "  positive)\n",
      "\n",
      "/opt/conda/lib/python3.7/site-packages/sklearn/linear_model/_coordinate_descent.py:476: ConvergenceWarning: Objective did not converge. You might want to increase the number of iterations. Duality gap: 5589147.332537356, tolerance: 1325.4078826156306\n",
      "  positive)\n",
      "\n"
     ]
    },
    {
     "name": "stdout",
     "output_type": "stream",
     "text": [
      "MEAN SCORE : neg_mean_squared_error = -311.7605332271602                         \n",
      "VARIANCE : 10.094937585700304 (fold 1 = -298.0946937094737, fold 2 = -315.0164053211818, fold 3 = -322.17050065082503)\n",
      "CPU time: 2.5643367767333984 seconds                                             \n",
      "##################################################### testing hyper-parameters... #####################################################\n",
      ">>> NA ENCODER :{'numerical_strategy': 0, 'categorical_strategy': '<NULL>'}      \n",
      ">>> CA ENCODER :{'strategy': 'entity_embedding'}                                 \n",
      ">>> FEATURE SELECTOR :{'strategy': 'l1', 'threshold': 0.25306146990786754}       \n",
      ">>> ESTIMATOR :{'strategy': 'LightGBM', 'max_depth': 6, 'boosting_type': 'gbdt', 'class_weight': None, 'colsample_bytree': 0.8, 'importance_type': 'split', 'learning_rate': 0.05, 'min_child_samples': 20, 'min_child_weight': 0.001, 'min_split_gain': 0.0, 'n_estimators': 500, 'n_jobs': -1, 'num_leaves': 31, 'objective': None, 'random_state': None, 'reg_alpha': 0.0, 'reg_lambda': 0.0, 'silent': True, 'subsample': 0.9, 'subsample_for_bin': 200000, 'subsample_freq': 0, 'nthread': -1, 'seed': 0}\n",
      " 98%|█████████▊| 39/40 [03:14<00:04,  4.23s/trial, best loss: 170.54364618714683]"
     ]
    },
    {
     "name": "stderr",
     "output_type": "stream",
     "text": [
      "/opt/conda/lib/python3.7/site-packages/sklearn/linear_model/_coordinate_descent.py:476: ConvergenceWarning: Objective did not converge. You might want to increase the number of iterations. Duality gap: 5759007.281884576, tolerance: 1330.8976461472394\n",
      "  positive)\n",
      "\n",
      "/opt/conda/lib/python3.7/site-packages/sklearn/linear_model/_coordinate_descent.py:476: ConvergenceWarning: Objective did not converge. You might want to increase the number of iterations. Duality gap: 5331342.366964197, tolerance: 1306.6447314685313\n",
      "  positive)\n",
      "\n",
      "/opt/conda/lib/python3.7/site-packages/sklearn/linear_model/_coordinate_descent.py:476: ConvergenceWarning: Objective did not converge. You might want to increase the number of iterations. Duality gap: 5589147.332537356, tolerance: 1325.4078826156306\n",
      "  positive)\n",
      "\n"
     ]
    },
    {
     "name": "stdout",
     "output_type": "stream",
     "text": [
      "MEAN SCORE : neg_mean_squared_error = -174.67717672441282                        \n",
      "VARIANCE : 5.501864652483698 (fold 1 = -166.9035751198656, fold 2 = -178.27395933465385, fold 3 = -178.85399571871903)\n",
      "CPU time: 6.229955196380615 seconds                                              \n",
      "100%|██████████| 40/40 [03:20<00:00,  5.02s/trial, best loss: 170.54364618714683]\n",
      "\n",
      "\n",
      "~~~~~~~~~~~~~~~~~~~~~~~~~~~~~~~~~~~~~~~~~~~~~~~~~~~~~~~~~~~~~~~~~~~~~~~~~~~~~~~~~~~~~~~~~~~~~~~~~~~~~~~~~~~~~~~~~~~~~~~~~~~~~~~~~~~~~~~~~\n",
      "~~~~~~~~~~~~~~~~~~~~~~~~~~~~~~~~~~~~~~~~~~~~~~~~~~~~~~~~~ BEST HYPER-PARAMETERS ~~~~~~~~~~~~~~~~~~~~~~~~~~~~~~~~~~~~~~~~~~~~~~~~~~~~~~~~~\n",
      "~~~~~~~~~~~~~~~~~~~~~~~~~~~~~~~~~~~~~~~~~~~~~~~~~~~~~~~~~~~~~~~~~~~~~~~~~~~~~~~~~~~~~~~~~~~~~~~~~~~~~~~~~~~~~~~~~~~~~~~~~~~~~~~~~~~~~~~~~\n",
      "\n",
      "{'ce__strategy': 'entity_embedding', 'est__max_depth': 7, 'fs__threshold': 0.05173766265956951, 'ne__numerical_strategy': 0}\n",
      "\n",
      "##################################################### testing hyper-parameters... #####################################################\n",
      "\n",
      ">>> NA ENCODER :{'numerical_strategy': 0, 'categorical_strategy': '<NULL>'}\n",
      "\n",
      ">>> CA ENCODER :{'strategy': 'entity_embedding'}\n",
      "\n",
      ">>> FEATURE SELECTOR :{'strategy': 'l1', 'threshold': 0.05173766265956951}\n",
      "\n",
      ">>> ESTIMATOR :{'strategy': 'LightGBM', 'max_depth': 7, 'boosting_type': 'gbdt', 'class_weight': None, 'colsample_bytree': 0.8, 'importance_type': 'split', 'learning_rate': 0.05, 'min_child_samples': 20, 'min_child_weight': 0.001, 'min_split_gain': 0.0, 'n_estimators': 500, 'n_jobs': -1, 'num_leaves': 31, 'objective': None, 'random_state': None, 'reg_alpha': 0.0, 'reg_lambda': 0.0, 'silent': True, 'subsample': 0.9, 'subsample_for_bin': 200000, 'subsample_freq': 0, 'nthread': -1, 'seed': 0}\n",
      "\n"
     ]
    },
    {
     "name": "stderr",
     "output_type": "stream",
     "text": [
      "/opt/conda/lib/python3.7/site-packages/sklearn/linear_model/_coordinate_descent.py:476: ConvergenceWarning: Objective did not converge. You might want to increase the number of iterations. Duality gap: 5759007.281884576, tolerance: 1330.8976461472394\n",
      "  positive)\n",
      "/opt/conda/lib/python3.7/site-packages/sklearn/linear_model/_coordinate_descent.py:476: ConvergenceWarning: Objective did not converge. You might want to increase the number of iterations. Duality gap: 5331342.366964197, tolerance: 1306.6447314685313\n",
      "  positive)\n",
      "/opt/conda/lib/python3.7/site-packages/sklearn/linear_model/_coordinate_descent.py:476: ConvergenceWarning: Objective did not converge. You might want to increase the number of iterations. Duality gap: 5589147.332537356, tolerance: 1325.4078826156306\n",
      "  positive)\n"
     ]
    },
    {
     "name": "stdout",
     "output_type": "stream",
     "text": [
      "\n",
      "MEAN SCORE : neg_mean_squared_error = -170.54364618714683\n",
      "VARIANCE : 4.3465765548258 (fold 1 = -164.51930673783417, fold 2 = -174.61392378439146, fold 3 = -172.4977080392149)\n",
      "CPU time: 6.651137828826904 seconds\n",
      "\n",
      "Final results : -170.54364618714683\n"
     ]
    }
   ],
   "source": [
    "best = opt.optimise(space,data,40)\n",
    "print(\"Final results :\" ,opt.evaluate(best, data))"
   ]
  },
  {
   "cell_type": "markdown",
   "metadata": {},
   "source": [
    "Make a prediction"
   ]
  },
  {
   "cell_type": "code",
   "execution_count": 11,
   "metadata": {},
   "outputs": [
    {
     "name": "stdout",
     "output_type": "stream",
     "text": [
      "\n",
      "fitting the pipeline ...\n"
     ]
    },
    {
     "name": "stderr",
     "output_type": "stream",
     "text": [
      "/opt/conda/lib/python3.7/site-packages/sklearn/linear_model/_coordinate_descent.py:476: ConvergenceWarning: Objective did not converge. You might want to increase the number of iterations. Duality gap: 8395496.948463427, tolerance: 1981.4766918043524\n",
      "  positive)\n"
     ]
    },
    {
     "name": "stdout",
     "output_type": "stream",
     "text": [
      "CPU time: 2.3373866081237793 seconds\n",
      "\n",
      "> Feature importances dumped into directory : save\n",
      "\n",
      "predicting...\n",
      "CPU time: 0.3124966621398926 seconds\n",
      "\n",
      "> Overview on predictions : \n",
      "\n",
      "   AveragePrice_predicted\n",
      "0              117.372834\n",
      "1              210.799902\n",
      "2              140.863435\n",
      "3              209.266109\n",
      "4              119.459608\n",
      "5              131.543681\n",
      "6              139.468283\n",
      "7              175.802513\n",
      "8              121.024673\n",
      "9               96.659715\n",
      "\n",
      "dumping predictions into directory : save ...\n"
     ]
    },
    {
     "data": {
      "text/plain": [
       "<mlbox.prediction.predictor.Predictor at 0x7fd19ea50bd0>"
      ]
     },
     "execution_count": 11,
     "metadata": {},
     "output_type": "execute_result"
    }
   ],
   "source": [
    "from mlbox.prediction import *\n",
    "pred=Predictor()\n",
    "pred.fit_predict(best,data)"
   ]
  },
  {
   "cell_type": "markdown",
   "metadata": {},
   "source": [
    "Getting the predictions and targets"
   ]
  },
  {
   "cell_type": "code",
   "execution_count": 12,
   "metadata": {},
   "outputs": [],
   "source": [
    "y_pred = pd.read_csv(\"save/AveragePrice_predictions.csv\")\n",
    "predictions = y_pred.AveragePrice_predicted\n",
    "y_test = pd.read_csv(\"../../Data/avocado_price/processed/y_test.csv\")"
   ]
  },
  {
   "cell_type": "markdown",
   "metadata": {},
   "source": [
    "Calculating RMSE"
   ]
  },
  {
   "cell_type": "code",
   "execution_count": 13,
   "metadata": {},
   "outputs": [
    {
     "name": "stdout",
     "output_type": "stream",
     "text": [
      "rmse score: 12.225484120626746\n"
     ]
    }
   ],
   "source": [
    "from sklearn.metrics import mean_squared_error\n",
    "from math import sqrt\n",
    "print(\"rmse score:\", sqrt(mean_squared_error(y_test, predictions)))"
   ]
  },
  {
   "cell_type": "markdown",
   "metadata": {},
   "source": [
    "## Residual Plot"
   ]
  },
  {
   "cell_type": "code",
   "execution_count": 14,
   "metadata": {},
   "outputs": [],
   "source": [
    "import matplotlib.pyplot as plt\n",
    "\n",
    "plt.scatter(predictions, predictions - y_test.AveragePrice, c=\"grey\", label=\"Testing Data\")\n",
    "plt.legend()\n",
    "plt.hlines(y=0, xmin=y_test.min(), xmax=y_test.max())\n",
    "plt.title(\"Residual Plot\")\n",
    "plt.show()"
   ]
  }
 ],
 "metadata": {
  "kernelspec": {
   "display_name": "Python 3",
   "language": "python",
   "name": "python3"
  },
  "language_info": {
   "codemirror_mode": {
    "name": "ipython",
    "version": 3
   },
   "file_extension": ".py",
   "mimetype": "text/x-python",
   "name": "python",
   "nbconvert_exporter": "python",
   "pygments_lexer": "ipython3",
   "version": "3.7.4"
  }
 },
 "nbformat": 4,
 "nbformat_minor": 4
}
