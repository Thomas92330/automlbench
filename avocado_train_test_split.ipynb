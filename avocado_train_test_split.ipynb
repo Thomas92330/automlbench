{
 "cells": [
  {
   "cell_type": "markdown",
   "metadata": {},
   "source": [
    "# Train-Test split of Avocado"
   ]
  },
  {
   "cell_type": "markdown",
   "metadata": {},
   "source": [
    "#### Goal:"
   ]
  },
  {
   "cell_type": "markdown",
   "metadata": {},
   "source": [
    "Splitting our dataset in differents part for having results for our Auto-ML models more comparable"
   ]
  },
  {
   "cell_type": "markdown",
   "metadata": {},
   "source": [
    "Importing our already treated data set"
   ]
  },
  {
   "cell_type": "code",
   "execution_count": 1,
   "metadata": {},
   "outputs": [
    {
     "data": {
      "text/html": [
       "<div>\n",
       "<style scoped>\n",
       "    .dataframe tbody tr th:only-of-type {\n",
       "        vertical-align: middle;\n",
       "    }\n",
       "\n",
       "    .dataframe tbody tr th {\n",
       "        vertical-align: top;\n",
       "    }\n",
       "\n",
       "    .dataframe thead th {\n",
       "        text-align: right;\n",
       "    }\n",
       "</style>\n",
       "<table border=\"1\" class=\"dataframe\">\n",
       "  <thead>\n",
       "    <tr style=\"text-align: right;\">\n",
       "      <th></th>\n",
       "      <th>AveragePrice</th>\n",
       "      <th>Total Volume</th>\n",
       "      <th>4046</th>\n",
       "      <th>4225</th>\n",
       "      <th>4770</th>\n",
       "      <th>Total Bags</th>\n",
       "      <th>Small Bags</th>\n",
       "      <th>Large Bags</th>\n",
       "      <th>XLarge Bags</th>\n",
       "      <th>year</th>\n",
       "      <th>region</th>\n",
       "      <th>Month</th>\n",
       "      <th>Day</th>\n",
       "      <th>type_conventional</th>\n",
       "      <th>type_organic</th>\n",
       "    </tr>\n",
       "  </thead>\n",
       "  <tbody>\n",
       "    <tr>\n",
       "      <th>0</th>\n",
       "      <td>133</td>\n",
       "      <td>6423662</td>\n",
       "      <td>103674</td>\n",
       "      <td>5445485</td>\n",
       "      <td>4816</td>\n",
       "      <td>869687</td>\n",
       "      <td>860362</td>\n",
       "      <td>9325</td>\n",
       "      <td>0</td>\n",
       "      <td>2015</td>\n",
       "      <td>0</td>\n",
       "      <td>12</td>\n",
       "      <td>27</td>\n",
       "      <td>1</td>\n",
       "      <td>0</td>\n",
       "    </tr>\n",
       "    <tr>\n",
       "      <th>1</th>\n",
       "      <td>135</td>\n",
       "      <td>5487698</td>\n",
       "      <td>67428</td>\n",
       "      <td>4463881</td>\n",
       "      <td>5833</td>\n",
       "      <td>950556</td>\n",
       "      <td>940807</td>\n",
       "      <td>9749</td>\n",
       "      <td>0</td>\n",
       "      <td>2015</td>\n",
       "      <td>0</td>\n",
       "      <td>12</td>\n",
       "      <td>20</td>\n",
       "      <td>1</td>\n",
       "      <td>0</td>\n",
       "    </tr>\n",
       "    <tr>\n",
       "      <th>2</th>\n",
       "      <td>93</td>\n",
       "      <td>11822022</td>\n",
       "      <td>79470</td>\n",
       "      <td>10914967</td>\n",
       "      <td>13050</td>\n",
       "      <td>814535</td>\n",
       "      <td>804221</td>\n",
       "      <td>10314</td>\n",
       "      <td>0</td>\n",
       "      <td>2015</td>\n",
       "      <td>0</td>\n",
       "      <td>12</td>\n",
       "      <td>13</td>\n",
       "      <td>1</td>\n",
       "      <td>0</td>\n",
       "    </tr>\n",
       "    <tr>\n",
       "      <th>3</th>\n",
       "      <td>108</td>\n",
       "      <td>7899214</td>\n",
       "      <td>113200</td>\n",
       "      <td>7197641</td>\n",
       "      <td>7258</td>\n",
       "      <td>581116</td>\n",
       "      <td>567740</td>\n",
       "      <td>13376</td>\n",
       "      <td>0</td>\n",
       "      <td>2015</td>\n",
       "      <td>0</td>\n",
       "      <td>12</td>\n",
       "      <td>6</td>\n",
       "      <td>1</td>\n",
       "      <td>0</td>\n",
       "    </tr>\n",
       "    <tr>\n",
       "      <th>4</th>\n",
       "      <td>128</td>\n",
       "      <td>5103960</td>\n",
       "      <td>94148</td>\n",
       "      <td>4383839</td>\n",
       "      <td>7578</td>\n",
       "      <td>618395</td>\n",
       "      <td>598626</td>\n",
       "      <td>19769</td>\n",
       "      <td>0</td>\n",
       "      <td>2015</td>\n",
       "      <td>0</td>\n",
       "      <td>11</td>\n",
       "      <td>29</td>\n",
       "      <td>1</td>\n",
       "      <td>0</td>\n",
       "    </tr>\n",
       "  </tbody>\n",
       "</table>\n",
       "</div>"
      ],
      "text/plain": [
       "   AveragePrice  Total Volume    4046      4225   4770  Total Bags  \\\n",
       "0           133       6423662  103674   5445485   4816      869687   \n",
       "1           135       5487698   67428   4463881   5833      950556   \n",
       "2            93      11822022   79470  10914967  13050      814535   \n",
       "3           108       7899214  113200   7197641   7258      581116   \n",
       "4           128       5103960   94148   4383839   7578      618395   \n",
       "\n",
       "   Small Bags  Large Bags  XLarge Bags  year  region  Month  Day  \\\n",
       "0      860362        9325            0  2015       0     12   27   \n",
       "1      940807        9749            0  2015       0     12   20   \n",
       "2      804221       10314            0  2015       0     12   13   \n",
       "3      567740       13376            0  2015       0     12    6   \n",
       "4      598626       19769            0  2015       0     11   29   \n",
       "\n",
       "   type_conventional  type_organic  \n",
       "0                  1             0  \n",
       "1                  1             0  \n",
       "2                  1             0  \n",
       "3                  1             0  \n",
       "4                  1             0  "
      ]
     },
     "execution_count": 1,
     "metadata": {},
     "output_type": "execute_result"
    }
   ],
   "source": [
    "import pandas as pd\n",
    "df = pd.read_csv(\"no_nan_id.csv\")\n",
    "df = df.drop('Unnamed: 0',axis=1)\n",
    "df.head()"
   ]
  },
  {
   "cell_type": "markdown",
   "metadata": {},
   "source": [
    "Splitting of our data set in \"train\" and \"test\" with a 33% ratio"
   ]
  },
  {
   "cell_type": "code",
   "execution_count": 2,
   "metadata": {},
   "outputs": [],
   "source": [
    "import numpy as np\n",
    "from sklearn.model_selection import train_test_split\n",
    "\n",
    "train,test = train_test_split(df,test_size=0.33)"
   ]
  },
  {
   "cell_type": "markdown",
   "metadata": {},
   "source": [
    "Splitting \"train\" and \"test\" in \"X\" and \"y\". \n",
    "- X having the features \n",
    "- y having the target"
   ]
  },
  {
   "cell_type": "code",
   "execution_count": 5,
   "metadata": {},
   "outputs": [],
   "source": [
    "X_train = train.drop(\"AveragePrice\",axis=1)\n",
    "X_test = test.drop(\"AveragePrice\",axis=1)\n",
    "\n",
    "y_train = train\n",
    "for col in train.columns:\n",
    "    if col != \"AveragePrice\":\n",
    "        y_train = y_train.drop(col,axis=1)\n",
    "\n",
    "y_test = test\n",
    "for col in test.columns:\n",
    "    if col != \"AveragePrice\":\n",
    "        y_test = y_test.drop(col,axis=1)"
   ]
  },
  {
   "cell_type": "markdown",
   "metadata": {},
   "source": [
    "Exporting the created sub-datasets"
   ]
  },
  {
   "cell_type": "code",
   "execution_count": 10,
   "metadata": {},
   "outputs": [],
   "source": [
    "X_train.to_csv(\"processed/x_train.csv\",index=False)\n",
    "y_train.to_csv(\"processed/y_train.csv\",index=False)\n",
    "X_test.to_csv(\"processed/x_test.csv\",index=False)\n",
    "y_test.to_csv(\"processed/y_test.csv\",index=False)\n",
    "train.to_csv(\"processed/train.csv\",index=False)\n",
    "test.to_csv(\"processed/test.csv\",index=False)"
   ]
  }
 ],
 "metadata": {
  "kernelspec": {
   "display_name": "Python 3",
   "language": "python",
   "name": "python3"
  },
  "language_info": {
   "codemirror_mode": {
    "name": "ipython",
    "version": 3
   },
   "file_extension": ".py",
   "mimetype": "text/x-python",
   "name": "python",
   "nbconvert_exporter": "python",
   "pygments_lexer": "ipython3",
   "version": "3.7.4"
  }
 },
 "nbformat": 4,
 "nbformat_minor": 4
}
